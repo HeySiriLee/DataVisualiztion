{
 "cells": [
  {
   "cell_type": "code",
   "execution_count": 2,
   "metadata": {},
   "outputs": [],
   "source": [
    "# Load the matplotlib and pandas libraries\n",
    "import matplotlib.pyplot as plt\n",
    "import pandas as pd"
   ]
  },
  {
   "cell_type": "code",
   "execution_count": 3,
   "metadata": {},
   "outputs": [],
   "source": [
    "# Load the Korean support package\n",
    "import matplotlib.font_manager as fm\n",
    "plt.rc('font', family = 'Malgun Gothic')"
   ]
  },
  {
   "cell_type": "code",
   "execution_count": null,
   "metadata": {},
   "outputs": [],
   "source": [
    "df = pd.read_csv(\"06. 데이터 시각화 기초_penguins_lter_result.csv\")"
   ]
  },
  {
   "cell_type": "code",
   "execution_count": null,
   "metadata": {},
   "outputs": [],
   "source": [
    "# 1. Bar Graph"
   ]
  },
  {
   "cell_type": "code",
   "execution_count": null,
   "metadata": {},
   "outputs": [],
   "source": [
    "species_counts = df['Species'].value_counts()\n",
    "print(species_counts)"
   ]
  },
  {
   "cell_type": "code",
   "execution_count": null,
   "metadata": {},
   "outputs": [],
   "source": [
    "# Basic drawing of bar graph\n",
    "plt.figure(figsize = (2, 2))\n",
    "species_counts.plot(kind = 'bar')\n",
    "\n",
    "plt.title('Penguin specie counts')\n",
    "plt.xlabel('specie')\n",
    "plt.ylabel('count')\n",
    "\n",
    "plt.show()"
   ]
  },
  {
   "cell_type": "code",
   "execution_count": null,
   "metadata": {},
   "outputs": [],
   "source": [
    "# Decorating a bar graph\n",
    "plt.figure(figsize = (2, 2))\n",
    "species_counts.plot(\n",
    "    kind = 'bar', \n",
    "    color = ['yellow', 'lightgrey', 'lightgrey']\n",
    "    )\n",
    "\n",
    "plt.title('Penguin specie counts')\n",
    "plt.xlabel('Specie')\n",
    "plt.ylabel('Count')\n",
    "\n",
    "plt.show()"
   ]
  },
  {
   "cell_type": "code",
   "execution_count": null,
   "metadata": {},
   "outputs": [],
   "source": [
    "# Decorating a bar graph (alpha: transparency of the bar, ha: position on the x-axis, va: position on the y-axis)\n",
    "plt.figure(figsize = (5, 5))\n",
    "species_counts.plot(\n",
    "    kind = 'bar', \n",
    "    color = ['yellow', 'lightgrey', 'lightgrey'], \n",
    "    edgecolor = ['black', 'lightgrey', 'lightgrey'], \n",
    "    linewidth = 1.5, \n",
    "    alpha = 0.5\n",
    "    )\n",
    "\n",
    "for index, value in enumerate(species_counts):\n",
    "    plt.text(index, value, str(value), ha = 'center', va = 'bottom')\n",
    "\n",
    "plt.xticks(rotation = 50)\n",
    "plt.title('Various species of penguins')\n",
    "plt.xlabel('Specie')\n",
    "plt.ylabel('Count')\n",
    "\n",
    "plt.show()"
   ]
  },
  {
   "cell_type": "code",
   "execution_count": 9,
   "metadata": {},
   "outputs": [],
   "source": [
    "# 2.Pie chart"
   ]
  },
  {
   "cell_type": "code",
   "execution_count": null,
   "metadata": {},
   "outputs": [],
   "source": [
    "sex_counts = df['Sex'].value_counts()\n",
    "print(sex_counts)"
   ]
  },
  {
   "cell_type": "code",
   "execution_count": null,
   "metadata": {},
   "outputs": [],
   "source": [
    "# Basic drawing of pie chart\n",
    "plt.figure(figsize = (5, 5))\n",
    "plt.pie(sex_counts, labels = sex_counts.index, autopct = '%1.1f%%')\n",
    "\n",
    "plt.title(\"Penguin's sex ratio(%)\")\n",
    "\n",
    "plt.show()"
   ]
  },
  {
   "cell_type": "code",
   "execution_count": null,
   "metadata": {},
   "outputs": [],
   "source": [
    "# Decorating a pie graph (startangle: chart's angle, explode: interval between data)\n",
    "plt.figure(figsize = (5, 5))\n",
    "\n",
    "plt.pie(sex_counts, labels = sex_counts.index, autopct = '%1.1f%%', startangle = 90, colors = ['skyblue', 'lightpink'], explode = [0.05, 0.0], shadow = True)\n",
    "\n",
    "plt.title(\"Penguin's sex ratio(%)\")\n",
    "\n",
    "plt.show()"
   ]
  },
  {
   "cell_type": "code",
   "execution_count": 13,
   "metadata": {},
   "outputs": [],
   "source": [
    "# 3.Heatmap graph \n",
    "# - Only numeric data is needed\n",
    "# ? The closer it is to 1, the more proportional it is. \n",
    "# ? The closer it is to -1, the inversely proportional."
   ]
  },
  {
   "cell_type": "code",
   "execution_count": 14,
   "metadata": {},
   "outputs": [],
   "source": [
    "numeric_data = df.select_dtypes(include = ['number'])"
   ]
  },
  {
   "cell_type": "code",
   "execution_count": null,
   "metadata": {},
   "outputs": [],
   "source": [
    "# Calculate correlation values ​​between data\n",
    "corr_matrix = numeric_data.corr()\n",
    "print(corr_matrix)"
   ]
  },
  {
   "cell_type": "code",
   "execution_count": null,
   "metadata": {},
   "outputs": [],
   "source": [
    "# Basic drawing of heatmap graph\n",
    "plt.figure(figsize = (5, 5))\n",
    "plt.imshow(corr_matrix, cmap = 'coolwarm')\n",
    "plt.colorbar()\n",
    "\n",
    "plt.title('Heatmap graph by penguin characteristics')\n",
    "plt.xticks(range(len(corr_matrix.columns)), corr_matrix.columns, rotation = 50)\n",
    "plt.yticks(range(len(corr_matrix.columns)), corr_matrix.columns)"
   ]
  },
  {
   "cell_type": "code",
   "execution_count": null,
   "metadata": {},
   "outputs": [],
   "source": [
    "# Decorating a heatmap graph (interpolation: Corrects the axial spacing of pixels)\n",
    "plt.figure(figsize = (5, 5))\n",
    "plt.imshow(corr_matrix, cmap = 'PuBuGn', interpolation = 'nearest')\n",
    "plt.colorbar()\n",
    "\n",
    "plt.title('Heatmap graph by penguin characteristics')\n",
    "plt.xticks(range(len(corr_matrix.columns)), corr_matrix.columns, rotation = 50)\n",
    "plt.yticks(range(len(corr_matrix.columns)), corr_matrix.columns)\n",
    "\n",
    "for y_value in range(len(corr_matrix.columns)):\n",
    "    for x_value in range(len(corr_matrix.columns)):\n",
    "        plt.text(x_value,y_value,f'{corr_matrix.iloc[y_value, x_value]:.2f}', ha = 'center', va = 'center', color = 'black')"
   ]
  }
 ],
 "metadata": {
  "kernelspec": {
   "display_name": "ydpdata",
   "language": "python",
   "name": "python3"
  },
  "language_info": {
   "codemirror_mode": {
    "name": "ipython",
    "version": 3
   },
   "file_extension": ".py",
   "mimetype": "text/x-python",
   "name": "python",
   "nbconvert_exporter": "python",
   "pygments_lexer": "ipython3",
   "version": "3.12.4"
  }
 },
 "nbformat": 4,
 "nbformat_minor": 2
}
