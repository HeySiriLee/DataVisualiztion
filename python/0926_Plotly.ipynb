{
 "cells": [
  {
   "cell_type": "code",
   "execution_count": 29,
   "metadata": {},
   "outputs": [],
   "source": [
    "import pandas as pd\n",
    "import matplotlib.pyplot as plt\n",
    "import plotly.graph_objects as go"
   ]
  },
  {
   "cell_type": "code",
   "execution_count": 30,
   "metadata": {},
   "outputs": [],
   "source": [
    "import matplotlib.font_manager as fm\n",
    "plt.rc('font', family = 'Malgun Gothic')"
   ]
  },
  {
   "cell_type": "code",
   "execution_count": 31,
   "metadata": {},
   "outputs": [],
   "source": [
    "df = pd.read_csv(\"06. 데이터 시각화 기초_penguins_lter_result.csv\")"
   ]
  },
  {
   "cell_type": "code",
   "execution_count": 32,
   "metadata": {},
   "outputs": [],
   "source": [
    "species_counts = df['Species'].value_counts()"
   ]
  },
  {
   "cell_type": "code",
   "execution_count": 33,
   "metadata": {},
   "outputs": [],
   "source": [
    "# 1.Bar Graph"
   ]
  },
  {
   "cell_type": "code",
   "execution_count": 34,
   "metadata": {},
   "outputs": [
    {
     "data": {
      "application/vnd.plotly.v1+json": {
       "config": {
        "plotlyServerURL": "https://plot.ly"
       },
       "data": [
        {
         "text": [
          146,
          119,
          68
         ],
         "textposition": "auto",
         "type": "bar",
         "x": [
          "Adelie Penguin (Pygoscelis adeliae)",
          "Gentoo penguin (Pygoscelis papua)",
          "Chinstrap penguin (Pygoscelis antarctica)"
         ],
         "y": [
          146,
          119,
          68
         ]
        }
       ],
       "layout": {
        "template": {
         "data": {
          "bar": [
           {
            "error_x": {
             "color": "#2a3f5f"
            },
            "error_y": {
             "color": "#2a3f5f"
            },
            "marker": {
             "line": {
              "color": "#E5ECF6",
              "width": 0.5
             },
             "pattern": {
              "fillmode": "overlay",
              "size": 10,
              "solidity": 0.2
             }
            },
            "type": "bar"
           }
          ],
          "barpolar": [
           {
            "marker": {
             "line": {
              "color": "#E5ECF6",
              "width": 0.5
             },
             "pattern": {
              "fillmode": "overlay",
              "size": 10,
              "solidity": 0.2
             }
            },
            "type": "barpolar"
           }
          ],
          "carpet": [
           {
            "aaxis": {
             "endlinecolor": "#2a3f5f",
             "gridcolor": "white",
             "linecolor": "white",
             "minorgridcolor": "white",
             "startlinecolor": "#2a3f5f"
            },
            "baxis": {
             "endlinecolor": "#2a3f5f",
             "gridcolor": "white",
             "linecolor": "white",
             "minorgridcolor": "white",
             "startlinecolor": "#2a3f5f"
            },
            "type": "carpet"
           }
          ],
          "choropleth": [
           {
            "colorbar": {
             "outlinewidth": 0,
             "ticks": ""
            },
            "type": "choropleth"
           }
          ],
          "contour": [
           {
            "colorbar": {
             "outlinewidth": 0,
             "ticks": ""
            },
            "colorscale": [
             [
              0,
              "#0d0887"
             ],
             [
              0.1111111111111111,
              "#46039f"
             ],
             [
              0.2222222222222222,
              "#7201a8"
             ],
             [
              0.3333333333333333,
              "#9c179e"
             ],
             [
              0.4444444444444444,
              "#bd3786"
             ],
             [
              0.5555555555555556,
              "#d8576b"
             ],
             [
              0.6666666666666666,
              "#ed7953"
             ],
             [
              0.7777777777777778,
              "#fb9f3a"
             ],
             [
              0.8888888888888888,
              "#fdca26"
             ],
             [
              1,
              "#f0f921"
             ]
            ],
            "type": "contour"
           }
          ],
          "contourcarpet": [
           {
            "colorbar": {
             "outlinewidth": 0,
             "ticks": ""
            },
            "type": "contourcarpet"
           }
          ],
          "heatmap": [
           {
            "colorbar": {
             "outlinewidth": 0,
             "ticks": ""
            },
            "colorscale": [
             [
              0,
              "#0d0887"
             ],
             [
              0.1111111111111111,
              "#46039f"
             ],
             [
              0.2222222222222222,
              "#7201a8"
             ],
             [
              0.3333333333333333,
              "#9c179e"
             ],
             [
              0.4444444444444444,
              "#bd3786"
             ],
             [
              0.5555555555555556,
              "#d8576b"
             ],
             [
              0.6666666666666666,
              "#ed7953"
             ],
             [
              0.7777777777777778,
              "#fb9f3a"
             ],
             [
              0.8888888888888888,
              "#fdca26"
             ],
             [
              1,
              "#f0f921"
             ]
            ],
            "type": "heatmap"
           }
          ],
          "heatmapgl": [
           {
            "colorbar": {
             "outlinewidth": 0,
             "ticks": ""
            },
            "colorscale": [
             [
              0,
              "#0d0887"
             ],
             [
              0.1111111111111111,
              "#46039f"
             ],
             [
              0.2222222222222222,
              "#7201a8"
             ],
             [
              0.3333333333333333,
              "#9c179e"
             ],
             [
              0.4444444444444444,
              "#bd3786"
             ],
             [
              0.5555555555555556,
              "#d8576b"
             ],
             [
              0.6666666666666666,
              "#ed7953"
             ],
             [
              0.7777777777777778,
              "#fb9f3a"
             ],
             [
              0.8888888888888888,
              "#fdca26"
             ],
             [
              1,
              "#f0f921"
             ]
            ],
            "type": "heatmapgl"
           }
          ],
          "histogram": [
           {
            "marker": {
             "pattern": {
              "fillmode": "overlay",
              "size": 10,
              "solidity": 0.2
             }
            },
            "type": "histogram"
           }
          ],
          "histogram2d": [
           {
            "colorbar": {
             "outlinewidth": 0,
             "ticks": ""
            },
            "colorscale": [
             [
              0,
              "#0d0887"
             ],
             [
              0.1111111111111111,
              "#46039f"
             ],
             [
              0.2222222222222222,
              "#7201a8"
             ],
             [
              0.3333333333333333,
              "#9c179e"
             ],
             [
              0.4444444444444444,
              "#bd3786"
             ],
             [
              0.5555555555555556,
              "#d8576b"
             ],
             [
              0.6666666666666666,
              "#ed7953"
             ],
             [
              0.7777777777777778,
              "#fb9f3a"
             ],
             [
              0.8888888888888888,
              "#fdca26"
             ],
             [
              1,
              "#f0f921"
             ]
            ],
            "type": "histogram2d"
           }
          ],
          "histogram2dcontour": [
           {
            "colorbar": {
             "outlinewidth": 0,
             "ticks": ""
            },
            "colorscale": [
             [
              0,
              "#0d0887"
             ],
             [
              0.1111111111111111,
              "#46039f"
             ],
             [
              0.2222222222222222,
              "#7201a8"
             ],
             [
              0.3333333333333333,
              "#9c179e"
             ],
             [
              0.4444444444444444,
              "#bd3786"
             ],
             [
              0.5555555555555556,
              "#d8576b"
             ],
             [
              0.6666666666666666,
              "#ed7953"
             ],
             [
              0.7777777777777778,
              "#fb9f3a"
             ],
             [
              0.8888888888888888,
              "#fdca26"
             ],
             [
              1,
              "#f0f921"
             ]
            ],
            "type": "histogram2dcontour"
           }
          ],
          "mesh3d": [
           {
            "colorbar": {
             "outlinewidth": 0,
             "ticks": ""
            },
            "type": "mesh3d"
           }
          ],
          "parcoords": [
           {
            "line": {
             "colorbar": {
              "outlinewidth": 0,
              "ticks": ""
             }
            },
            "type": "parcoords"
           }
          ],
          "pie": [
           {
            "automargin": true,
            "type": "pie"
           }
          ],
          "scatter": [
           {
            "fillpattern": {
             "fillmode": "overlay",
             "size": 10,
             "solidity": 0.2
            },
            "type": "scatter"
           }
          ],
          "scatter3d": [
           {
            "line": {
             "colorbar": {
              "outlinewidth": 0,
              "ticks": ""
             }
            },
            "marker": {
             "colorbar": {
              "outlinewidth": 0,
              "ticks": ""
             }
            },
            "type": "scatter3d"
           }
          ],
          "scattercarpet": [
           {
            "marker": {
             "colorbar": {
              "outlinewidth": 0,
              "ticks": ""
             }
            },
            "type": "scattercarpet"
           }
          ],
          "scattergeo": [
           {
            "marker": {
             "colorbar": {
              "outlinewidth": 0,
              "ticks": ""
             }
            },
            "type": "scattergeo"
           }
          ],
          "scattergl": [
           {
            "marker": {
             "colorbar": {
              "outlinewidth": 0,
              "ticks": ""
             }
            },
            "type": "scattergl"
           }
          ],
          "scattermapbox": [
           {
            "marker": {
             "colorbar": {
              "outlinewidth": 0,
              "ticks": ""
             }
            },
            "type": "scattermapbox"
           }
          ],
          "scatterpolar": [
           {
            "marker": {
             "colorbar": {
              "outlinewidth": 0,
              "ticks": ""
             }
            },
            "type": "scatterpolar"
           }
          ],
          "scatterpolargl": [
           {
            "marker": {
             "colorbar": {
              "outlinewidth": 0,
              "ticks": ""
             }
            },
            "type": "scatterpolargl"
           }
          ],
          "scatterternary": [
           {
            "marker": {
             "colorbar": {
              "outlinewidth": 0,
              "ticks": ""
             }
            },
            "type": "scatterternary"
           }
          ],
          "surface": [
           {
            "colorbar": {
             "outlinewidth": 0,
             "ticks": ""
            },
            "colorscale": [
             [
              0,
              "#0d0887"
             ],
             [
              0.1111111111111111,
              "#46039f"
             ],
             [
              0.2222222222222222,
              "#7201a8"
             ],
             [
              0.3333333333333333,
              "#9c179e"
             ],
             [
              0.4444444444444444,
              "#bd3786"
             ],
             [
              0.5555555555555556,
              "#d8576b"
             ],
             [
              0.6666666666666666,
              "#ed7953"
             ],
             [
              0.7777777777777778,
              "#fb9f3a"
             ],
             [
              0.8888888888888888,
              "#fdca26"
             ],
             [
              1,
              "#f0f921"
             ]
            ],
            "type": "surface"
           }
          ],
          "table": [
           {
            "cells": {
             "fill": {
              "color": "#EBF0F8"
             },
             "line": {
              "color": "white"
             }
            },
            "header": {
             "fill": {
              "color": "#C8D4E3"
             },
             "line": {
              "color": "white"
             }
            },
            "type": "table"
           }
          ]
         },
         "layout": {
          "annotationdefaults": {
           "arrowcolor": "#2a3f5f",
           "arrowhead": 0,
           "arrowwidth": 1
          },
          "autotypenumbers": "strict",
          "coloraxis": {
           "colorbar": {
            "outlinewidth": 0,
            "ticks": ""
           }
          },
          "colorscale": {
           "diverging": [
            [
             0,
             "#8e0152"
            ],
            [
             0.1,
             "#c51b7d"
            ],
            [
             0.2,
             "#de77ae"
            ],
            [
             0.3,
             "#f1b6da"
            ],
            [
             0.4,
             "#fde0ef"
            ],
            [
             0.5,
             "#f7f7f7"
            ],
            [
             0.6,
             "#e6f5d0"
            ],
            [
             0.7,
             "#b8e186"
            ],
            [
             0.8,
             "#7fbc41"
            ],
            [
             0.9,
             "#4d9221"
            ],
            [
             1,
             "#276419"
            ]
           ],
           "sequential": [
            [
             0,
             "#0d0887"
            ],
            [
             0.1111111111111111,
             "#46039f"
            ],
            [
             0.2222222222222222,
             "#7201a8"
            ],
            [
             0.3333333333333333,
             "#9c179e"
            ],
            [
             0.4444444444444444,
             "#bd3786"
            ],
            [
             0.5555555555555556,
             "#d8576b"
            ],
            [
             0.6666666666666666,
             "#ed7953"
            ],
            [
             0.7777777777777778,
             "#fb9f3a"
            ],
            [
             0.8888888888888888,
             "#fdca26"
            ],
            [
             1,
             "#f0f921"
            ]
           ],
           "sequentialminus": [
            [
             0,
             "#0d0887"
            ],
            [
             0.1111111111111111,
             "#46039f"
            ],
            [
             0.2222222222222222,
             "#7201a8"
            ],
            [
             0.3333333333333333,
             "#9c179e"
            ],
            [
             0.4444444444444444,
             "#bd3786"
            ],
            [
             0.5555555555555556,
             "#d8576b"
            ],
            [
             0.6666666666666666,
             "#ed7953"
            ],
            [
             0.7777777777777778,
             "#fb9f3a"
            ],
            [
             0.8888888888888888,
             "#fdca26"
            ],
            [
             1,
             "#f0f921"
            ]
           ]
          },
          "colorway": [
           "#636efa",
           "#EF553B",
           "#00cc96",
           "#ab63fa",
           "#FFA15A",
           "#19d3f3",
           "#FF6692",
           "#B6E880",
           "#FF97FF",
           "#FECB52"
          ],
          "font": {
           "color": "#2a3f5f"
          },
          "geo": {
           "bgcolor": "white",
           "lakecolor": "white",
           "landcolor": "#E5ECF6",
           "showlakes": true,
           "showland": true,
           "subunitcolor": "white"
          },
          "hoverlabel": {
           "align": "left"
          },
          "hovermode": "closest",
          "mapbox": {
           "style": "light"
          },
          "paper_bgcolor": "white",
          "plot_bgcolor": "#E5ECF6",
          "polar": {
           "angularaxis": {
            "gridcolor": "white",
            "linecolor": "white",
            "ticks": ""
           },
           "bgcolor": "#E5ECF6",
           "radialaxis": {
            "gridcolor": "white",
            "linecolor": "white",
            "ticks": ""
           }
          },
          "scene": {
           "xaxis": {
            "backgroundcolor": "#E5ECF6",
            "gridcolor": "white",
            "gridwidth": 2,
            "linecolor": "white",
            "showbackground": true,
            "ticks": "",
            "zerolinecolor": "white"
           },
           "yaxis": {
            "backgroundcolor": "#E5ECF6",
            "gridcolor": "white",
            "gridwidth": 2,
            "linecolor": "white",
            "showbackground": true,
            "ticks": "",
            "zerolinecolor": "white"
           },
           "zaxis": {
            "backgroundcolor": "#E5ECF6",
            "gridcolor": "white",
            "gridwidth": 2,
            "linecolor": "white",
            "showbackground": true,
            "ticks": "",
            "zerolinecolor": "white"
           }
          },
          "shapedefaults": {
           "line": {
            "color": "#2a3f5f"
           }
          },
          "ternary": {
           "aaxis": {
            "gridcolor": "white",
            "linecolor": "white",
            "ticks": ""
           },
           "baxis": {
            "gridcolor": "white",
            "linecolor": "white",
            "ticks": ""
           },
           "bgcolor": "#E5ECF6",
           "caxis": {
            "gridcolor": "white",
            "linecolor": "white",
            "ticks": ""
           }
          },
          "title": {
           "x": 0.05
          },
          "xaxis": {
           "automargin": true,
           "gridcolor": "white",
           "linecolor": "white",
           "ticks": "",
           "title": {
            "standoff": 15
           },
           "zerolinecolor": "white",
           "zerolinewidth": 2
          },
          "yaxis": {
           "automargin": true,
           "gridcolor": "white",
           "linecolor": "white",
           "ticks": "",
           "title": {
            "standoff": 15
           },
           "zerolinecolor": "white",
           "zerolinewidth": 2
          }
         }
        },
        "title": {
         "text": "Penguins specie counts"
        },
        "xaxis": {
         "title": {
          "text": "Species"
         }
        },
        "yaxis": {
         "title": {
          "text": "Count"
         }
        }
       }
      }
     },
     "metadata": {},
     "output_type": "display_data"
    }
   ],
   "source": [
    "fig = go.Figure(\n",
    "    data = [\n",
    "        go.Bar(\n",
    "            x = species_counts.index, \n",
    "            y = species_counts.values, \n",
    "            text = species_counts.values,\n",
    "            textposition = 'auto'\n",
    "            )\n",
    "    ]\n",
    ")\n",
    "\n",
    "fig.update_layout(\n",
    "    title = 'Penguins specie counts',\n",
    "    xaxis_title = 'Species',\n",
    "    yaxis_title = 'Count'\n",
    "    )\n"
   ]
  },
  {
   "cell_type": "code",
   "execution_count": 35,
   "metadata": {},
   "outputs": [],
   "source": [
    "# 2.Pie Graph"
   ]
  },
  {
   "cell_type": "code",
   "execution_count": 36,
   "metadata": {},
   "outputs": [
    {
     "data": {
      "application/vnd.plotly.v1+json": {
       "config": {
        "plotlyServerURL": "https://plot.ly"
       },
       "data": [
        {
         "labels": [
          "Adelie Penguin (Pygoscelis adeliae)",
          "Gentoo penguin (Pygoscelis papua)",
          "Chinstrap penguin (Pygoscelis antarctica)"
         ],
         "textinfo": "label+percent",
         "type": "pie",
         "values": [
          146,
          119,
          68
         ]
        }
       ],
       "layout": {
        "template": {
         "data": {
          "bar": [
           {
            "error_x": {
             "color": "#2a3f5f"
            },
            "error_y": {
             "color": "#2a3f5f"
            },
            "marker": {
             "line": {
              "color": "#E5ECF6",
              "width": 0.5
             },
             "pattern": {
              "fillmode": "overlay",
              "size": 10,
              "solidity": 0.2
             }
            },
            "type": "bar"
           }
          ],
          "barpolar": [
           {
            "marker": {
             "line": {
              "color": "#E5ECF6",
              "width": 0.5
             },
             "pattern": {
              "fillmode": "overlay",
              "size": 10,
              "solidity": 0.2
             }
            },
            "type": "barpolar"
           }
          ],
          "carpet": [
           {
            "aaxis": {
             "endlinecolor": "#2a3f5f",
             "gridcolor": "white",
             "linecolor": "white",
             "minorgridcolor": "white",
             "startlinecolor": "#2a3f5f"
            },
            "baxis": {
             "endlinecolor": "#2a3f5f",
             "gridcolor": "white",
             "linecolor": "white",
             "minorgridcolor": "white",
             "startlinecolor": "#2a3f5f"
            },
            "type": "carpet"
           }
          ],
          "choropleth": [
           {
            "colorbar": {
             "outlinewidth": 0,
             "ticks": ""
            },
            "type": "choropleth"
           }
          ],
          "contour": [
           {
            "colorbar": {
             "outlinewidth": 0,
             "ticks": ""
            },
            "colorscale": [
             [
              0,
              "#0d0887"
             ],
             [
              0.1111111111111111,
              "#46039f"
             ],
             [
              0.2222222222222222,
              "#7201a8"
             ],
             [
              0.3333333333333333,
              "#9c179e"
             ],
             [
              0.4444444444444444,
              "#bd3786"
             ],
             [
              0.5555555555555556,
              "#d8576b"
             ],
             [
              0.6666666666666666,
              "#ed7953"
             ],
             [
              0.7777777777777778,
              "#fb9f3a"
             ],
             [
              0.8888888888888888,
              "#fdca26"
             ],
             [
              1,
              "#f0f921"
             ]
            ],
            "type": "contour"
           }
          ],
          "contourcarpet": [
           {
            "colorbar": {
             "outlinewidth": 0,
             "ticks": ""
            },
            "type": "contourcarpet"
           }
          ],
          "heatmap": [
           {
            "colorbar": {
             "outlinewidth": 0,
             "ticks": ""
            },
            "colorscale": [
             [
              0,
              "#0d0887"
             ],
             [
              0.1111111111111111,
              "#46039f"
             ],
             [
              0.2222222222222222,
              "#7201a8"
             ],
             [
              0.3333333333333333,
              "#9c179e"
             ],
             [
              0.4444444444444444,
              "#bd3786"
             ],
             [
              0.5555555555555556,
              "#d8576b"
             ],
             [
              0.6666666666666666,
              "#ed7953"
             ],
             [
              0.7777777777777778,
              "#fb9f3a"
             ],
             [
              0.8888888888888888,
              "#fdca26"
             ],
             [
              1,
              "#f0f921"
             ]
            ],
            "type": "heatmap"
           }
          ],
          "heatmapgl": [
           {
            "colorbar": {
             "outlinewidth": 0,
             "ticks": ""
            },
            "colorscale": [
             [
              0,
              "#0d0887"
             ],
             [
              0.1111111111111111,
              "#46039f"
             ],
             [
              0.2222222222222222,
              "#7201a8"
             ],
             [
              0.3333333333333333,
              "#9c179e"
             ],
             [
              0.4444444444444444,
              "#bd3786"
             ],
             [
              0.5555555555555556,
              "#d8576b"
             ],
             [
              0.6666666666666666,
              "#ed7953"
             ],
             [
              0.7777777777777778,
              "#fb9f3a"
             ],
             [
              0.8888888888888888,
              "#fdca26"
             ],
             [
              1,
              "#f0f921"
             ]
            ],
            "type": "heatmapgl"
           }
          ],
          "histogram": [
           {
            "marker": {
             "pattern": {
              "fillmode": "overlay",
              "size": 10,
              "solidity": 0.2
             }
            },
            "type": "histogram"
           }
          ],
          "histogram2d": [
           {
            "colorbar": {
             "outlinewidth": 0,
             "ticks": ""
            },
            "colorscale": [
             [
              0,
              "#0d0887"
             ],
             [
              0.1111111111111111,
              "#46039f"
             ],
             [
              0.2222222222222222,
              "#7201a8"
             ],
             [
              0.3333333333333333,
              "#9c179e"
             ],
             [
              0.4444444444444444,
              "#bd3786"
             ],
             [
              0.5555555555555556,
              "#d8576b"
             ],
             [
              0.6666666666666666,
              "#ed7953"
             ],
             [
              0.7777777777777778,
              "#fb9f3a"
             ],
             [
              0.8888888888888888,
              "#fdca26"
             ],
             [
              1,
              "#f0f921"
             ]
            ],
            "type": "histogram2d"
           }
          ],
          "histogram2dcontour": [
           {
            "colorbar": {
             "outlinewidth": 0,
             "ticks": ""
            },
            "colorscale": [
             [
              0,
              "#0d0887"
             ],
             [
              0.1111111111111111,
              "#46039f"
             ],
             [
              0.2222222222222222,
              "#7201a8"
             ],
             [
              0.3333333333333333,
              "#9c179e"
             ],
             [
              0.4444444444444444,
              "#bd3786"
             ],
             [
              0.5555555555555556,
              "#d8576b"
             ],
             [
              0.6666666666666666,
              "#ed7953"
             ],
             [
              0.7777777777777778,
              "#fb9f3a"
             ],
             [
              0.8888888888888888,
              "#fdca26"
             ],
             [
              1,
              "#f0f921"
             ]
            ],
            "type": "histogram2dcontour"
           }
          ],
          "mesh3d": [
           {
            "colorbar": {
             "outlinewidth": 0,
             "ticks": ""
            },
            "type": "mesh3d"
           }
          ],
          "parcoords": [
           {
            "line": {
             "colorbar": {
              "outlinewidth": 0,
              "ticks": ""
             }
            },
            "type": "parcoords"
           }
          ],
          "pie": [
           {
            "automargin": true,
            "type": "pie"
           }
          ],
          "scatter": [
           {
            "fillpattern": {
             "fillmode": "overlay",
             "size": 10,
             "solidity": 0.2
            },
            "type": "scatter"
           }
          ],
          "scatter3d": [
           {
            "line": {
             "colorbar": {
              "outlinewidth": 0,
              "ticks": ""
             }
            },
            "marker": {
             "colorbar": {
              "outlinewidth": 0,
              "ticks": ""
             }
            },
            "type": "scatter3d"
           }
          ],
          "scattercarpet": [
           {
            "marker": {
             "colorbar": {
              "outlinewidth": 0,
              "ticks": ""
             }
            },
            "type": "scattercarpet"
           }
          ],
          "scattergeo": [
           {
            "marker": {
             "colorbar": {
              "outlinewidth": 0,
              "ticks": ""
             }
            },
            "type": "scattergeo"
           }
          ],
          "scattergl": [
           {
            "marker": {
             "colorbar": {
              "outlinewidth": 0,
              "ticks": ""
             }
            },
            "type": "scattergl"
           }
          ],
          "scattermapbox": [
           {
            "marker": {
             "colorbar": {
              "outlinewidth": 0,
              "ticks": ""
             }
            },
            "type": "scattermapbox"
           }
          ],
          "scatterpolar": [
           {
            "marker": {
             "colorbar": {
              "outlinewidth": 0,
              "ticks": ""
             }
            },
            "type": "scatterpolar"
           }
          ],
          "scatterpolargl": [
           {
            "marker": {
             "colorbar": {
              "outlinewidth": 0,
              "ticks": ""
             }
            },
            "type": "scatterpolargl"
           }
          ],
          "scatterternary": [
           {
            "marker": {
             "colorbar": {
              "outlinewidth": 0,
              "ticks": ""
             }
            },
            "type": "scatterternary"
           }
          ],
          "surface": [
           {
            "colorbar": {
             "outlinewidth": 0,
             "ticks": ""
            },
            "colorscale": [
             [
              0,
              "#0d0887"
             ],
             [
              0.1111111111111111,
              "#46039f"
             ],
             [
              0.2222222222222222,
              "#7201a8"
             ],
             [
              0.3333333333333333,
              "#9c179e"
             ],
             [
              0.4444444444444444,
              "#bd3786"
             ],
             [
              0.5555555555555556,
              "#d8576b"
             ],
             [
              0.6666666666666666,
              "#ed7953"
             ],
             [
              0.7777777777777778,
              "#fb9f3a"
             ],
             [
              0.8888888888888888,
              "#fdca26"
             ],
             [
              1,
              "#f0f921"
             ]
            ],
            "type": "surface"
           }
          ],
          "table": [
           {
            "cells": {
             "fill": {
              "color": "#EBF0F8"
             },
             "line": {
              "color": "white"
             }
            },
            "header": {
             "fill": {
              "color": "#C8D4E3"
             },
             "line": {
              "color": "white"
             }
            },
            "type": "table"
           }
          ]
         },
         "layout": {
          "annotationdefaults": {
           "arrowcolor": "#2a3f5f",
           "arrowhead": 0,
           "arrowwidth": 1
          },
          "autotypenumbers": "strict",
          "coloraxis": {
           "colorbar": {
            "outlinewidth": 0,
            "ticks": ""
           }
          },
          "colorscale": {
           "diverging": [
            [
             0,
             "#8e0152"
            ],
            [
             0.1,
             "#c51b7d"
            ],
            [
             0.2,
             "#de77ae"
            ],
            [
             0.3,
             "#f1b6da"
            ],
            [
             0.4,
             "#fde0ef"
            ],
            [
             0.5,
             "#f7f7f7"
            ],
            [
             0.6,
             "#e6f5d0"
            ],
            [
             0.7,
             "#b8e186"
            ],
            [
             0.8,
             "#7fbc41"
            ],
            [
             0.9,
             "#4d9221"
            ],
            [
             1,
             "#276419"
            ]
           ],
           "sequential": [
            [
             0,
             "#0d0887"
            ],
            [
             0.1111111111111111,
             "#46039f"
            ],
            [
             0.2222222222222222,
             "#7201a8"
            ],
            [
             0.3333333333333333,
             "#9c179e"
            ],
            [
             0.4444444444444444,
             "#bd3786"
            ],
            [
             0.5555555555555556,
             "#d8576b"
            ],
            [
             0.6666666666666666,
             "#ed7953"
            ],
            [
             0.7777777777777778,
             "#fb9f3a"
            ],
            [
             0.8888888888888888,
             "#fdca26"
            ],
            [
             1,
             "#f0f921"
            ]
           ],
           "sequentialminus": [
            [
             0,
             "#0d0887"
            ],
            [
             0.1111111111111111,
             "#46039f"
            ],
            [
             0.2222222222222222,
             "#7201a8"
            ],
            [
             0.3333333333333333,
             "#9c179e"
            ],
            [
             0.4444444444444444,
             "#bd3786"
            ],
            [
             0.5555555555555556,
             "#d8576b"
            ],
            [
             0.6666666666666666,
             "#ed7953"
            ],
            [
             0.7777777777777778,
             "#fb9f3a"
            ],
            [
             0.8888888888888888,
             "#fdca26"
            ],
            [
             1,
             "#f0f921"
            ]
           ]
          },
          "colorway": [
           "#636efa",
           "#EF553B",
           "#00cc96",
           "#ab63fa",
           "#FFA15A",
           "#19d3f3",
           "#FF6692",
           "#B6E880",
           "#FF97FF",
           "#FECB52"
          ],
          "font": {
           "color": "#2a3f5f"
          },
          "geo": {
           "bgcolor": "white",
           "lakecolor": "white",
           "landcolor": "#E5ECF6",
           "showlakes": true,
           "showland": true,
           "subunitcolor": "white"
          },
          "hoverlabel": {
           "align": "left"
          },
          "hovermode": "closest",
          "mapbox": {
           "style": "light"
          },
          "paper_bgcolor": "white",
          "plot_bgcolor": "#E5ECF6",
          "polar": {
           "angularaxis": {
            "gridcolor": "white",
            "linecolor": "white",
            "ticks": ""
           },
           "bgcolor": "#E5ECF6",
           "radialaxis": {
            "gridcolor": "white",
            "linecolor": "white",
            "ticks": ""
           }
          },
          "scene": {
           "xaxis": {
            "backgroundcolor": "#E5ECF6",
            "gridcolor": "white",
            "gridwidth": 2,
            "linecolor": "white",
            "showbackground": true,
            "ticks": "",
            "zerolinecolor": "white"
           },
           "yaxis": {
            "backgroundcolor": "#E5ECF6",
            "gridcolor": "white",
            "gridwidth": 2,
            "linecolor": "white",
            "showbackground": true,
            "ticks": "",
            "zerolinecolor": "white"
           },
           "zaxis": {
            "backgroundcolor": "#E5ECF6",
            "gridcolor": "white",
            "gridwidth": 2,
            "linecolor": "white",
            "showbackground": true,
            "ticks": "",
            "zerolinecolor": "white"
           }
          },
          "shapedefaults": {
           "line": {
            "color": "#2a3f5f"
           }
          },
          "ternary": {
           "aaxis": {
            "gridcolor": "white",
            "linecolor": "white",
            "ticks": ""
           },
           "baxis": {
            "gridcolor": "white",
            "linecolor": "white",
            "ticks": ""
           },
           "bgcolor": "#E5ECF6",
           "caxis": {
            "gridcolor": "white",
            "linecolor": "white",
            "ticks": ""
           }
          },
          "title": {
           "x": 0.05
          },
          "xaxis": {
           "automargin": true,
           "gridcolor": "white",
           "linecolor": "white",
           "ticks": "",
           "title": {
            "standoff": 15
           },
           "zerolinecolor": "white",
           "zerolinewidth": 2
          },
          "yaxis": {
           "automargin": true,
           "gridcolor": "white",
           "linecolor": "white",
           "ticks": "",
           "title": {
            "standoff": 15
           },
           "zerolinecolor": "white",
           "zerolinewidth": 2
          }
         }
        },
        "title": {
         "text": "Penguins specie counts"
        }
       }
      }
     },
     "metadata": {},
     "output_type": "display_data"
    }
   ],
   "source": [
    "fig = go.Figure(\n",
    "    data = [\n",
    "        go.Pie(\n",
    "            labels = species_counts.index, \n",
    "            values = species_counts.values,\n",
    "            textinfo = 'label+percent'\n",
    "            )\n",
    "    ]\n",
    ")\n",
    "\n",
    "fig.update_layout(\n",
    "    title = 'Penguins specie counts'\n",
    "    )\n",
    "\n",
    "fig.show()"
   ]
  },
  {
   "cell_type": "code",
   "execution_count": 37,
   "metadata": {},
   "outputs": [],
   "source": [
    "# 3.Heatmap Graph"
   ]
  },
  {
   "cell_type": "code",
   "execution_count": 38,
   "metadata": {},
   "outputs": [
    {
     "data": {
      "text/html": [
       "<div>\n",
       "<style scoped>\n",
       "    .dataframe tbody tr th:only-of-type {\n",
       "        vertical-align: middle;\n",
       "    }\n",
       "\n",
       "    .dataframe tbody tr th {\n",
       "        vertical-align: top;\n",
       "    }\n",
       "\n",
       "    .dataframe thead th {\n",
       "        text-align: right;\n",
       "    }\n",
       "</style>\n",
       "<table border=\"1\" class=\"dataframe\">\n",
       "  <thead>\n",
       "    <tr style=\"text-align: right;\">\n",
       "      <th></th>\n",
       "      <th>Culmen Length (mm)</th>\n",
       "      <th>Culmen Depth (mm)</th>\n",
       "      <th>Flipper Length (mm)</th>\n",
       "      <th>Body Mass (g)</th>\n",
       "      <th>Delta 15 N (o/oo)</th>\n",
       "      <th>Delta 13 C (o/oo)</th>\n",
       "    </tr>\n",
       "  </thead>\n",
       "  <tbody>\n",
       "    <tr>\n",
       "      <th>Culmen Length (mm)</th>\n",
       "      <td>1.000000</td>\n",
       "      <td>-0.228626</td>\n",
       "      <td>0.653096</td>\n",
       "      <td>0.589451</td>\n",
       "      <td>-0.056158</td>\n",
       "      <td>0.195186</td>\n",
       "    </tr>\n",
       "    <tr>\n",
       "      <th>Culmen Depth (mm)</th>\n",
       "      <td>-0.228626</td>\n",
       "      <td>1.000000</td>\n",
       "      <td>-0.577792</td>\n",
       "      <td>-0.472016</td>\n",
       "      <td>0.590519</td>\n",
       "      <td>0.418922</td>\n",
       "    </tr>\n",
       "    <tr>\n",
       "      <th>Flipper Length (mm)</th>\n",
       "      <td>0.653096</td>\n",
       "      <td>-0.577792</td>\n",
       "      <td>1.000000</td>\n",
       "      <td>0.872979</td>\n",
       "      <td>-0.492530</td>\n",
       "      <td>-0.363132</td>\n",
       "    </tr>\n",
       "    <tr>\n",
       "      <th>Body Mass (g)</th>\n",
       "      <td>0.589451</td>\n",
       "      <td>-0.472016</td>\n",
       "      <td>0.872979</td>\n",
       "      <td>1.000000</td>\n",
       "      <td>-0.535012</td>\n",
       "      <td>-0.367915</td>\n",
       "    </tr>\n",
       "    <tr>\n",
       "      <th>Delta 15 N (o/oo)</th>\n",
       "      <td>-0.056158</td>\n",
       "      <td>0.590519</td>\n",
       "      <td>-0.492530</td>\n",
       "      <td>-0.535012</td>\n",
       "      <td>1.000000</td>\n",
       "      <td>0.564296</td>\n",
       "    </tr>\n",
       "    <tr>\n",
       "      <th>Delta 13 C (o/oo)</th>\n",
       "      <td>0.195186</td>\n",
       "      <td>0.418922</td>\n",
       "      <td>-0.363132</td>\n",
       "      <td>-0.367915</td>\n",
       "      <td>0.564296</td>\n",
       "      <td>1.000000</td>\n",
       "    </tr>\n",
       "  </tbody>\n",
       "</table>\n",
       "</div>"
      ],
      "text/plain": [
       "                     Culmen Length (mm)  Culmen Depth (mm)  \\\n",
       "Culmen Length (mm)             1.000000          -0.228626   \n",
       "Culmen Depth (mm)             -0.228626           1.000000   \n",
       "Flipper Length (mm)            0.653096          -0.577792   \n",
       "Body Mass (g)                  0.589451          -0.472016   \n",
       "Delta 15 N (o/oo)             -0.056158           0.590519   \n",
       "Delta 13 C (o/oo)              0.195186           0.418922   \n",
       "\n",
       "                     Flipper Length (mm)  Body Mass (g)  Delta 15 N (o/oo)  \\\n",
       "Culmen Length (mm)              0.653096       0.589451          -0.056158   \n",
       "Culmen Depth (mm)              -0.577792      -0.472016           0.590519   \n",
       "Flipper Length (mm)             1.000000       0.872979          -0.492530   \n",
       "Body Mass (g)                   0.872979       1.000000          -0.535012   \n",
       "Delta 15 N (o/oo)              -0.492530      -0.535012           1.000000   \n",
       "Delta 13 C (o/oo)              -0.363132      -0.367915           0.564296   \n",
       "\n",
       "                     Delta 13 C (o/oo)  \n",
       "Culmen Length (mm)            0.195186  \n",
       "Culmen Depth (mm)             0.418922  \n",
       "Flipper Length (mm)          -0.363132  \n",
       "Body Mass (g)                -0.367915  \n",
       "Delta 15 N (o/oo)             0.564296  \n",
       "Delta 13 C (o/oo)             1.000000  "
      ]
     },
     "execution_count": 38,
     "metadata": {},
     "output_type": "execute_result"
    }
   ],
   "source": [
    "numeric_data = df.select_dtypes(include=['number'])\n",
    "\n",
    "corr_matrix = numeric_data.corr()\n",
    "corr_matrix"
   ]
  },
  {
   "cell_type": "code",
   "execution_count": 39,
   "metadata": {},
   "outputs": [
    {
     "data": {
      "application/vnd.plotly.v1+json": {
       "config": {
        "plotlyServerURL": "https://plot.ly"
       },
       "data": [
        {
         "colorscale": [
          [
           0,
           "#440154"
          ],
          [
           0.1111111111111111,
           "#482878"
          ],
          [
           0.2222222222222222,
           "#3e4989"
          ],
          [
           0.3333333333333333,
           "#31688e"
          ],
          [
           0.4444444444444444,
           "#26828e"
          ],
          [
           0.5555555555555556,
           "#1f9e89"
          ],
          [
           0.6666666666666666,
           "#35b779"
          ],
          [
           0.7777777777777778,
           "#6ece58"
          ],
          [
           0.8888888888888888,
           "#b5de2b"
          ],
          [
           1,
           "#fde725"
          ]
         ],
         "text": [
          [
           1,
           -0.22862563591303017,
           0.6530956386670871,
           0.5894511101769501,
           -0.056157772858284306,
           0.19518558301249994
          ],
          [
           -0.22862563591303017,
           1,
           -0.5777916963366738,
           -0.4720156601951401,
           0.5905192868407193,
           0.41892216986957714
          ],
          [
           0.6530956386670871,
           -0.5777916963366738,
           1,
           0.8729788985653616,
           -0.49253041516170737,
           -0.3631323778076355
          ],
          [
           0.5894511101769501,
           -0.4720156601951401,
           0.8729788985653616,
           1,
           -0.5350115656596393,
           -0.3679147526172874
          ],
          [
           -0.056157772858284306,
           0.5905192868407193,
           -0.49253041516170737,
           -0.5350115656596393,
           1,
           0.5642955735817865
          ],
          [
           0.19518558301249994,
           0.41892216986957714,
           -0.3631323778076355,
           -0.3679147526172874,
           0.5642955735817865,
           1
          ]
         ],
         "texttemplate": "%{text:.2f}",
         "type": "heatmap",
         "x": [
          "Culmen Length (mm)",
          "Culmen Depth (mm)",
          "Flipper Length (mm)",
          "Body Mass (g)",
          "Delta 15 N (o/oo)",
          "Delta 13 C (o/oo)"
         ],
         "y": [
          "Culmen Length (mm)",
          "Culmen Depth (mm)",
          "Flipper Length (mm)",
          "Body Mass (g)",
          "Delta 15 N (o/oo)",
          "Delta 13 C (o/oo)"
         ],
         "z": [
          [
           1,
           -0.22862563591303017,
           0.6530956386670871,
           0.5894511101769501,
           -0.056157772858284306,
           0.19518558301249994
          ],
          [
           -0.22862563591303017,
           1,
           -0.5777916963366738,
           -0.4720156601951401,
           0.5905192868407193,
           0.41892216986957714
          ],
          [
           0.6530956386670871,
           -0.5777916963366738,
           1,
           0.8729788985653616,
           -0.49253041516170737,
           -0.3631323778076355
          ],
          [
           0.5894511101769501,
           -0.4720156601951401,
           0.8729788985653616,
           1,
           -0.5350115656596393,
           -0.3679147526172874
          ],
          [
           -0.056157772858284306,
           0.5905192868407193,
           -0.49253041516170737,
           -0.5350115656596393,
           1,
           0.5642955735817865
          ],
          [
           0.19518558301249994,
           0.41892216986957714,
           -0.3631323778076355,
           -0.3679147526172874,
           0.5642955735817865,
           1
          ]
         ]
        }
       ],
       "layout": {
        "height": 700,
        "template": {
         "data": {
          "bar": [
           {
            "error_x": {
             "color": "#2a3f5f"
            },
            "error_y": {
             "color": "#2a3f5f"
            },
            "marker": {
             "line": {
              "color": "#E5ECF6",
              "width": 0.5
             },
             "pattern": {
              "fillmode": "overlay",
              "size": 10,
              "solidity": 0.2
             }
            },
            "type": "bar"
           }
          ],
          "barpolar": [
           {
            "marker": {
             "line": {
              "color": "#E5ECF6",
              "width": 0.5
             },
             "pattern": {
              "fillmode": "overlay",
              "size": 10,
              "solidity": 0.2
             }
            },
            "type": "barpolar"
           }
          ],
          "carpet": [
           {
            "aaxis": {
             "endlinecolor": "#2a3f5f",
             "gridcolor": "white",
             "linecolor": "white",
             "minorgridcolor": "white",
             "startlinecolor": "#2a3f5f"
            },
            "baxis": {
             "endlinecolor": "#2a3f5f",
             "gridcolor": "white",
             "linecolor": "white",
             "minorgridcolor": "white",
             "startlinecolor": "#2a3f5f"
            },
            "type": "carpet"
           }
          ],
          "choropleth": [
           {
            "colorbar": {
             "outlinewidth": 0,
             "ticks": ""
            },
            "type": "choropleth"
           }
          ],
          "contour": [
           {
            "colorbar": {
             "outlinewidth": 0,
             "ticks": ""
            },
            "colorscale": [
             [
              0,
              "#0d0887"
             ],
             [
              0.1111111111111111,
              "#46039f"
             ],
             [
              0.2222222222222222,
              "#7201a8"
             ],
             [
              0.3333333333333333,
              "#9c179e"
             ],
             [
              0.4444444444444444,
              "#bd3786"
             ],
             [
              0.5555555555555556,
              "#d8576b"
             ],
             [
              0.6666666666666666,
              "#ed7953"
             ],
             [
              0.7777777777777778,
              "#fb9f3a"
             ],
             [
              0.8888888888888888,
              "#fdca26"
             ],
             [
              1,
              "#f0f921"
             ]
            ],
            "type": "contour"
           }
          ],
          "contourcarpet": [
           {
            "colorbar": {
             "outlinewidth": 0,
             "ticks": ""
            },
            "type": "contourcarpet"
           }
          ],
          "heatmap": [
           {
            "colorbar": {
             "outlinewidth": 0,
             "ticks": ""
            },
            "colorscale": [
             [
              0,
              "#0d0887"
             ],
             [
              0.1111111111111111,
              "#46039f"
             ],
             [
              0.2222222222222222,
              "#7201a8"
             ],
             [
              0.3333333333333333,
              "#9c179e"
             ],
             [
              0.4444444444444444,
              "#bd3786"
             ],
             [
              0.5555555555555556,
              "#d8576b"
             ],
             [
              0.6666666666666666,
              "#ed7953"
             ],
             [
              0.7777777777777778,
              "#fb9f3a"
             ],
             [
              0.8888888888888888,
              "#fdca26"
             ],
             [
              1,
              "#f0f921"
             ]
            ],
            "type": "heatmap"
           }
          ],
          "heatmapgl": [
           {
            "colorbar": {
             "outlinewidth": 0,
             "ticks": ""
            },
            "colorscale": [
             [
              0,
              "#0d0887"
             ],
             [
              0.1111111111111111,
              "#46039f"
             ],
             [
              0.2222222222222222,
              "#7201a8"
             ],
             [
              0.3333333333333333,
              "#9c179e"
             ],
             [
              0.4444444444444444,
              "#bd3786"
             ],
             [
              0.5555555555555556,
              "#d8576b"
             ],
             [
              0.6666666666666666,
              "#ed7953"
             ],
             [
              0.7777777777777778,
              "#fb9f3a"
             ],
             [
              0.8888888888888888,
              "#fdca26"
             ],
             [
              1,
              "#f0f921"
             ]
            ],
            "type": "heatmapgl"
           }
          ],
          "histogram": [
           {
            "marker": {
             "pattern": {
              "fillmode": "overlay",
              "size": 10,
              "solidity": 0.2
             }
            },
            "type": "histogram"
           }
          ],
          "histogram2d": [
           {
            "colorbar": {
             "outlinewidth": 0,
             "ticks": ""
            },
            "colorscale": [
             [
              0,
              "#0d0887"
             ],
             [
              0.1111111111111111,
              "#46039f"
             ],
             [
              0.2222222222222222,
              "#7201a8"
             ],
             [
              0.3333333333333333,
              "#9c179e"
             ],
             [
              0.4444444444444444,
              "#bd3786"
             ],
             [
              0.5555555555555556,
              "#d8576b"
             ],
             [
              0.6666666666666666,
              "#ed7953"
             ],
             [
              0.7777777777777778,
              "#fb9f3a"
             ],
             [
              0.8888888888888888,
              "#fdca26"
             ],
             [
              1,
              "#f0f921"
             ]
            ],
            "type": "histogram2d"
           }
          ],
          "histogram2dcontour": [
           {
            "colorbar": {
             "outlinewidth": 0,
             "ticks": ""
            },
            "colorscale": [
             [
              0,
              "#0d0887"
             ],
             [
              0.1111111111111111,
              "#46039f"
             ],
             [
              0.2222222222222222,
              "#7201a8"
             ],
             [
              0.3333333333333333,
              "#9c179e"
             ],
             [
              0.4444444444444444,
              "#bd3786"
             ],
             [
              0.5555555555555556,
              "#d8576b"
             ],
             [
              0.6666666666666666,
              "#ed7953"
             ],
             [
              0.7777777777777778,
              "#fb9f3a"
             ],
             [
              0.8888888888888888,
              "#fdca26"
             ],
             [
              1,
              "#f0f921"
             ]
            ],
            "type": "histogram2dcontour"
           }
          ],
          "mesh3d": [
           {
            "colorbar": {
             "outlinewidth": 0,
             "ticks": ""
            },
            "type": "mesh3d"
           }
          ],
          "parcoords": [
           {
            "line": {
             "colorbar": {
              "outlinewidth": 0,
              "ticks": ""
             }
            },
            "type": "parcoords"
           }
          ],
          "pie": [
           {
            "automargin": true,
            "type": "pie"
           }
          ],
          "scatter": [
           {
            "fillpattern": {
             "fillmode": "overlay",
             "size": 10,
             "solidity": 0.2
            },
            "type": "scatter"
           }
          ],
          "scatter3d": [
           {
            "line": {
             "colorbar": {
              "outlinewidth": 0,
              "ticks": ""
             }
            },
            "marker": {
             "colorbar": {
              "outlinewidth": 0,
              "ticks": ""
             }
            },
            "type": "scatter3d"
           }
          ],
          "scattercarpet": [
           {
            "marker": {
             "colorbar": {
              "outlinewidth": 0,
              "ticks": ""
             }
            },
            "type": "scattercarpet"
           }
          ],
          "scattergeo": [
           {
            "marker": {
             "colorbar": {
              "outlinewidth": 0,
              "ticks": ""
             }
            },
            "type": "scattergeo"
           }
          ],
          "scattergl": [
           {
            "marker": {
             "colorbar": {
              "outlinewidth": 0,
              "ticks": ""
             }
            },
            "type": "scattergl"
           }
          ],
          "scattermapbox": [
           {
            "marker": {
             "colorbar": {
              "outlinewidth": 0,
              "ticks": ""
             }
            },
            "type": "scattermapbox"
           }
          ],
          "scatterpolar": [
           {
            "marker": {
             "colorbar": {
              "outlinewidth": 0,
              "ticks": ""
             }
            },
            "type": "scatterpolar"
           }
          ],
          "scatterpolargl": [
           {
            "marker": {
             "colorbar": {
              "outlinewidth": 0,
              "ticks": ""
             }
            },
            "type": "scatterpolargl"
           }
          ],
          "scatterternary": [
           {
            "marker": {
             "colorbar": {
              "outlinewidth": 0,
              "ticks": ""
             }
            },
            "type": "scatterternary"
           }
          ],
          "surface": [
           {
            "colorbar": {
             "outlinewidth": 0,
             "ticks": ""
            },
            "colorscale": [
             [
              0,
              "#0d0887"
             ],
             [
              0.1111111111111111,
              "#46039f"
             ],
             [
              0.2222222222222222,
              "#7201a8"
             ],
             [
              0.3333333333333333,
              "#9c179e"
             ],
             [
              0.4444444444444444,
              "#bd3786"
             ],
             [
              0.5555555555555556,
              "#d8576b"
             ],
             [
              0.6666666666666666,
              "#ed7953"
             ],
             [
              0.7777777777777778,
              "#fb9f3a"
             ],
             [
              0.8888888888888888,
              "#fdca26"
             ],
             [
              1,
              "#f0f921"
             ]
            ],
            "type": "surface"
           }
          ],
          "table": [
           {
            "cells": {
             "fill": {
              "color": "#EBF0F8"
             },
             "line": {
              "color": "white"
             }
            },
            "header": {
             "fill": {
              "color": "#C8D4E3"
             },
             "line": {
              "color": "white"
             }
            },
            "type": "table"
           }
          ]
         },
         "layout": {
          "annotationdefaults": {
           "arrowcolor": "#2a3f5f",
           "arrowhead": 0,
           "arrowwidth": 1
          },
          "autotypenumbers": "strict",
          "coloraxis": {
           "colorbar": {
            "outlinewidth": 0,
            "ticks": ""
           }
          },
          "colorscale": {
           "diverging": [
            [
             0,
             "#8e0152"
            ],
            [
             0.1,
             "#c51b7d"
            ],
            [
             0.2,
             "#de77ae"
            ],
            [
             0.3,
             "#f1b6da"
            ],
            [
             0.4,
             "#fde0ef"
            ],
            [
             0.5,
             "#f7f7f7"
            ],
            [
             0.6,
             "#e6f5d0"
            ],
            [
             0.7,
             "#b8e186"
            ],
            [
             0.8,
             "#7fbc41"
            ],
            [
             0.9,
             "#4d9221"
            ],
            [
             1,
             "#276419"
            ]
           ],
           "sequential": [
            [
             0,
             "#0d0887"
            ],
            [
             0.1111111111111111,
             "#46039f"
            ],
            [
             0.2222222222222222,
             "#7201a8"
            ],
            [
             0.3333333333333333,
             "#9c179e"
            ],
            [
             0.4444444444444444,
             "#bd3786"
            ],
            [
             0.5555555555555556,
             "#d8576b"
            ],
            [
             0.6666666666666666,
             "#ed7953"
            ],
            [
             0.7777777777777778,
             "#fb9f3a"
            ],
            [
             0.8888888888888888,
             "#fdca26"
            ],
            [
             1,
             "#f0f921"
            ]
           ],
           "sequentialminus": [
            [
             0,
             "#0d0887"
            ],
            [
             0.1111111111111111,
             "#46039f"
            ],
            [
             0.2222222222222222,
             "#7201a8"
            ],
            [
             0.3333333333333333,
             "#9c179e"
            ],
            [
             0.4444444444444444,
             "#bd3786"
            ],
            [
             0.5555555555555556,
             "#d8576b"
            ],
            [
             0.6666666666666666,
             "#ed7953"
            ],
            [
             0.7777777777777778,
             "#fb9f3a"
            ],
            [
             0.8888888888888888,
             "#fdca26"
            ],
            [
             1,
             "#f0f921"
            ]
           ]
          },
          "colorway": [
           "#636efa",
           "#EF553B",
           "#00cc96",
           "#ab63fa",
           "#FFA15A",
           "#19d3f3",
           "#FF6692",
           "#B6E880",
           "#FF97FF",
           "#FECB52"
          ],
          "font": {
           "color": "#2a3f5f"
          },
          "geo": {
           "bgcolor": "white",
           "lakecolor": "white",
           "landcolor": "#E5ECF6",
           "showlakes": true,
           "showland": true,
           "subunitcolor": "white"
          },
          "hoverlabel": {
           "align": "left"
          },
          "hovermode": "closest",
          "mapbox": {
           "style": "light"
          },
          "paper_bgcolor": "white",
          "plot_bgcolor": "#E5ECF6",
          "polar": {
           "angularaxis": {
            "gridcolor": "white",
            "linecolor": "white",
            "ticks": ""
           },
           "bgcolor": "#E5ECF6",
           "radialaxis": {
            "gridcolor": "white",
            "linecolor": "white",
            "ticks": ""
           }
          },
          "scene": {
           "xaxis": {
            "backgroundcolor": "#E5ECF6",
            "gridcolor": "white",
            "gridwidth": 2,
            "linecolor": "white",
            "showbackground": true,
            "ticks": "",
            "zerolinecolor": "white"
           },
           "yaxis": {
            "backgroundcolor": "#E5ECF6",
            "gridcolor": "white",
            "gridwidth": 2,
            "linecolor": "white",
            "showbackground": true,
            "ticks": "",
            "zerolinecolor": "white"
           },
           "zaxis": {
            "backgroundcolor": "#E5ECF6",
            "gridcolor": "white",
            "gridwidth": 2,
            "linecolor": "white",
            "showbackground": true,
            "ticks": "",
            "zerolinecolor": "white"
           }
          },
          "shapedefaults": {
           "line": {
            "color": "#2a3f5f"
           }
          },
          "ternary": {
           "aaxis": {
            "gridcolor": "white",
            "linecolor": "white",
            "ticks": ""
           },
           "baxis": {
            "gridcolor": "white",
            "linecolor": "white",
            "ticks": ""
           },
           "bgcolor": "#E5ECF6",
           "caxis": {
            "gridcolor": "white",
            "linecolor": "white",
            "ticks": ""
           }
          },
          "title": {
           "x": 0.05
          },
          "xaxis": {
           "automargin": true,
           "gridcolor": "white",
           "linecolor": "white",
           "ticks": "",
           "title": {
            "standoff": 15
           },
           "zerolinecolor": "white",
           "zerolinewidth": 2
          },
          "yaxis": {
           "automargin": true,
           "gridcolor": "white",
           "linecolor": "white",
           "ticks": "",
           "title": {
            "standoff": 15
           },
           "zerolinecolor": "white",
           "zerolinewidth": 2
          }
         }
        },
        "title": {
         "text": "Penguins specie counts"
        },
        "width": 700
       }
      }
     },
     "metadata": {},
     "output_type": "display_data"
    }
   ],
   "source": [
    "fig = go.Figure(\n",
    "    data = go.Heatmap(\n",
    "        z = corr_matrix.values, \n",
    "        x = numeric_data.columns, \n",
    "        y = numeric_data.columns, \n",
    "        colorscale = 'Viridis',\n",
    "        text=corr_matrix.values, \n",
    "        texttemplate='%{text:.2f}'\n",
    "    )\n",
    ")\n",
    "\n",
    "fig.update_layout(\n",
    "    title = 'Penguins specie counts',\n",
    "    width=700, \n",
    "    height=700\n",
    "    )\n",
    "\n",
    "fig.show()"
   ]
  },
  {
   "cell_type": "code",
   "execution_count": 40,
   "metadata": {},
   "outputs": [],
   "source": [
    "# 4.Scatter Graph"
   ]
  },
  {
   "cell_type": "code",
   "execution_count": 41,
   "metadata": {},
   "outputs": [
    {
     "data": {
      "application/vnd.plotly.v1+json": {
       "config": {
        "plotlyServerURL": "https://plot.ly"
       },
       "data": [
        {
         "marker": {
          "color": [
           0,
           0,
           0,
           0,
           0,
           0,
           0,
           0,
           0,
           0,
           0,
           0,
           0,
           0,
           0,
           0,
           0,
           0,
           0,
           0,
           0,
           0,
           0,
           0,
           0,
           0,
           0,
           0,
           0,
           0,
           0,
           0,
           0,
           0,
           0,
           0,
           0,
           0,
           0,
           0,
           0,
           0,
           0,
           0,
           0,
           0,
           0,
           0,
           0,
           0,
           0,
           0,
           0,
           0,
           0,
           0,
           0,
           0,
           0,
           0,
           0,
           0,
           0,
           0,
           0,
           0,
           0,
           0,
           0,
           0,
           0,
           0,
           0,
           0,
           0,
           0,
           0,
           0,
           0,
           0,
           0,
           0,
           0,
           0,
           0,
           0,
           0,
           0,
           0,
           0,
           0,
           0,
           0,
           0,
           0,
           0,
           0,
           0,
           0,
           0,
           0,
           0,
           0,
           0,
           0,
           0,
           0,
           0,
           0,
           0,
           0,
           0,
           0,
           0,
           0,
           0,
           0,
           0,
           0,
           0,
           0,
           0,
           0,
           0,
           0,
           0,
           0,
           0,
           0,
           0,
           0,
           0,
           0,
           0,
           0,
           0,
           0,
           0,
           0,
           0,
           0,
           0,
           0,
           0,
           0,
           0,
           1,
           1,
           1,
           1,
           1,
           1,
           1,
           1,
           1,
           1,
           1,
           1,
           1,
           1,
           1,
           1,
           1,
           1,
           1,
           1,
           1,
           1,
           1,
           1,
           1,
           1,
           1,
           1,
           1,
           1,
           1,
           1,
           1,
           1,
           1,
           1,
           1,
           1,
           1,
           1,
           1,
           1,
           1,
           1,
           1,
           1,
           1,
           1,
           1,
           1,
           1,
           1,
           1,
           1,
           1,
           1,
           1,
           1,
           1,
           1,
           1,
           1,
           1,
           1,
           1,
           1,
           1,
           1,
           2,
           2,
           2,
           2,
           2,
           2,
           2,
           2,
           2,
           2,
           2,
           2,
           2,
           2,
           2,
           2,
           2,
           2,
           2,
           2,
           2,
           2,
           2,
           2,
           2,
           2,
           2,
           2,
           2,
           2,
           2,
           2,
           2,
           2,
           2,
           2,
           2,
           2,
           2,
           2,
           2,
           2,
           2,
           2,
           2,
           2,
           2,
           2,
           2,
           2,
           2,
           2,
           2,
           2,
           2,
           2,
           2,
           2,
           2,
           2,
           2,
           2,
           2,
           2,
           2,
           2,
           2,
           2,
           2,
           2,
           2,
           2,
           2,
           2,
           2,
           2,
           2,
           2,
           2,
           2,
           2,
           2,
           2,
           2,
           2,
           2,
           2,
           2,
           2,
           2,
           2,
           2,
           2,
           2,
           2,
           2,
           2,
           2,
           2,
           2,
           2,
           2,
           2,
           2,
           2,
           2,
           2,
           2,
           2,
           2,
           2,
           2,
           2,
           2,
           2,
           2,
           2,
           2,
           2
          ],
          "colorscale": [
           [
            0,
            "#440154"
           ],
           [
            0.1111111111111111,
            "#482878"
           ],
           [
            0.2222222222222222,
            "#3e4989"
           ],
           [
            0.3333333333333333,
            "#31688e"
           ],
           [
            0.4444444444444444,
            "#26828e"
           ],
           [
            0.5555555555555556,
            "#1f9e89"
           ],
           [
            0.6666666666666666,
            "#35b779"
           ],
           [
            0.7777777777777778,
            "#6ece58"
           ],
           [
            0.8888888888888888,
            "#b5de2b"
           ],
           [
            1,
            "#fde725"
           ]
          ],
          "size": [
           37.5,
           38,
           32.5,
           34.5,
           36.5,
           36.25,
           46.75,
           32,
           38,
           44,
           37,
           34.5,
           45,
           33.25,
           42,
           34,
           36,
           38,
           39.5,
           38,
           38,
           35.5,
           32,
           31.5,
           39.5,
           32.5,
           39,
           33,
           39,
           33.25,
           41.5,
           39.5,
           35.5,
           33,
           46.5,
           31.5,
           39,
           31,
           44,
           30,
           46,
           34.25,
           34.5,
           41.5,
           35,
           43,
           34.5,
           40.5,
           29,
           37,
           35.5,
           38,
           28.5,
           37.5,
           31.5,
           44,
           36,
           40.5,
           28.5,
           39.5,
           33.5,
           41,
           30.5,
           44.5,
           36,
           39,
           35.5,
           41.5,
           37,
           42.5,
           37,
           39,
           35.5,
           40,
           32,
           47,
           38,
           42,
           33.5,
           35.5,
           38,
           35,
           39.5,
           36,
           35.5,
           43,
           34,
           44.5,
           33,
           43,
           37,
           43.5,
           29,
           41,
           37.25,
           47.25,
           30.75,
           42.5,
           29.25,
           35.5,
           37.5,
           39,
           31.75,
           47.75,
           38.25,
           46,
           32,
           42.75,
           39,
           40.75,
           29,
           37.75,
           33.5,
           33.25,
           31.5,
           35,
           34.5,
           38.75,
           30.5,
           40,
           32.75,
           43,
           30.5,
           40,
           33.25,
           35,
           35,
           44.75,
           34.25,
           39,
           31.75,
           39.75,
           34,
           42.5,
           34,
           34.75,
           30.5,
           37.25,
           30,
           36.5,
           42.5,
           34.75,
           34.5,
           37.5,
           37,
           40,
           35,
           39,
           36.5,
           35.25,
           37.25,
           39.5,
           32.5,
           37.5,
           41.5,
           37,
           38,
           37.75,
           37,
           40.5,
           35.75,
           40.5,
           33,
           37,
           34.5,
           44,
           36,
           34,
           29,
           38,
           33,
           41.5,
           34,
           38,
           37,
           45.5,
           32,
           43,
           33.5,
           41,
           36,
           39,
           38.5,
           48,
           27,
           45,
           39.5,
           36.5,
           35.5,
           35,
           36.75,
           44.5,
           34,
           43,
           32.5,
           36.75,
           33.25,
           39.5,
           36,
           40.5,
           33.5,
           34.5,
           32.5,
           40.5,
           38,
           35.25,
           39.5,
           36.5,
           36.5,
           40,
           34,
           37.75,
           41,
           37.75,
           45,
           57,
           44.5,
           57,
           54,
           45.5,
           48,
           52,
           44,
           51.5,
           46.5,
           55.5,
           46.5,
           58.5,
           42,
           58.5,
           41.5,
           63,
           48,
           53.5,
           57,
           50,
           44,
           50.5,
           50,
           51,
           56.5,
           46,
           55.5,
           52.5,
           47,
           50.5,
           60.5,
           51.5,
           54,
           49.5,
           52.5,
           43.5,
           53.5,
           39.5,
           57,
           43,
           47.5,
           55.5,
           49,
           42,
           54,
           51,
           53,
           48.5,
           53,
           44,
           50,
           49,
           50.5,
           43,
           50,
           44.5,
           55.5,
           42,
           53,
           44,
           56.5,
           47,
           57,
           58,
           47,
           55.5,
           47.5,
           50,
           51,
           52,
           47,
           58,
           46,
           60,
           47.5,
           59.5,
           46.25,
           54.5,
           47.25,
           53.5,
           47.5,
           56,
           46,
           53,
           48.75,
           55.5,
           49.5,
           54,
           47.5,
           56.5,
           48.5,
           52,
           49.25,
           48.75,
           46.25,
           52.5,
           48.5,
           56,
           49.75,
           55,
           55,
           47,
           55,
           45.75,
           55,
           50,
           59.5,
           46.5,
           55,
           43.75,
           58.5,
           60,
           49.25,
           48.5,
           57.5,
           52,
           54
          ]
         },
         "mode": "markers",
         "type": "scatter",
         "x": [
          181,
          186,
          195,
          193,
          190,
          181,
          195,
          182,
          191,
          198,
          185,
          195,
          197,
          184,
          194,
          174,
          180,
          189,
          185,
          180,
          187,
          183,
          187,
          172,
          180,
          178,
          178,
          188,
          184,
          195,
          196,
          190,
          180,
          181,
          184,
          182,
          195,
          186,
          196,
          185,
          190,
          182,
          190,
          191,
          186,
          188,
          190,
          200,
          187,
          191,
          186,
          193,
          181,
          194,
          185,
          195,
          185,
          192,
          184,
          192,
          195,
          188,
          190,
          198,
          190,
          190,
          196,
          197,
          190,
          195,
          191,
          184,
          187,
          195,
          189,
          196,
          187,
          193,
          191,
          194,
          190,
          189,
          189,
          190,
          202,
          205,
          185,
          186,
          187,
          208,
          190,
          196,
          178,
          192,
          192,
          203,
          183,
          190,
          193,
          184,
          199,
          190,
          181,
          197,
          198,
          191,
          193,
          197,
          191,
          196,
          188,
          199,
          189,
          189,
          187,
          198,
          176,
          202,
          186,
          199,
          191,
          195,
          191,
          210,
          190,
          197,
          193,
          199,
          187,
          190,
          191,
          200,
          185,
          193,
          193,
          187,
          188,
          190,
          192,
          185,
          190,
          184,
          195,
          193,
          187,
          201,
          192,
          196,
          193,
          188,
          197,
          198,
          178,
          197,
          195,
          198,
          193,
          194,
          185,
          201,
          190,
          201,
          197,
          181,
          190,
          195,
          181,
          191,
          187,
          193,
          195,
          197,
          200,
          200,
          191,
          205,
          187,
          201,
          187,
          203,
          195,
          199,
          195,
          210,
          192,
          205,
          210,
          187,
          196,
          196,
          196,
          201,
          190,
          212,
          187,
          198,
          199,
          201,
          193,
          203,
          187,
          197,
          191,
          203,
          202,
          194,
          206,
          189,
          195,
          207,
          202,
          193,
          210,
          198,
          211,
          230,
          210,
          218,
          215,
          210,
          211,
          219,
          209,
          215,
          214,
          216,
          214,
          213,
          210,
          217,
          210,
          221,
          209,
          222,
          218,
          215,
          213,
          215,
          215,
          215,
          215,
          210,
          220,
          222,
          209,
          207,
          230,
          220,
          220,
          213,
          219,
          208,
          208,
          208,
          225,
          210,
          216,
          222,
          217,
          210,
          225,
          213,
          215,
          210,
          220,
          210,
          225,
          217,
          220,
          208,
          220,
          208,
          224,
          208,
          221,
          214,
          231,
          219,
          230,
          229,
          220,
          223,
          216,
          221,
          221,
          217,
          216,
          230,
          209,
          220,
          215,
          223,
          212,
          221,
          212,
          224,
          212,
          228,
          218,
          218,
          212,
          230,
          218,
          228,
          212,
          224,
          214,
          226,
          216,
          222,
          203,
          225,
          219,
          228,
          215,
          228,
          215,
          210,
          219,
          208,
          209,
          216,
          229,
          213,
          230,
          217,
          230,
          222,
          214,
          215,
          222,
          212,
          213
         ],
         "y": [
          3750,
          3800,
          3250,
          3450,
          3650,
          3625,
          4675,
          3200,
          3800,
          4400,
          3700,
          3450,
          4500,
          3325,
          4200,
          3400,
          3600,
          3800,
          3950,
          3800,
          3800,
          3550,
          3200,
          3150,
          3950,
          3250,
          3900,
          3300,
          3900,
          3325,
          4150,
          3950,
          3550,
          3300,
          4650,
          3150,
          3900,
          3100,
          4400,
          3000,
          4600,
          3425,
          3450,
          4150,
          3500,
          4300,
          3450,
          4050,
          2900,
          3700,
          3550,
          3800,
          2850,
          3750,
          3150,
          4400,
          3600,
          4050,
          2850,
          3950,
          3350,
          4100,
          3050,
          4450,
          3600,
          3900,
          3550,
          4150,
          3700,
          4250,
          3700,
          3900,
          3550,
          4000,
          3200,
          4700,
          3800,
          4200,
          3350,
          3550,
          3800,
          3500,
          3950,
          3600,
          3550,
          4300,
          3400,
          4450,
          3300,
          4300,
          3700,
          4350,
          2900,
          4100,
          3725,
          4725,
          3075,
          4250,
          2925,
          3550,
          3750,
          3900,
          3175,
          4775,
          3825,
          4600,
          3200,
          4275,
          3900,
          4075,
          2900,
          3775,
          3350,
          3325,
          3150,
          3500,
          3450,
          3875,
          3050,
          4000,
          3275,
          4300,
          3050,
          4000,
          3325,
          3500,
          3500,
          4475,
          3425,
          3900,
          3175,
          3975,
          3400,
          4250,
          3400,
          3475,
          3050,
          3725,
          3000,
          3650,
          4250,
          3475,
          3450,
          3750,
          3700,
          4000,
          3500,
          3900,
          3650,
          3525,
          3725,
          3950,
          3250,
          3750,
          4150,
          3700,
          3800,
          3775,
          3700,
          4050,
          3575,
          4050,
          3300,
          3700,
          3450,
          4400,
          3600,
          3400,
          2900,
          3800,
          3300,
          4150,
          3400,
          3800,
          3700,
          4550,
          3200,
          4300,
          3350,
          4100,
          3600,
          3900,
          3850,
          4800,
          2700,
          4500,
          3950,
          3650,
          3550,
          3500,
          3675,
          4450,
          3400,
          4300,
          3250,
          3675,
          3325,
          3950,
          3600,
          4050,
          3350,
          3450,
          3250,
          4050,
          3800,
          3525,
          3950,
          3650,
          3650,
          4000,
          3400,
          3775,
          4100,
          3775,
          4500,
          5700,
          4450,
          5700,
          5400,
          4550,
          4800,
          5200,
          4400,
          5150,
          4650,
          5550,
          4650,
          5850,
          4200,
          5850,
          4150,
          6300,
          4800,
          5350,
          5700,
          5000,
          4400,
          5050,
          5000,
          5100,
          5650,
          4600,
          5550,
          5250,
          4700,
          5050,
          6050,
          5150,
          5400,
          4950,
          5250,
          4350,
          5350,
          3950,
          5700,
          4300,
          4750,
          5550,
          4900,
          4200,
          5400,
          5100,
          5300,
          4850,
          5300,
          4400,
          5000,
          4900,
          5050,
          4300,
          5000,
          4450,
          5550,
          4200,
          5300,
          4400,
          5650,
          4700,
          5700,
          5800,
          4700,
          5550,
          4750,
          5000,
          5100,
          5200,
          4700,
          5800,
          4600,
          6000,
          4750,
          5950,
          4625,
          5450,
          4725,
          5350,
          4750,
          5600,
          4600,
          5300,
          4875,
          5550,
          4950,
          5400,
          4750,
          5650,
          4850,
          5200,
          4925,
          4875,
          4625,
          5250,
          4850,
          5600,
          4975,
          5500,
          5500,
          4700,
          5500,
          4575,
          5500,
          5000,
          5950,
          4650,
          5500,
          4375,
          5850,
          6000,
          4925,
          4850,
          5750,
          5200,
          5400
         ]
        }
       ],
       "layout": {
        "template": {
         "data": {
          "bar": [
           {
            "error_x": {
             "color": "#2a3f5f"
            },
            "error_y": {
             "color": "#2a3f5f"
            },
            "marker": {
             "line": {
              "color": "#E5ECF6",
              "width": 0.5
             },
             "pattern": {
              "fillmode": "overlay",
              "size": 10,
              "solidity": 0.2
             }
            },
            "type": "bar"
           }
          ],
          "barpolar": [
           {
            "marker": {
             "line": {
              "color": "#E5ECF6",
              "width": 0.5
             },
             "pattern": {
              "fillmode": "overlay",
              "size": 10,
              "solidity": 0.2
             }
            },
            "type": "barpolar"
           }
          ],
          "carpet": [
           {
            "aaxis": {
             "endlinecolor": "#2a3f5f",
             "gridcolor": "white",
             "linecolor": "white",
             "minorgridcolor": "white",
             "startlinecolor": "#2a3f5f"
            },
            "baxis": {
             "endlinecolor": "#2a3f5f",
             "gridcolor": "white",
             "linecolor": "white",
             "minorgridcolor": "white",
             "startlinecolor": "#2a3f5f"
            },
            "type": "carpet"
           }
          ],
          "choropleth": [
           {
            "colorbar": {
             "outlinewidth": 0,
             "ticks": ""
            },
            "type": "choropleth"
           }
          ],
          "contour": [
           {
            "colorbar": {
             "outlinewidth": 0,
             "ticks": ""
            },
            "colorscale": [
             [
              0,
              "#0d0887"
             ],
             [
              0.1111111111111111,
              "#46039f"
             ],
             [
              0.2222222222222222,
              "#7201a8"
             ],
             [
              0.3333333333333333,
              "#9c179e"
             ],
             [
              0.4444444444444444,
              "#bd3786"
             ],
             [
              0.5555555555555556,
              "#d8576b"
             ],
             [
              0.6666666666666666,
              "#ed7953"
             ],
             [
              0.7777777777777778,
              "#fb9f3a"
             ],
             [
              0.8888888888888888,
              "#fdca26"
             ],
             [
              1,
              "#f0f921"
             ]
            ],
            "type": "contour"
           }
          ],
          "contourcarpet": [
           {
            "colorbar": {
             "outlinewidth": 0,
             "ticks": ""
            },
            "type": "contourcarpet"
           }
          ],
          "heatmap": [
           {
            "colorbar": {
             "outlinewidth": 0,
             "ticks": ""
            },
            "colorscale": [
             [
              0,
              "#0d0887"
             ],
             [
              0.1111111111111111,
              "#46039f"
             ],
             [
              0.2222222222222222,
              "#7201a8"
             ],
             [
              0.3333333333333333,
              "#9c179e"
             ],
             [
              0.4444444444444444,
              "#bd3786"
             ],
             [
              0.5555555555555556,
              "#d8576b"
             ],
             [
              0.6666666666666666,
              "#ed7953"
             ],
             [
              0.7777777777777778,
              "#fb9f3a"
             ],
             [
              0.8888888888888888,
              "#fdca26"
             ],
             [
              1,
              "#f0f921"
             ]
            ],
            "type": "heatmap"
           }
          ],
          "heatmapgl": [
           {
            "colorbar": {
             "outlinewidth": 0,
             "ticks": ""
            },
            "colorscale": [
             [
              0,
              "#0d0887"
             ],
             [
              0.1111111111111111,
              "#46039f"
             ],
             [
              0.2222222222222222,
              "#7201a8"
             ],
             [
              0.3333333333333333,
              "#9c179e"
             ],
             [
              0.4444444444444444,
              "#bd3786"
             ],
             [
              0.5555555555555556,
              "#d8576b"
             ],
             [
              0.6666666666666666,
              "#ed7953"
             ],
             [
              0.7777777777777778,
              "#fb9f3a"
             ],
             [
              0.8888888888888888,
              "#fdca26"
             ],
             [
              1,
              "#f0f921"
             ]
            ],
            "type": "heatmapgl"
           }
          ],
          "histogram": [
           {
            "marker": {
             "pattern": {
              "fillmode": "overlay",
              "size": 10,
              "solidity": 0.2
             }
            },
            "type": "histogram"
           }
          ],
          "histogram2d": [
           {
            "colorbar": {
             "outlinewidth": 0,
             "ticks": ""
            },
            "colorscale": [
             [
              0,
              "#0d0887"
             ],
             [
              0.1111111111111111,
              "#46039f"
             ],
             [
              0.2222222222222222,
              "#7201a8"
             ],
             [
              0.3333333333333333,
              "#9c179e"
             ],
             [
              0.4444444444444444,
              "#bd3786"
             ],
             [
              0.5555555555555556,
              "#d8576b"
             ],
             [
              0.6666666666666666,
              "#ed7953"
             ],
             [
              0.7777777777777778,
              "#fb9f3a"
             ],
             [
              0.8888888888888888,
              "#fdca26"
             ],
             [
              1,
              "#f0f921"
             ]
            ],
            "type": "histogram2d"
           }
          ],
          "histogram2dcontour": [
           {
            "colorbar": {
             "outlinewidth": 0,
             "ticks": ""
            },
            "colorscale": [
             [
              0,
              "#0d0887"
             ],
             [
              0.1111111111111111,
              "#46039f"
             ],
             [
              0.2222222222222222,
              "#7201a8"
             ],
             [
              0.3333333333333333,
              "#9c179e"
             ],
             [
              0.4444444444444444,
              "#bd3786"
             ],
             [
              0.5555555555555556,
              "#d8576b"
             ],
             [
              0.6666666666666666,
              "#ed7953"
             ],
             [
              0.7777777777777778,
              "#fb9f3a"
             ],
             [
              0.8888888888888888,
              "#fdca26"
             ],
             [
              1,
              "#f0f921"
             ]
            ],
            "type": "histogram2dcontour"
           }
          ],
          "mesh3d": [
           {
            "colorbar": {
             "outlinewidth": 0,
             "ticks": ""
            },
            "type": "mesh3d"
           }
          ],
          "parcoords": [
           {
            "line": {
             "colorbar": {
              "outlinewidth": 0,
              "ticks": ""
             }
            },
            "type": "parcoords"
           }
          ],
          "pie": [
           {
            "automargin": true,
            "type": "pie"
           }
          ],
          "scatter": [
           {
            "fillpattern": {
             "fillmode": "overlay",
             "size": 10,
             "solidity": 0.2
            },
            "type": "scatter"
           }
          ],
          "scatter3d": [
           {
            "line": {
             "colorbar": {
              "outlinewidth": 0,
              "ticks": ""
             }
            },
            "marker": {
             "colorbar": {
              "outlinewidth": 0,
              "ticks": ""
             }
            },
            "type": "scatter3d"
           }
          ],
          "scattercarpet": [
           {
            "marker": {
             "colorbar": {
              "outlinewidth": 0,
              "ticks": ""
             }
            },
            "type": "scattercarpet"
           }
          ],
          "scattergeo": [
           {
            "marker": {
             "colorbar": {
              "outlinewidth": 0,
              "ticks": ""
             }
            },
            "type": "scattergeo"
           }
          ],
          "scattergl": [
           {
            "marker": {
             "colorbar": {
              "outlinewidth": 0,
              "ticks": ""
             }
            },
            "type": "scattergl"
           }
          ],
          "scattermapbox": [
           {
            "marker": {
             "colorbar": {
              "outlinewidth": 0,
              "ticks": ""
             }
            },
            "type": "scattermapbox"
           }
          ],
          "scatterpolar": [
           {
            "marker": {
             "colorbar": {
              "outlinewidth": 0,
              "ticks": ""
             }
            },
            "type": "scatterpolar"
           }
          ],
          "scatterpolargl": [
           {
            "marker": {
             "colorbar": {
              "outlinewidth": 0,
              "ticks": ""
             }
            },
            "type": "scatterpolargl"
           }
          ],
          "scatterternary": [
           {
            "marker": {
             "colorbar": {
              "outlinewidth": 0,
              "ticks": ""
             }
            },
            "type": "scatterternary"
           }
          ],
          "surface": [
           {
            "colorbar": {
             "outlinewidth": 0,
             "ticks": ""
            },
            "colorscale": [
             [
              0,
              "#0d0887"
             ],
             [
              0.1111111111111111,
              "#46039f"
             ],
             [
              0.2222222222222222,
              "#7201a8"
             ],
             [
              0.3333333333333333,
              "#9c179e"
             ],
             [
              0.4444444444444444,
              "#bd3786"
             ],
             [
              0.5555555555555556,
              "#d8576b"
             ],
             [
              0.6666666666666666,
              "#ed7953"
             ],
             [
              0.7777777777777778,
              "#fb9f3a"
             ],
             [
              0.8888888888888888,
              "#fdca26"
             ],
             [
              1,
              "#f0f921"
             ]
            ],
            "type": "surface"
           }
          ],
          "table": [
           {
            "cells": {
             "fill": {
              "color": "#EBF0F8"
             },
             "line": {
              "color": "white"
             }
            },
            "header": {
             "fill": {
              "color": "#C8D4E3"
             },
             "line": {
              "color": "white"
             }
            },
            "type": "table"
           }
          ]
         },
         "layout": {
          "annotationdefaults": {
           "arrowcolor": "#2a3f5f",
           "arrowhead": 0,
           "arrowwidth": 1
          },
          "autotypenumbers": "strict",
          "coloraxis": {
           "colorbar": {
            "outlinewidth": 0,
            "ticks": ""
           }
          },
          "colorscale": {
           "diverging": [
            [
             0,
             "#8e0152"
            ],
            [
             0.1,
             "#c51b7d"
            ],
            [
             0.2,
             "#de77ae"
            ],
            [
             0.3,
             "#f1b6da"
            ],
            [
             0.4,
             "#fde0ef"
            ],
            [
             0.5,
             "#f7f7f7"
            ],
            [
             0.6,
             "#e6f5d0"
            ],
            [
             0.7,
             "#b8e186"
            ],
            [
             0.8,
             "#7fbc41"
            ],
            [
             0.9,
             "#4d9221"
            ],
            [
             1,
             "#276419"
            ]
           ],
           "sequential": [
            [
             0,
             "#0d0887"
            ],
            [
             0.1111111111111111,
             "#46039f"
            ],
            [
             0.2222222222222222,
             "#7201a8"
            ],
            [
             0.3333333333333333,
             "#9c179e"
            ],
            [
             0.4444444444444444,
             "#bd3786"
            ],
            [
             0.5555555555555556,
             "#d8576b"
            ],
            [
             0.6666666666666666,
             "#ed7953"
            ],
            [
             0.7777777777777778,
             "#fb9f3a"
            ],
            [
             0.8888888888888888,
             "#fdca26"
            ],
            [
             1,
             "#f0f921"
            ]
           ],
           "sequentialminus": [
            [
             0,
             "#0d0887"
            ],
            [
             0.1111111111111111,
             "#46039f"
            ],
            [
             0.2222222222222222,
             "#7201a8"
            ],
            [
             0.3333333333333333,
             "#9c179e"
            ],
            [
             0.4444444444444444,
             "#bd3786"
            ],
            [
             0.5555555555555556,
             "#d8576b"
            ],
            [
             0.6666666666666666,
             "#ed7953"
            ],
            [
             0.7777777777777778,
             "#fb9f3a"
            ],
            [
             0.8888888888888888,
             "#fdca26"
            ],
            [
             1,
             "#f0f921"
            ]
           ]
          },
          "colorway": [
           "#636efa",
           "#EF553B",
           "#00cc96",
           "#ab63fa",
           "#FFA15A",
           "#19d3f3",
           "#FF6692",
           "#B6E880",
           "#FF97FF",
           "#FECB52"
          ],
          "font": {
           "color": "#2a3f5f"
          },
          "geo": {
           "bgcolor": "white",
           "lakecolor": "white",
           "landcolor": "#E5ECF6",
           "showlakes": true,
           "showland": true,
           "subunitcolor": "white"
          },
          "hoverlabel": {
           "align": "left"
          },
          "hovermode": "closest",
          "mapbox": {
           "style": "light"
          },
          "paper_bgcolor": "white",
          "plot_bgcolor": "#E5ECF6",
          "polar": {
           "angularaxis": {
            "gridcolor": "white",
            "linecolor": "white",
            "ticks": ""
           },
           "bgcolor": "#E5ECF6",
           "radialaxis": {
            "gridcolor": "white",
            "linecolor": "white",
            "ticks": ""
           }
          },
          "scene": {
           "xaxis": {
            "backgroundcolor": "#E5ECF6",
            "gridcolor": "white",
            "gridwidth": 2,
            "linecolor": "white",
            "showbackground": true,
            "ticks": "",
            "zerolinecolor": "white"
           },
           "yaxis": {
            "backgroundcolor": "#E5ECF6",
            "gridcolor": "white",
            "gridwidth": 2,
            "linecolor": "white",
            "showbackground": true,
            "ticks": "",
            "zerolinecolor": "white"
           },
           "zaxis": {
            "backgroundcolor": "#E5ECF6",
            "gridcolor": "white",
            "gridwidth": 2,
            "linecolor": "white",
            "showbackground": true,
            "ticks": "",
            "zerolinecolor": "white"
           }
          },
          "shapedefaults": {
           "line": {
            "color": "#2a3f5f"
           }
          },
          "ternary": {
           "aaxis": {
            "gridcolor": "white",
            "linecolor": "white",
            "ticks": ""
           },
           "baxis": {
            "gridcolor": "white",
            "linecolor": "white",
            "ticks": ""
           },
           "bgcolor": "#E5ECF6",
           "caxis": {
            "gridcolor": "white",
            "linecolor": "white",
            "ticks": ""
           }
          },
          "title": {
           "x": 0.05
          },
          "xaxis": {
           "automargin": true,
           "gridcolor": "white",
           "linecolor": "white",
           "ticks": "",
           "title": {
            "standoff": 15
           },
           "zerolinecolor": "white",
           "zerolinewidth": 2
          },
          "yaxis": {
           "automargin": true,
           "gridcolor": "white",
           "linecolor": "white",
           "ticks": "",
           "title": {
            "standoff": 15
           },
           "zerolinecolor": "white",
           "zerolinewidth": 2
          }
         }
        },
        "title": {
         "text": "Correlation between Penguin Flipper Length and Weight"
        },
        "xaxis": {
         "title": {
          "text": "Flipper Length (mm)"
         }
        },
        "yaxis": {
         "title": {
          "text": "Weight (g)"
         }
        }
       }
      }
     },
     "metadata": {},
     "output_type": "display_data"
    }
   ],
   "source": [
    "fig = go.Figure(\n",
    "    data = go.Scatter(\n",
    "        x = df['Flipper Length (mm)'],\n",
    "        y = df['Body Mass (g)'], \n",
    "        mode = 'markers', \n",
    "        marker = dict(\n",
    "            color = df['Species'].astype('category').cat.codes, \n",
    "            colorscale = 'Viridis', \n",
    "            size = df['Body Mass (g)']/100\n",
    "        )\n",
    "    )\n",
    ")\n",
    "\n",
    "fig.update_layout(\n",
    "    title = 'Correlation between Penguin Flipper Length and Weight',\n",
    "    xaxis_title = 'Flipper Length (mm)',\n",
    "    yaxis_title = 'Weight (g)')\n",
    "\n",
    "fig.show()"
   ]
  },
  {
   "cell_type": "code",
   "execution_count": 42,
   "metadata": {},
   "outputs": [],
   "source": [
    "# 5.Line Graph"
   ]
  },
  {
   "cell_type": "code",
   "execution_count": 43,
   "metadata": {},
   "outputs": [
    {
     "name": "stderr",
     "output_type": "stream",
     "text": [
      "C:\\Users\\Siri\\AppData\\Local\\Temp\\ipykernel_9824\\3038958353.py:1: UserWarning:\n",
      "\n",
      "Could not infer format, so each element will be parsed individually, falling back to `dateutil`. To ensure parsing is consistent and as-expected, please specify a format.\n",
      "\n"
     ]
    }
   ],
   "source": [
    "df['Date Egg'] = pd.to_datetime(df['Date Egg'], errors='coerce')\n",
    "df['Date Egg'].head()\n",
    "\n",
    "date_species_penguin = df.groupby(['Date Egg', 'Species']).size().unstack()\n",
    "\n",
    "full_date_range = pd.date_range(start=df['Date Egg'].min(), end=df['Date Egg'].max())\n",
    "\n",
    "date_species_penguin = date_species_penguin.reindex(full_date_range).fillna(0)"
   ]
  },
  {
   "cell_type": "code",
   "execution_count": 44,
   "metadata": {},
   "outputs": [
    {
     "data": {
      "application/vnd.plotly.v1+json": {
       "config": {
        "plotlyServerURL": "https://plot.ly"
       },
       "data": [
        {
         "line": {
          "color": "blue"
         },
         "marker": {
          "color": "blue",
          "size": 8
         },
         "mode": "lines+markers+text",
         "name": "Adelie Penguin",
         "text": [
          4,
          4,
          2,
          8,
          5,
          0,
          4,
          15,
          0,
          0,
          2,
          0,
          0,
          0,
          0,
          0,
          0,
          0,
          0,
          0,
          0,
          0,
          0,
          0,
          0,
          0,
          0,
          0,
          0,
          0,
          0,
          0,
          0,
          0,
          0,
          0,
          0,
          0,
          0,
          0,
          0,
          0,
          0,
          0,
          0,
          0,
          0,
          0,
          0,
          0,
          0,
          0,
          0,
          0,
          0,
          0,
          0,
          0,
          0,
          0,
          0,
          0,
          0,
          0,
          0,
          0,
          0,
          0,
          0,
          0,
          0,
          0,
          0,
          0,
          0,
          0,
          0,
          0,
          0,
          0,
          0,
          0,
          0,
          0,
          0,
          0,
          0,
          0,
          0,
          0,
          0,
          0,
          0,
          0,
          0,
          0,
          0,
          0,
          0,
          0,
          0,
          0,
          0,
          0,
          0,
          0,
          0,
          0,
          0,
          0,
          0,
          0,
          0,
          0,
          0,
          0,
          0,
          0,
          0,
          0,
          0,
          0,
          0,
          0,
          0,
          0,
          0,
          0,
          0,
          0,
          0,
          0,
          0,
          0,
          0,
          0,
          0,
          0,
          0,
          0,
          0,
          0,
          0,
          0,
          0,
          0,
          0,
          0,
          0,
          0,
          0,
          0,
          0,
          0,
          0,
          0,
          0,
          0,
          0,
          0,
          0,
          0,
          0,
          0,
          0,
          0,
          0,
          0,
          0,
          0,
          0,
          0,
          0,
          0,
          0,
          0,
          0,
          0,
          0,
          0,
          0,
          0,
          0,
          0,
          0,
          0,
          0,
          0,
          0,
          0,
          0,
          0,
          0,
          0,
          0,
          0,
          0,
          0,
          0,
          0,
          0,
          0,
          0,
          0,
          0,
          0,
          0,
          0,
          0,
          0,
          0,
          0,
          0,
          0,
          0,
          0,
          0,
          0,
          0,
          0,
          0,
          0,
          0,
          0,
          0,
          0,
          0,
          0,
          0,
          0,
          0,
          0,
          0,
          0,
          0,
          0,
          0,
          0,
          0,
          0,
          0,
          0,
          0,
          0,
          0,
          0,
          0,
          0,
          0,
          0,
          0,
          0,
          0,
          0,
          0,
          0,
          0,
          0,
          0,
          0,
          0,
          0,
          0,
          0,
          0,
          0,
          0,
          0,
          0,
          0,
          0,
          0,
          0,
          0,
          0,
          0,
          0,
          0,
          0,
          0,
          0,
          0,
          0,
          0,
          0,
          0,
          0,
          0,
          0,
          0,
          0,
          0,
          0,
          0,
          0,
          0,
          0,
          0,
          0,
          0,
          0,
          0,
          0,
          0,
          0,
          0,
          0,
          0,
          0,
          0,
          0,
          0,
          0,
          0,
          0,
          0,
          0,
          0,
          0,
          0,
          0,
          0,
          0,
          0,
          0,
          0,
          0,
          0,
          0,
          0,
          0,
          0,
          0,
          0,
          0,
          0,
          0,
          0,
          0,
          0,
          0,
          0,
          0,
          0,
          0,
          0,
          0,
          0,
          0,
          0,
          0,
          0,
          0,
          0,
          0,
          0,
          0,
          0,
          0,
          2,
          0,
          0,
          2,
          6,
          2,
          8,
          6,
          2,
          4,
          0,
          6,
          4,
          4,
          0,
          4,
          0,
          0,
          0,
          0,
          0,
          0,
          0,
          0,
          0,
          0,
          0,
          0,
          0,
          0,
          0,
          0,
          0,
          0,
          0,
          0,
          0,
          0,
          0,
          0,
          0,
          0,
          0,
          0,
          0,
          0,
          0,
          0,
          0,
          0,
          0,
          0,
          0,
          0,
          0,
          0,
          0,
          0,
          0,
          0,
          0,
          0,
          0,
          0,
          0,
          0,
          0,
          0,
          0,
          0,
          0,
          0,
          0,
          0,
          0,
          0,
          0,
          0,
          0,
          0,
          0,
          0,
          0,
          0,
          0,
          0,
          0,
          0,
          0,
          0,
          0,
          0,
          0,
          0,
          0,
          0,
          0,
          0,
          0,
          0,
          0,
          0,
          0,
          0,
          0,
          0,
          0,
          0,
          0,
          0,
          0,
          0,
          0,
          0,
          0,
          0,
          0,
          0,
          0,
          0,
          0,
          0,
          0,
          0,
          0,
          0,
          0,
          0,
          0,
          0,
          0,
          0,
          0,
          0,
          0,
          0,
          0,
          0,
          0,
          0,
          0,
          0,
          0,
          0,
          0,
          0,
          0,
          0,
          0,
          0,
          0,
          0,
          0,
          0,
          0,
          0,
          0,
          0,
          0,
          0,
          0,
          0,
          0,
          0,
          0,
          0,
          0,
          0,
          0,
          0,
          0,
          0,
          0,
          0,
          0,
          0,
          0,
          0,
          0,
          0,
          0,
          0,
          0,
          0,
          0,
          0,
          0,
          0,
          0,
          0,
          0,
          0,
          0,
          0,
          0,
          0,
          0,
          0,
          0,
          0,
          0,
          0,
          0,
          0,
          0,
          0,
          0,
          0,
          0,
          0,
          0,
          0,
          0,
          0,
          0,
          0,
          0,
          0,
          0,
          0,
          0,
          0,
          0,
          0,
          0,
          0,
          0,
          0,
          0,
          0,
          0,
          0,
          0,
          0,
          0,
          0,
          0,
          0,
          0,
          0,
          0,
          0,
          0,
          0,
          0,
          0,
          0,
          0,
          0,
          0,
          0,
          0,
          0,
          0,
          0,
          0,
          0,
          0,
          0,
          0,
          0,
          0,
          0,
          0,
          0,
          0,
          0,
          0,
          0,
          0,
          0,
          0,
          0,
          0,
          0,
          0,
          0,
          0,
          0,
          0,
          0,
          0,
          0,
          0,
          0,
          0,
          0,
          0,
          0,
          0,
          0,
          0,
          0,
          0,
          0,
          0,
          0,
          0,
          0,
          0,
          0,
          0,
          0,
          0,
          0,
          0,
          0,
          0,
          0,
          0,
          0,
          0,
          0,
          0,
          0,
          0,
          0,
          0,
          0,
          0,
          0,
          0,
          0,
          0,
          0,
          0,
          0,
          0,
          0,
          0,
          0,
          0,
          0,
          0,
          0,
          0,
          0,
          0,
          0,
          0,
          0,
          0,
          0,
          0,
          0,
          0,
          0,
          0,
          0,
          0,
          0,
          0,
          0,
          0,
          0,
          0,
          0,
          0,
          0,
          0,
          0,
          0,
          0,
          0,
          0,
          0,
          0,
          0,
          0,
          0,
          0,
          0,
          2,
          2,
          0,
          2,
          4,
          2,
          8,
          10,
          8,
          6,
          0,
          2,
          2,
          2,
          2,
          0,
          0,
          0,
          0,
          0,
          0,
          0,
          0
         ],
         "textposition": "top center",
         "type": "scatter",
         "x": [
          "2007-11-09T00:00:00",
          "2007-11-10T00:00:00",
          "2007-11-11T00:00:00",
          "2007-11-12T00:00:00",
          "2007-11-13T00:00:00",
          "2007-11-14T00:00:00",
          "2007-11-15T00:00:00",
          "2007-11-16T00:00:00",
          "2007-11-17T00:00:00",
          "2007-11-18T00:00:00",
          "2007-11-19T00:00:00",
          "2007-11-20T00:00:00",
          "2007-11-21T00:00:00",
          "2007-11-22T00:00:00",
          "2007-11-23T00:00:00",
          "2007-11-24T00:00:00",
          "2007-11-25T00:00:00",
          "2007-11-26T00:00:00",
          "2007-11-27T00:00:00",
          "2007-11-28T00:00:00",
          "2007-11-29T00:00:00",
          "2007-11-30T00:00:00",
          "2007-12-01T00:00:00",
          "2007-12-02T00:00:00",
          "2007-12-03T00:00:00",
          "2007-12-04T00:00:00",
          "2007-12-05T00:00:00",
          "2007-12-06T00:00:00",
          "2007-12-07T00:00:00",
          "2007-12-08T00:00:00",
          "2007-12-09T00:00:00",
          "2007-12-10T00:00:00",
          "2007-12-11T00:00:00",
          "2007-12-12T00:00:00",
          "2007-12-13T00:00:00",
          "2007-12-14T00:00:00",
          "2007-12-15T00:00:00",
          "2007-12-16T00:00:00",
          "2007-12-17T00:00:00",
          "2007-12-18T00:00:00",
          "2007-12-19T00:00:00",
          "2007-12-20T00:00:00",
          "2007-12-21T00:00:00",
          "2007-12-22T00:00:00",
          "2007-12-23T00:00:00",
          "2007-12-24T00:00:00",
          "2007-12-25T00:00:00",
          "2007-12-26T00:00:00",
          "2007-12-27T00:00:00",
          "2007-12-28T00:00:00",
          "2007-12-29T00:00:00",
          "2007-12-30T00:00:00",
          "2007-12-31T00:00:00",
          "2008-01-01T00:00:00",
          "2008-01-02T00:00:00",
          "2008-01-03T00:00:00",
          "2008-01-04T00:00:00",
          "2008-01-05T00:00:00",
          "2008-01-06T00:00:00",
          "2008-01-07T00:00:00",
          "2008-01-08T00:00:00",
          "2008-01-09T00:00:00",
          "2008-01-10T00:00:00",
          "2008-01-11T00:00:00",
          "2008-01-12T00:00:00",
          "2008-01-13T00:00:00",
          "2008-01-14T00:00:00",
          "2008-01-15T00:00:00",
          "2008-01-16T00:00:00",
          "2008-01-17T00:00:00",
          "2008-01-18T00:00:00",
          "2008-01-19T00:00:00",
          "2008-01-20T00:00:00",
          "2008-01-21T00:00:00",
          "2008-01-22T00:00:00",
          "2008-01-23T00:00:00",
          "2008-01-24T00:00:00",
          "2008-01-25T00:00:00",
          "2008-01-26T00:00:00",
          "2008-01-27T00:00:00",
          "2008-01-28T00:00:00",
          "2008-01-29T00:00:00",
          "2008-01-30T00:00:00",
          "2008-01-31T00:00:00",
          "2008-02-01T00:00:00",
          "2008-02-02T00:00:00",
          "2008-02-03T00:00:00",
          "2008-02-04T00:00:00",
          "2008-02-05T00:00:00",
          "2008-02-06T00:00:00",
          "2008-02-07T00:00:00",
          "2008-02-08T00:00:00",
          "2008-02-09T00:00:00",
          "2008-02-10T00:00:00",
          "2008-02-11T00:00:00",
          "2008-02-12T00:00:00",
          "2008-02-13T00:00:00",
          "2008-02-14T00:00:00",
          "2008-02-15T00:00:00",
          "2008-02-16T00:00:00",
          "2008-02-17T00:00:00",
          "2008-02-18T00:00:00",
          "2008-02-19T00:00:00",
          "2008-02-20T00:00:00",
          "2008-02-21T00:00:00",
          "2008-02-22T00:00:00",
          "2008-02-23T00:00:00",
          "2008-02-24T00:00:00",
          "2008-02-25T00:00:00",
          "2008-02-26T00:00:00",
          "2008-02-27T00:00:00",
          "2008-02-28T00:00:00",
          "2008-02-29T00:00:00",
          "2008-03-01T00:00:00",
          "2008-03-02T00:00:00",
          "2008-03-03T00:00:00",
          "2008-03-04T00:00:00",
          "2008-03-05T00:00:00",
          "2008-03-06T00:00:00",
          "2008-03-07T00:00:00",
          "2008-03-08T00:00:00",
          "2008-03-09T00:00:00",
          "2008-03-10T00:00:00",
          "2008-03-11T00:00:00",
          "2008-03-12T00:00:00",
          "2008-03-13T00:00:00",
          "2008-03-14T00:00:00",
          "2008-03-15T00:00:00",
          "2008-03-16T00:00:00",
          "2008-03-17T00:00:00",
          "2008-03-18T00:00:00",
          "2008-03-19T00:00:00",
          "2008-03-20T00:00:00",
          "2008-03-21T00:00:00",
          "2008-03-22T00:00:00",
          "2008-03-23T00:00:00",
          "2008-03-24T00:00:00",
          "2008-03-25T00:00:00",
          "2008-03-26T00:00:00",
          "2008-03-27T00:00:00",
          "2008-03-28T00:00:00",
          "2008-03-29T00:00:00",
          "2008-03-30T00:00:00",
          "2008-03-31T00:00:00",
          "2008-04-01T00:00:00",
          "2008-04-02T00:00:00",
          "2008-04-03T00:00:00",
          "2008-04-04T00:00:00",
          "2008-04-05T00:00:00",
          "2008-04-06T00:00:00",
          "2008-04-07T00:00:00",
          "2008-04-08T00:00:00",
          "2008-04-09T00:00:00",
          "2008-04-10T00:00:00",
          "2008-04-11T00:00:00",
          "2008-04-12T00:00:00",
          "2008-04-13T00:00:00",
          "2008-04-14T00:00:00",
          "2008-04-15T00:00:00",
          "2008-04-16T00:00:00",
          "2008-04-17T00:00:00",
          "2008-04-18T00:00:00",
          "2008-04-19T00:00:00",
          "2008-04-20T00:00:00",
          "2008-04-21T00:00:00",
          "2008-04-22T00:00:00",
          "2008-04-23T00:00:00",
          "2008-04-24T00:00:00",
          "2008-04-25T00:00:00",
          "2008-04-26T00:00:00",
          "2008-04-27T00:00:00",
          "2008-04-28T00:00:00",
          "2008-04-29T00:00:00",
          "2008-04-30T00:00:00",
          "2008-05-01T00:00:00",
          "2008-05-02T00:00:00",
          "2008-05-03T00:00:00",
          "2008-05-04T00:00:00",
          "2008-05-05T00:00:00",
          "2008-05-06T00:00:00",
          "2008-05-07T00:00:00",
          "2008-05-08T00:00:00",
          "2008-05-09T00:00:00",
          "2008-05-10T00:00:00",
          "2008-05-11T00:00:00",
          "2008-05-12T00:00:00",
          "2008-05-13T00:00:00",
          "2008-05-14T00:00:00",
          "2008-05-15T00:00:00",
          "2008-05-16T00:00:00",
          "2008-05-17T00:00:00",
          "2008-05-18T00:00:00",
          "2008-05-19T00:00:00",
          "2008-05-20T00:00:00",
          "2008-05-21T00:00:00",
          "2008-05-22T00:00:00",
          "2008-05-23T00:00:00",
          "2008-05-24T00:00:00",
          "2008-05-25T00:00:00",
          "2008-05-26T00:00:00",
          "2008-05-27T00:00:00",
          "2008-05-28T00:00:00",
          "2008-05-29T00:00:00",
          "2008-05-30T00:00:00",
          "2008-05-31T00:00:00",
          "2008-06-01T00:00:00",
          "2008-06-02T00:00:00",
          "2008-06-03T00:00:00",
          "2008-06-04T00:00:00",
          "2008-06-05T00:00:00",
          "2008-06-06T00:00:00",
          "2008-06-07T00:00:00",
          "2008-06-08T00:00:00",
          "2008-06-09T00:00:00",
          "2008-06-10T00:00:00",
          "2008-06-11T00:00:00",
          "2008-06-12T00:00:00",
          "2008-06-13T00:00:00",
          "2008-06-14T00:00:00",
          "2008-06-15T00:00:00",
          "2008-06-16T00:00:00",
          "2008-06-17T00:00:00",
          "2008-06-18T00:00:00",
          "2008-06-19T00:00:00",
          "2008-06-20T00:00:00",
          "2008-06-21T00:00:00",
          "2008-06-22T00:00:00",
          "2008-06-23T00:00:00",
          "2008-06-24T00:00:00",
          "2008-06-25T00:00:00",
          "2008-06-26T00:00:00",
          "2008-06-27T00:00:00",
          "2008-06-28T00:00:00",
          "2008-06-29T00:00:00",
          "2008-06-30T00:00:00",
          "2008-07-01T00:00:00",
          "2008-07-02T00:00:00",
          "2008-07-03T00:00:00",
          "2008-07-04T00:00:00",
          "2008-07-05T00:00:00",
          "2008-07-06T00:00:00",
          "2008-07-07T00:00:00",
          "2008-07-08T00:00:00",
          "2008-07-09T00:00:00",
          "2008-07-10T00:00:00",
          "2008-07-11T00:00:00",
          "2008-07-12T00:00:00",
          "2008-07-13T00:00:00",
          "2008-07-14T00:00:00",
          "2008-07-15T00:00:00",
          "2008-07-16T00:00:00",
          "2008-07-17T00:00:00",
          "2008-07-18T00:00:00",
          "2008-07-19T00:00:00",
          "2008-07-20T00:00:00",
          "2008-07-21T00:00:00",
          "2008-07-22T00:00:00",
          "2008-07-23T00:00:00",
          "2008-07-24T00:00:00",
          "2008-07-25T00:00:00",
          "2008-07-26T00:00:00",
          "2008-07-27T00:00:00",
          "2008-07-28T00:00:00",
          "2008-07-29T00:00:00",
          "2008-07-30T00:00:00",
          "2008-07-31T00:00:00",
          "2008-08-01T00:00:00",
          "2008-08-02T00:00:00",
          "2008-08-03T00:00:00",
          "2008-08-04T00:00:00",
          "2008-08-05T00:00:00",
          "2008-08-06T00:00:00",
          "2008-08-07T00:00:00",
          "2008-08-08T00:00:00",
          "2008-08-09T00:00:00",
          "2008-08-10T00:00:00",
          "2008-08-11T00:00:00",
          "2008-08-12T00:00:00",
          "2008-08-13T00:00:00",
          "2008-08-14T00:00:00",
          "2008-08-15T00:00:00",
          "2008-08-16T00:00:00",
          "2008-08-17T00:00:00",
          "2008-08-18T00:00:00",
          "2008-08-19T00:00:00",
          "2008-08-20T00:00:00",
          "2008-08-21T00:00:00",
          "2008-08-22T00:00:00",
          "2008-08-23T00:00:00",
          "2008-08-24T00:00:00",
          "2008-08-25T00:00:00",
          "2008-08-26T00:00:00",
          "2008-08-27T00:00:00",
          "2008-08-28T00:00:00",
          "2008-08-29T00:00:00",
          "2008-08-30T00:00:00",
          "2008-08-31T00:00:00",
          "2008-09-01T00:00:00",
          "2008-09-02T00:00:00",
          "2008-09-03T00:00:00",
          "2008-09-04T00:00:00",
          "2008-09-05T00:00:00",
          "2008-09-06T00:00:00",
          "2008-09-07T00:00:00",
          "2008-09-08T00:00:00",
          "2008-09-09T00:00:00",
          "2008-09-10T00:00:00",
          "2008-09-11T00:00:00",
          "2008-09-12T00:00:00",
          "2008-09-13T00:00:00",
          "2008-09-14T00:00:00",
          "2008-09-15T00:00:00",
          "2008-09-16T00:00:00",
          "2008-09-17T00:00:00",
          "2008-09-18T00:00:00",
          "2008-09-19T00:00:00",
          "2008-09-20T00:00:00",
          "2008-09-21T00:00:00",
          "2008-09-22T00:00:00",
          "2008-09-23T00:00:00",
          "2008-09-24T00:00:00",
          "2008-09-25T00:00:00",
          "2008-09-26T00:00:00",
          "2008-09-27T00:00:00",
          "2008-09-28T00:00:00",
          "2008-09-29T00:00:00",
          "2008-09-30T00:00:00",
          "2008-10-01T00:00:00",
          "2008-10-02T00:00:00",
          "2008-10-03T00:00:00",
          "2008-10-04T00:00:00",
          "2008-10-05T00:00:00",
          "2008-10-06T00:00:00",
          "2008-10-07T00:00:00",
          "2008-10-08T00:00:00",
          "2008-10-09T00:00:00",
          "2008-10-10T00:00:00",
          "2008-10-11T00:00:00",
          "2008-10-12T00:00:00",
          "2008-10-13T00:00:00",
          "2008-10-14T00:00:00",
          "2008-10-15T00:00:00",
          "2008-10-16T00:00:00",
          "2008-10-17T00:00:00",
          "2008-10-18T00:00:00",
          "2008-10-19T00:00:00",
          "2008-10-20T00:00:00",
          "2008-10-21T00:00:00",
          "2008-10-22T00:00:00",
          "2008-10-23T00:00:00",
          "2008-10-24T00:00:00",
          "2008-10-25T00:00:00",
          "2008-10-26T00:00:00",
          "2008-10-27T00:00:00",
          "2008-10-28T00:00:00",
          "2008-10-29T00:00:00",
          "2008-10-30T00:00:00",
          "2008-10-31T00:00:00",
          "2008-11-01T00:00:00",
          "2008-11-02T00:00:00",
          "2008-11-03T00:00:00",
          "2008-11-04T00:00:00",
          "2008-11-05T00:00:00",
          "2008-11-06T00:00:00",
          "2008-11-07T00:00:00",
          "2008-11-08T00:00:00",
          "2008-11-09T00:00:00",
          "2008-11-10T00:00:00",
          "2008-11-11T00:00:00",
          "2008-11-12T00:00:00",
          "2008-11-13T00:00:00",
          "2008-11-14T00:00:00",
          "2008-11-15T00:00:00",
          "2008-11-16T00:00:00",
          "2008-11-17T00:00:00",
          "2008-11-18T00:00:00",
          "2008-11-19T00:00:00",
          "2008-11-20T00:00:00",
          "2008-11-21T00:00:00",
          "2008-11-22T00:00:00",
          "2008-11-23T00:00:00",
          "2008-11-24T00:00:00",
          "2008-11-25T00:00:00",
          "2008-11-26T00:00:00",
          "2008-11-27T00:00:00",
          "2008-11-28T00:00:00",
          "2008-11-29T00:00:00",
          "2008-11-30T00:00:00",
          "2008-12-01T00:00:00",
          "2008-12-02T00:00:00",
          "2008-12-03T00:00:00",
          "2008-12-04T00:00:00",
          "2008-12-05T00:00:00",
          "2008-12-06T00:00:00",
          "2008-12-07T00:00:00",
          "2008-12-08T00:00:00",
          "2008-12-09T00:00:00",
          "2008-12-10T00:00:00",
          "2008-12-11T00:00:00",
          "2008-12-12T00:00:00",
          "2008-12-13T00:00:00",
          "2008-12-14T00:00:00",
          "2008-12-15T00:00:00",
          "2008-12-16T00:00:00",
          "2008-12-17T00:00:00",
          "2008-12-18T00:00:00",
          "2008-12-19T00:00:00",
          "2008-12-20T00:00:00",
          "2008-12-21T00:00:00",
          "2008-12-22T00:00:00",
          "2008-12-23T00:00:00",
          "2008-12-24T00:00:00",
          "2008-12-25T00:00:00",
          "2008-12-26T00:00:00",
          "2008-12-27T00:00:00",
          "2008-12-28T00:00:00",
          "2008-12-29T00:00:00",
          "2008-12-30T00:00:00",
          "2008-12-31T00:00:00",
          "2009-01-01T00:00:00",
          "2009-01-02T00:00:00",
          "2009-01-03T00:00:00",
          "2009-01-04T00:00:00",
          "2009-01-05T00:00:00",
          "2009-01-06T00:00:00",
          "2009-01-07T00:00:00",
          "2009-01-08T00:00:00",
          "2009-01-09T00:00:00",
          "2009-01-10T00:00:00",
          "2009-01-11T00:00:00",
          "2009-01-12T00:00:00",
          "2009-01-13T00:00:00",
          "2009-01-14T00:00:00",
          "2009-01-15T00:00:00",
          "2009-01-16T00:00:00",
          "2009-01-17T00:00:00",
          "2009-01-18T00:00:00",
          "2009-01-19T00:00:00",
          "2009-01-20T00:00:00",
          "2009-01-21T00:00:00",
          "2009-01-22T00:00:00",
          "2009-01-23T00:00:00",
          "2009-01-24T00:00:00",
          "2009-01-25T00:00:00",
          "2009-01-26T00:00:00",
          "2009-01-27T00:00:00",
          "2009-01-28T00:00:00",
          "2009-01-29T00:00:00",
          "2009-01-30T00:00:00",
          "2009-01-31T00:00:00",
          "2009-02-01T00:00:00",
          "2009-02-02T00:00:00",
          "2009-02-03T00:00:00",
          "2009-02-04T00:00:00",
          "2009-02-05T00:00:00",
          "2009-02-06T00:00:00",
          "2009-02-07T00:00:00",
          "2009-02-08T00:00:00",
          "2009-02-09T00:00:00",
          "2009-02-10T00:00:00",
          "2009-02-11T00:00:00",
          "2009-02-12T00:00:00",
          "2009-02-13T00:00:00",
          "2009-02-14T00:00:00",
          "2009-02-15T00:00:00",
          "2009-02-16T00:00:00",
          "2009-02-17T00:00:00",
          "2009-02-18T00:00:00",
          "2009-02-19T00:00:00",
          "2009-02-20T00:00:00",
          "2009-02-21T00:00:00",
          "2009-02-22T00:00:00",
          "2009-02-23T00:00:00",
          "2009-02-24T00:00:00",
          "2009-02-25T00:00:00",
          "2009-02-26T00:00:00",
          "2009-02-27T00:00:00",
          "2009-02-28T00:00:00",
          "2009-03-01T00:00:00",
          "2009-03-02T00:00:00",
          "2009-03-03T00:00:00",
          "2009-03-04T00:00:00",
          "2009-03-05T00:00:00",
          "2009-03-06T00:00:00",
          "2009-03-07T00:00:00",
          "2009-03-08T00:00:00",
          "2009-03-09T00:00:00",
          "2009-03-10T00:00:00",
          "2009-03-11T00:00:00",
          "2009-03-12T00:00:00",
          "2009-03-13T00:00:00",
          "2009-03-14T00:00:00",
          "2009-03-15T00:00:00",
          "2009-03-16T00:00:00",
          "2009-03-17T00:00:00",
          "2009-03-18T00:00:00",
          "2009-03-19T00:00:00",
          "2009-03-20T00:00:00",
          "2009-03-21T00:00:00",
          "2009-03-22T00:00:00",
          "2009-03-23T00:00:00",
          "2009-03-24T00:00:00",
          "2009-03-25T00:00:00",
          "2009-03-26T00:00:00",
          "2009-03-27T00:00:00",
          "2009-03-28T00:00:00",
          "2009-03-29T00:00:00",
          "2009-03-30T00:00:00",
          "2009-03-31T00:00:00",
          "2009-04-01T00:00:00",
          "2009-04-02T00:00:00",
          "2009-04-03T00:00:00",
          "2009-04-04T00:00:00",
          "2009-04-05T00:00:00",
          "2009-04-06T00:00:00",
          "2009-04-07T00:00:00",
          "2009-04-08T00:00:00",
          "2009-04-09T00:00:00",
          "2009-04-10T00:00:00",
          "2009-04-11T00:00:00",
          "2009-04-12T00:00:00",
          "2009-04-13T00:00:00",
          "2009-04-14T00:00:00",
          "2009-04-15T00:00:00",
          "2009-04-16T00:00:00",
          "2009-04-17T00:00:00",
          "2009-04-18T00:00:00",
          "2009-04-19T00:00:00",
          "2009-04-20T00:00:00",
          "2009-04-21T00:00:00",
          "2009-04-22T00:00:00",
          "2009-04-23T00:00:00",
          "2009-04-24T00:00:00",
          "2009-04-25T00:00:00",
          "2009-04-26T00:00:00",
          "2009-04-27T00:00:00",
          "2009-04-28T00:00:00",
          "2009-04-29T00:00:00",
          "2009-04-30T00:00:00",
          "2009-05-01T00:00:00",
          "2009-05-02T00:00:00",
          "2009-05-03T00:00:00",
          "2009-05-04T00:00:00",
          "2009-05-05T00:00:00",
          "2009-05-06T00:00:00",
          "2009-05-07T00:00:00",
          "2009-05-08T00:00:00",
          "2009-05-09T00:00:00",
          "2009-05-10T00:00:00",
          "2009-05-11T00:00:00",
          "2009-05-12T00:00:00",
          "2009-05-13T00:00:00",
          "2009-05-14T00:00:00",
          "2009-05-15T00:00:00",
          "2009-05-16T00:00:00",
          "2009-05-17T00:00:00",
          "2009-05-18T00:00:00",
          "2009-05-19T00:00:00",
          "2009-05-20T00:00:00",
          "2009-05-21T00:00:00",
          "2009-05-22T00:00:00",
          "2009-05-23T00:00:00",
          "2009-05-24T00:00:00",
          "2009-05-25T00:00:00",
          "2009-05-26T00:00:00",
          "2009-05-27T00:00:00",
          "2009-05-28T00:00:00",
          "2009-05-29T00:00:00",
          "2009-05-30T00:00:00",
          "2009-05-31T00:00:00",
          "2009-06-01T00:00:00",
          "2009-06-02T00:00:00",
          "2009-06-03T00:00:00",
          "2009-06-04T00:00:00",
          "2009-06-05T00:00:00",
          "2009-06-06T00:00:00",
          "2009-06-07T00:00:00",
          "2009-06-08T00:00:00",
          "2009-06-09T00:00:00",
          "2009-06-10T00:00:00",
          "2009-06-11T00:00:00",
          "2009-06-12T00:00:00",
          "2009-06-13T00:00:00",
          "2009-06-14T00:00:00",
          "2009-06-15T00:00:00",
          "2009-06-16T00:00:00",
          "2009-06-17T00:00:00",
          "2009-06-18T00:00:00",
          "2009-06-19T00:00:00",
          "2009-06-20T00:00:00",
          "2009-06-21T00:00:00",
          "2009-06-22T00:00:00",
          "2009-06-23T00:00:00",
          "2009-06-24T00:00:00",
          "2009-06-25T00:00:00",
          "2009-06-26T00:00:00",
          "2009-06-27T00:00:00",
          "2009-06-28T00:00:00",
          "2009-06-29T00:00:00",
          "2009-06-30T00:00:00",
          "2009-07-01T00:00:00",
          "2009-07-02T00:00:00",
          "2009-07-03T00:00:00",
          "2009-07-04T00:00:00",
          "2009-07-05T00:00:00",
          "2009-07-06T00:00:00",
          "2009-07-07T00:00:00",
          "2009-07-08T00:00:00",
          "2009-07-09T00:00:00",
          "2009-07-10T00:00:00",
          "2009-07-11T00:00:00",
          "2009-07-12T00:00:00",
          "2009-07-13T00:00:00",
          "2009-07-14T00:00:00",
          "2009-07-15T00:00:00",
          "2009-07-16T00:00:00",
          "2009-07-17T00:00:00",
          "2009-07-18T00:00:00",
          "2009-07-19T00:00:00",
          "2009-07-20T00:00:00",
          "2009-07-21T00:00:00",
          "2009-07-22T00:00:00",
          "2009-07-23T00:00:00",
          "2009-07-24T00:00:00",
          "2009-07-25T00:00:00",
          "2009-07-26T00:00:00",
          "2009-07-27T00:00:00",
          "2009-07-28T00:00:00",
          "2009-07-29T00:00:00",
          "2009-07-30T00:00:00",
          "2009-07-31T00:00:00",
          "2009-08-01T00:00:00",
          "2009-08-02T00:00:00",
          "2009-08-03T00:00:00",
          "2009-08-04T00:00:00",
          "2009-08-05T00:00:00",
          "2009-08-06T00:00:00",
          "2009-08-07T00:00:00",
          "2009-08-08T00:00:00",
          "2009-08-09T00:00:00",
          "2009-08-10T00:00:00",
          "2009-08-11T00:00:00",
          "2009-08-12T00:00:00",
          "2009-08-13T00:00:00",
          "2009-08-14T00:00:00",
          "2009-08-15T00:00:00",
          "2009-08-16T00:00:00",
          "2009-08-17T00:00:00",
          "2009-08-18T00:00:00",
          "2009-08-19T00:00:00",
          "2009-08-20T00:00:00",
          "2009-08-21T00:00:00",
          "2009-08-22T00:00:00",
          "2009-08-23T00:00:00",
          "2009-08-24T00:00:00",
          "2009-08-25T00:00:00",
          "2009-08-26T00:00:00",
          "2009-08-27T00:00:00",
          "2009-08-28T00:00:00",
          "2009-08-29T00:00:00",
          "2009-08-30T00:00:00",
          "2009-08-31T00:00:00",
          "2009-09-01T00:00:00",
          "2009-09-02T00:00:00",
          "2009-09-03T00:00:00",
          "2009-09-04T00:00:00",
          "2009-09-05T00:00:00",
          "2009-09-06T00:00:00",
          "2009-09-07T00:00:00",
          "2009-09-08T00:00:00",
          "2009-09-09T00:00:00",
          "2009-09-10T00:00:00",
          "2009-09-11T00:00:00",
          "2009-09-12T00:00:00",
          "2009-09-13T00:00:00",
          "2009-09-14T00:00:00",
          "2009-09-15T00:00:00",
          "2009-09-16T00:00:00",
          "2009-09-17T00:00:00",
          "2009-09-18T00:00:00",
          "2009-09-19T00:00:00",
          "2009-09-20T00:00:00",
          "2009-09-21T00:00:00",
          "2009-09-22T00:00:00",
          "2009-09-23T00:00:00",
          "2009-09-24T00:00:00",
          "2009-09-25T00:00:00",
          "2009-09-26T00:00:00",
          "2009-09-27T00:00:00",
          "2009-09-28T00:00:00",
          "2009-09-29T00:00:00",
          "2009-09-30T00:00:00",
          "2009-10-01T00:00:00",
          "2009-10-02T00:00:00",
          "2009-10-03T00:00:00",
          "2009-10-04T00:00:00",
          "2009-10-05T00:00:00",
          "2009-10-06T00:00:00",
          "2009-10-07T00:00:00",
          "2009-10-08T00:00:00",
          "2009-10-09T00:00:00",
          "2009-10-10T00:00:00",
          "2009-10-11T00:00:00",
          "2009-10-12T00:00:00",
          "2009-10-13T00:00:00",
          "2009-10-14T00:00:00",
          "2009-10-15T00:00:00",
          "2009-10-16T00:00:00",
          "2009-10-17T00:00:00",
          "2009-10-18T00:00:00",
          "2009-10-19T00:00:00",
          "2009-10-20T00:00:00",
          "2009-10-21T00:00:00",
          "2009-10-22T00:00:00",
          "2009-10-23T00:00:00",
          "2009-10-24T00:00:00",
          "2009-10-25T00:00:00",
          "2009-10-26T00:00:00",
          "2009-10-27T00:00:00",
          "2009-10-28T00:00:00",
          "2009-10-29T00:00:00",
          "2009-10-30T00:00:00",
          "2009-10-31T00:00:00",
          "2009-11-01T00:00:00",
          "2009-11-02T00:00:00",
          "2009-11-03T00:00:00",
          "2009-11-04T00:00:00",
          "2009-11-05T00:00:00",
          "2009-11-06T00:00:00",
          "2009-11-07T00:00:00",
          "2009-11-08T00:00:00",
          "2009-11-09T00:00:00",
          "2009-11-10T00:00:00",
          "2009-11-11T00:00:00",
          "2009-11-12T00:00:00",
          "2009-11-13T00:00:00",
          "2009-11-14T00:00:00",
          "2009-11-15T00:00:00",
          "2009-11-16T00:00:00",
          "2009-11-17T00:00:00",
          "2009-11-18T00:00:00",
          "2009-11-19T00:00:00",
          "2009-11-20T00:00:00",
          "2009-11-21T00:00:00",
          "2009-11-22T00:00:00",
          "2009-11-23T00:00:00",
          "2009-11-24T00:00:00",
          "2009-11-25T00:00:00",
          "2009-11-26T00:00:00",
          "2009-11-27T00:00:00",
          "2009-11-28T00:00:00",
          "2009-11-29T00:00:00",
          "2009-11-30T00:00:00",
          "2009-12-01T00:00:00"
         ],
         "y": [
          4,
          4,
          2,
          8,
          5,
          0,
          4,
          15,
          0,
          0,
          2,
          0,
          0,
          0,
          0,
          0,
          0,
          0,
          0,
          0,
          0,
          0,
          0,
          0,
          0,
          0,
          0,
          0,
          0,
          0,
          0,
          0,
          0,
          0,
          0,
          0,
          0,
          0,
          0,
          0,
          0,
          0,
          0,
          0,
          0,
          0,
          0,
          0,
          0,
          0,
          0,
          0,
          0,
          0,
          0,
          0,
          0,
          0,
          0,
          0,
          0,
          0,
          0,
          0,
          0,
          0,
          0,
          0,
          0,
          0,
          0,
          0,
          0,
          0,
          0,
          0,
          0,
          0,
          0,
          0,
          0,
          0,
          0,
          0,
          0,
          0,
          0,
          0,
          0,
          0,
          0,
          0,
          0,
          0,
          0,
          0,
          0,
          0,
          0,
          0,
          0,
          0,
          0,
          0,
          0,
          0,
          0,
          0,
          0,
          0,
          0,
          0,
          0,
          0,
          0,
          0,
          0,
          0,
          0,
          0,
          0,
          0,
          0,
          0,
          0,
          0,
          0,
          0,
          0,
          0,
          0,
          0,
          0,
          0,
          0,
          0,
          0,
          0,
          0,
          0,
          0,
          0,
          0,
          0,
          0,
          0,
          0,
          0,
          0,
          0,
          0,
          0,
          0,
          0,
          0,
          0,
          0,
          0,
          0,
          0,
          0,
          0,
          0,
          0,
          0,
          0,
          0,
          0,
          0,
          0,
          0,
          0,
          0,
          0,
          0,
          0,
          0,
          0,
          0,
          0,
          0,
          0,
          0,
          0,
          0,
          0,
          0,
          0,
          0,
          0,
          0,
          0,
          0,
          0,
          0,
          0,
          0,
          0,
          0,
          0,
          0,
          0,
          0,
          0,
          0,
          0,
          0,
          0,
          0,
          0,
          0,
          0,
          0,
          0,
          0,
          0,
          0,
          0,
          0,
          0,
          0,
          0,
          0,
          0,
          0,
          0,
          0,
          0,
          0,
          0,
          0,
          0,
          0,
          0,
          0,
          0,
          0,
          0,
          0,
          0,
          0,
          0,
          0,
          0,
          0,
          0,
          0,
          0,
          0,
          0,
          0,
          0,
          0,
          0,
          0,
          0,
          0,
          0,
          0,
          0,
          0,
          0,
          0,
          0,
          0,
          0,
          0,
          0,
          0,
          0,
          0,
          0,
          0,
          0,
          0,
          0,
          0,
          0,
          0,
          0,
          0,
          0,
          0,
          0,
          0,
          0,
          0,
          0,
          0,
          0,
          0,
          0,
          0,
          0,
          0,
          0,
          0,
          0,
          0,
          0,
          0,
          0,
          0,
          0,
          0,
          0,
          0,
          0,
          0,
          0,
          0,
          0,
          0,
          0,
          0,
          0,
          0,
          0,
          0,
          0,
          0,
          0,
          0,
          0,
          0,
          0,
          0,
          0,
          0,
          0,
          0,
          0,
          0,
          0,
          0,
          0,
          0,
          0,
          0,
          0,
          0,
          0,
          0,
          0,
          0,
          0,
          0,
          0,
          0,
          0,
          0,
          0,
          0,
          0,
          0,
          0,
          0,
          0,
          0,
          2,
          0,
          0,
          2,
          6,
          2,
          8,
          6,
          2,
          4,
          0,
          6,
          4,
          4,
          0,
          4,
          0,
          0,
          0,
          0,
          0,
          0,
          0,
          0,
          0,
          0,
          0,
          0,
          0,
          0,
          0,
          0,
          0,
          0,
          0,
          0,
          0,
          0,
          0,
          0,
          0,
          0,
          0,
          0,
          0,
          0,
          0,
          0,
          0,
          0,
          0,
          0,
          0,
          0,
          0,
          0,
          0,
          0,
          0,
          0,
          0,
          0,
          0,
          0,
          0,
          0,
          0,
          0,
          0,
          0,
          0,
          0,
          0,
          0,
          0,
          0,
          0,
          0,
          0,
          0,
          0,
          0,
          0,
          0,
          0,
          0,
          0,
          0,
          0,
          0,
          0,
          0,
          0,
          0,
          0,
          0,
          0,
          0,
          0,
          0,
          0,
          0,
          0,
          0,
          0,
          0,
          0,
          0,
          0,
          0,
          0,
          0,
          0,
          0,
          0,
          0,
          0,
          0,
          0,
          0,
          0,
          0,
          0,
          0,
          0,
          0,
          0,
          0,
          0,
          0,
          0,
          0,
          0,
          0,
          0,
          0,
          0,
          0,
          0,
          0,
          0,
          0,
          0,
          0,
          0,
          0,
          0,
          0,
          0,
          0,
          0,
          0,
          0,
          0,
          0,
          0,
          0,
          0,
          0,
          0,
          0,
          0,
          0,
          0,
          0,
          0,
          0,
          0,
          0,
          0,
          0,
          0,
          0,
          0,
          0,
          0,
          0,
          0,
          0,
          0,
          0,
          0,
          0,
          0,
          0,
          0,
          0,
          0,
          0,
          0,
          0,
          0,
          0,
          0,
          0,
          0,
          0,
          0,
          0,
          0,
          0,
          0,
          0,
          0,
          0,
          0,
          0,
          0,
          0,
          0,
          0,
          0,
          0,
          0,
          0,
          0,
          0,
          0,
          0,
          0,
          0,
          0,
          0,
          0,
          0,
          0,
          0,
          0,
          0,
          0,
          0,
          0,
          0,
          0,
          0,
          0,
          0,
          0,
          0,
          0,
          0,
          0,
          0,
          0,
          0,
          0,
          0,
          0,
          0,
          0,
          0,
          0,
          0,
          0,
          0,
          0,
          0,
          0,
          0,
          0,
          0,
          0,
          0,
          0,
          0,
          0,
          0,
          0,
          0,
          0,
          0,
          0,
          0,
          0,
          0,
          0,
          0,
          0,
          0,
          0,
          0,
          0,
          0,
          0,
          0,
          0,
          0,
          0,
          0,
          0,
          0,
          0,
          0,
          0,
          0,
          0,
          0,
          0,
          0,
          0,
          0,
          0,
          0,
          0,
          0,
          0,
          0,
          0,
          0,
          0,
          0,
          0,
          0,
          0,
          0,
          0,
          0,
          0,
          0,
          0,
          0,
          0,
          0,
          0,
          0,
          0,
          0,
          0,
          0,
          0,
          0,
          0,
          0,
          0,
          0,
          0,
          0,
          0,
          0,
          0,
          0,
          0,
          0,
          0,
          0,
          0,
          0,
          0,
          0,
          0,
          0,
          0,
          0,
          0,
          0,
          0,
          0,
          0,
          0,
          0,
          0,
          0,
          0,
          0,
          0,
          0,
          0,
          0,
          0,
          0,
          0,
          0,
          2,
          2,
          0,
          2,
          4,
          2,
          8,
          10,
          8,
          6,
          0,
          2,
          2,
          2,
          2,
          0,
          0,
          0,
          0,
          0,
          0,
          0,
          0
         ]
        },
        {
         "line": {
          "color": "green"
         },
         "marker": {
          "color": "green",
          "size": 8
         },
         "mode": "lines+markers+text",
         "name": "Gentoo Penguin",
         "text": [
          0,
          0,
          0,
          0,
          0,
          0,
          0,
          0,
          0,
          2,
          0,
          0,
          0,
          0,
          0,
          0,
          0,
          0,
          18,
          0,
          9,
          0,
          0,
          0,
          4,
          0,
          0,
          0,
          0,
          0,
          0,
          0,
          0,
          0,
          0,
          0,
          0,
          0,
          0,
          0,
          0,
          0,
          0,
          0,
          0,
          0,
          0,
          0,
          0,
          0,
          0,
          0,
          0,
          0,
          0,
          0,
          0,
          0,
          0,
          0,
          0,
          0,
          0,
          0,
          0,
          0,
          0,
          0,
          0,
          0,
          0,
          0,
          0,
          0,
          0,
          0,
          0,
          0,
          0,
          0,
          0,
          0,
          0,
          0,
          0,
          0,
          0,
          0,
          0,
          0,
          0,
          0,
          0,
          0,
          0,
          0,
          0,
          0,
          0,
          0,
          0,
          0,
          0,
          0,
          0,
          0,
          0,
          0,
          0,
          0,
          0,
          0,
          0,
          0,
          0,
          0,
          0,
          0,
          0,
          0,
          0,
          0,
          0,
          0,
          0,
          0,
          0,
          0,
          0,
          0,
          0,
          0,
          0,
          0,
          0,
          0,
          0,
          0,
          0,
          0,
          0,
          0,
          0,
          0,
          0,
          0,
          0,
          0,
          0,
          0,
          0,
          0,
          0,
          0,
          0,
          0,
          0,
          0,
          0,
          0,
          0,
          0,
          0,
          0,
          0,
          0,
          0,
          0,
          0,
          0,
          0,
          0,
          0,
          0,
          0,
          0,
          0,
          0,
          0,
          0,
          0,
          0,
          0,
          0,
          0,
          0,
          0,
          0,
          0,
          0,
          0,
          0,
          0,
          0,
          0,
          0,
          0,
          0,
          0,
          0,
          0,
          0,
          0,
          0,
          0,
          0,
          0,
          0,
          0,
          0,
          0,
          0,
          0,
          0,
          0,
          0,
          0,
          0,
          0,
          0,
          0,
          0,
          0,
          0,
          0,
          0,
          0,
          0,
          0,
          0,
          0,
          0,
          0,
          0,
          0,
          0,
          0,
          0,
          0,
          0,
          0,
          0,
          0,
          0,
          0,
          0,
          0,
          0,
          0,
          0,
          0,
          0,
          0,
          0,
          0,
          0,
          0,
          0,
          0,
          0,
          0,
          0,
          0,
          0,
          0,
          0,
          0,
          0,
          0,
          0,
          0,
          0,
          0,
          0,
          0,
          0,
          0,
          0,
          0,
          0,
          0,
          0,
          0,
          0,
          0,
          0,
          0,
          0,
          0,
          0,
          0,
          0,
          0,
          0,
          0,
          0,
          0,
          0,
          0,
          0,
          0,
          0,
          0,
          0,
          0,
          0,
          0,
          0,
          0,
          0,
          0,
          0,
          0,
          0,
          0,
          0,
          0,
          0,
          0,
          0,
          0,
          0,
          0,
          0,
          0,
          0,
          0,
          0,
          0,
          0,
          0,
          0,
          0,
          0,
          0,
          0,
          0,
          0,
          0,
          0,
          0,
          0,
          0,
          0,
          0,
          0,
          0,
          0,
          0,
          0,
          0,
          0,
          0,
          0,
          0,
          0,
          0,
          0,
          0,
          4,
          8,
          12,
          0,
          6,
          0,
          0,
          9,
          0,
          0,
          0,
          6,
          0,
          0,
          0,
          0,
          0,
          0,
          0,
          0,
          0,
          0,
          0,
          0,
          0,
          0,
          0,
          0,
          0,
          0,
          0,
          0,
          0,
          0,
          0,
          0,
          0,
          0,
          0,
          0,
          0,
          0,
          0,
          0,
          0,
          0,
          0,
          0,
          0,
          0,
          0,
          0,
          0,
          0,
          0,
          0,
          0,
          0,
          0,
          0,
          0,
          0,
          0,
          0,
          0,
          0,
          0,
          0,
          0,
          0,
          0,
          0,
          0,
          0,
          0,
          0,
          0,
          0,
          0,
          0,
          0,
          0,
          0,
          0,
          0,
          0,
          0,
          0,
          0,
          0,
          0,
          0,
          0,
          0,
          0,
          0,
          0,
          0,
          0,
          0,
          0,
          0,
          0,
          0,
          0,
          0,
          0,
          0,
          0,
          0,
          0,
          0,
          0,
          0,
          0,
          0,
          0,
          0,
          0,
          0,
          0,
          0,
          0,
          0,
          0,
          0,
          0,
          0,
          0,
          0,
          0,
          0,
          0,
          0,
          0,
          0,
          0,
          0,
          0,
          0,
          0,
          0,
          0,
          0,
          0,
          0,
          0,
          0,
          0,
          0,
          0,
          0,
          0,
          0,
          0,
          0,
          0,
          0,
          0,
          0,
          0,
          0,
          0,
          0,
          0,
          0,
          0,
          0,
          0,
          0,
          0,
          0,
          0,
          0,
          0,
          0,
          0,
          0,
          0,
          0,
          0,
          0,
          0,
          0,
          0,
          0,
          0,
          0,
          0,
          0,
          0,
          0,
          0,
          0,
          0,
          0,
          0,
          0,
          0,
          0,
          0,
          0,
          0,
          0,
          0,
          0,
          0,
          0,
          0,
          0,
          0,
          0,
          0,
          0,
          0,
          0,
          0,
          0,
          0,
          0,
          0,
          0,
          0,
          0,
          0,
          0,
          0,
          0,
          0,
          0,
          0,
          0,
          0,
          0,
          0,
          0,
          0,
          0,
          0,
          0,
          0,
          0,
          0,
          0,
          0,
          0,
          0,
          0,
          0,
          0,
          0,
          0,
          0,
          0,
          0,
          0,
          0,
          0,
          0,
          0,
          0,
          0,
          0,
          0,
          0,
          0,
          0,
          0,
          0,
          0,
          0,
          0,
          0,
          0,
          0,
          0,
          0,
          0,
          0,
          0,
          0,
          0,
          0,
          0,
          0,
          0,
          0,
          0,
          0,
          0,
          0,
          0,
          0,
          0,
          0,
          0,
          0,
          0,
          0,
          0,
          0,
          0,
          0,
          0,
          0,
          0,
          0,
          0,
          0,
          0,
          0,
          0,
          0,
          0,
          0,
          0,
          0,
          0,
          0,
          0,
          0,
          0,
          0,
          0,
          0,
          0,
          0,
          0,
          0,
          0,
          0,
          0,
          0,
          0,
          0,
          0,
          0,
          0,
          0,
          0,
          0,
          0,
          0,
          0,
          0,
          0,
          0,
          0,
          0,
          0,
          0,
          0,
          0,
          0,
          0,
          0,
          0,
          0,
          0,
          0,
          0,
          0,
          0,
          0,
          0,
          0,
          0,
          0,
          0,
          0,
          0,
          0,
          2,
          2,
          0,
          0,
          0,
          0,
          2,
          0,
          0,
          8,
          0,
          4,
          0,
          8,
          0,
          0,
          6,
          0,
          4,
          0,
          0,
          0,
          5
         ],
         "textposition": "top center",
         "type": "scatter",
         "x": [
          "2007-11-09T00:00:00",
          "2007-11-10T00:00:00",
          "2007-11-11T00:00:00",
          "2007-11-12T00:00:00",
          "2007-11-13T00:00:00",
          "2007-11-14T00:00:00",
          "2007-11-15T00:00:00",
          "2007-11-16T00:00:00",
          "2007-11-17T00:00:00",
          "2007-11-18T00:00:00",
          "2007-11-19T00:00:00",
          "2007-11-20T00:00:00",
          "2007-11-21T00:00:00",
          "2007-11-22T00:00:00",
          "2007-11-23T00:00:00",
          "2007-11-24T00:00:00",
          "2007-11-25T00:00:00",
          "2007-11-26T00:00:00",
          "2007-11-27T00:00:00",
          "2007-11-28T00:00:00",
          "2007-11-29T00:00:00",
          "2007-11-30T00:00:00",
          "2007-12-01T00:00:00",
          "2007-12-02T00:00:00",
          "2007-12-03T00:00:00",
          "2007-12-04T00:00:00",
          "2007-12-05T00:00:00",
          "2007-12-06T00:00:00",
          "2007-12-07T00:00:00",
          "2007-12-08T00:00:00",
          "2007-12-09T00:00:00",
          "2007-12-10T00:00:00",
          "2007-12-11T00:00:00",
          "2007-12-12T00:00:00",
          "2007-12-13T00:00:00",
          "2007-12-14T00:00:00",
          "2007-12-15T00:00:00",
          "2007-12-16T00:00:00",
          "2007-12-17T00:00:00",
          "2007-12-18T00:00:00",
          "2007-12-19T00:00:00",
          "2007-12-20T00:00:00",
          "2007-12-21T00:00:00",
          "2007-12-22T00:00:00",
          "2007-12-23T00:00:00",
          "2007-12-24T00:00:00",
          "2007-12-25T00:00:00",
          "2007-12-26T00:00:00",
          "2007-12-27T00:00:00",
          "2007-12-28T00:00:00",
          "2007-12-29T00:00:00",
          "2007-12-30T00:00:00",
          "2007-12-31T00:00:00",
          "2008-01-01T00:00:00",
          "2008-01-02T00:00:00",
          "2008-01-03T00:00:00",
          "2008-01-04T00:00:00",
          "2008-01-05T00:00:00",
          "2008-01-06T00:00:00",
          "2008-01-07T00:00:00",
          "2008-01-08T00:00:00",
          "2008-01-09T00:00:00",
          "2008-01-10T00:00:00",
          "2008-01-11T00:00:00",
          "2008-01-12T00:00:00",
          "2008-01-13T00:00:00",
          "2008-01-14T00:00:00",
          "2008-01-15T00:00:00",
          "2008-01-16T00:00:00",
          "2008-01-17T00:00:00",
          "2008-01-18T00:00:00",
          "2008-01-19T00:00:00",
          "2008-01-20T00:00:00",
          "2008-01-21T00:00:00",
          "2008-01-22T00:00:00",
          "2008-01-23T00:00:00",
          "2008-01-24T00:00:00",
          "2008-01-25T00:00:00",
          "2008-01-26T00:00:00",
          "2008-01-27T00:00:00",
          "2008-01-28T00:00:00",
          "2008-01-29T00:00:00",
          "2008-01-30T00:00:00",
          "2008-01-31T00:00:00",
          "2008-02-01T00:00:00",
          "2008-02-02T00:00:00",
          "2008-02-03T00:00:00",
          "2008-02-04T00:00:00",
          "2008-02-05T00:00:00",
          "2008-02-06T00:00:00",
          "2008-02-07T00:00:00",
          "2008-02-08T00:00:00",
          "2008-02-09T00:00:00",
          "2008-02-10T00:00:00",
          "2008-02-11T00:00:00",
          "2008-02-12T00:00:00",
          "2008-02-13T00:00:00",
          "2008-02-14T00:00:00",
          "2008-02-15T00:00:00",
          "2008-02-16T00:00:00",
          "2008-02-17T00:00:00",
          "2008-02-18T00:00:00",
          "2008-02-19T00:00:00",
          "2008-02-20T00:00:00",
          "2008-02-21T00:00:00",
          "2008-02-22T00:00:00",
          "2008-02-23T00:00:00",
          "2008-02-24T00:00:00",
          "2008-02-25T00:00:00",
          "2008-02-26T00:00:00",
          "2008-02-27T00:00:00",
          "2008-02-28T00:00:00",
          "2008-02-29T00:00:00",
          "2008-03-01T00:00:00",
          "2008-03-02T00:00:00",
          "2008-03-03T00:00:00",
          "2008-03-04T00:00:00",
          "2008-03-05T00:00:00",
          "2008-03-06T00:00:00",
          "2008-03-07T00:00:00",
          "2008-03-08T00:00:00",
          "2008-03-09T00:00:00",
          "2008-03-10T00:00:00",
          "2008-03-11T00:00:00",
          "2008-03-12T00:00:00",
          "2008-03-13T00:00:00",
          "2008-03-14T00:00:00",
          "2008-03-15T00:00:00",
          "2008-03-16T00:00:00",
          "2008-03-17T00:00:00",
          "2008-03-18T00:00:00",
          "2008-03-19T00:00:00",
          "2008-03-20T00:00:00",
          "2008-03-21T00:00:00",
          "2008-03-22T00:00:00",
          "2008-03-23T00:00:00",
          "2008-03-24T00:00:00",
          "2008-03-25T00:00:00",
          "2008-03-26T00:00:00",
          "2008-03-27T00:00:00",
          "2008-03-28T00:00:00",
          "2008-03-29T00:00:00",
          "2008-03-30T00:00:00",
          "2008-03-31T00:00:00",
          "2008-04-01T00:00:00",
          "2008-04-02T00:00:00",
          "2008-04-03T00:00:00",
          "2008-04-04T00:00:00",
          "2008-04-05T00:00:00",
          "2008-04-06T00:00:00",
          "2008-04-07T00:00:00",
          "2008-04-08T00:00:00",
          "2008-04-09T00:00:00",
          "2008-04-10T00:00:00",
          "2008-04-11T00:00:00",
          "2008-04-12T00:00:00",
          "2008-04-13T00:00:00",
          "2008-04-14T00:00:00",
          "2008-04-15T00:00:00",
          "2008-04-16T00:00:00",
          "2008-04-17T00:00:00",
          "2008-04-18T00:00:00",
          "2008-04-19T00:00:00",
          "2008-04-20T00:00:00",
          "2008-04-21T00:00:00",
          "2008-04-22T00:00:00",
          "2008-04-23T00:00:00",
          "2008-04-24T00:00:00",
          "2008-04-25T00:00:00",
          "2008-04-26T00:00:00",
          "2008-04-27T00:00:00",
          "2008-04-28T00:00:00",
          "2008-04-29T00:00:00",
          "2008-04-30T00:00:00",
          "2008-05-01T00:00:00",
          "2008-05-02T00:00:00",
          "2008-05-03T00:00:00",
          "2008-05-04T00:00:00",
          "2008-05-05T00:00:00",
          "2008-05-06T00:00:00",
          "2008-05-07T00:00:00",
          "2008-05-08T00:00:00",
          "2008-05-09T00:00:00",
          "2008-05-10T00:00:00",
          "2008-05-11T00:00:00",
          "2008-05-12T00:00:00",
          "2008-05-13T00:00:00",
          "2008-05-14T00:00:00",
          "2008-05-15T00:00:00",
          "2008-05-16T00:00:00",
          "2008-05-17T00:00:00",
          "2008-05-18T00:00:00",
          "2008-05-19T00:00:00",
          "2008-05-20T00:00:00",
          "2008-05-21T00:00:00",
          "2008-05-22T00:00:00",
          "2008-05-23T00:00:00",
          "2008-05-24T00:00:00",
          "2008-05-25T00:00:00",
          "2008-05-26T00:00:00",
          "2008-05-27T00:00:00",
          "2008-05-28T00:00:00",
          "2008-05-29T00:00:00",
          "2008-05-30T00:00:00",
          "2008-05-31T00:00:00",
          "2008-06-01T00:00:00",
          "2008-06-02T00:00:00",
          "2008-06-03T00:00:00",
          "2008-06-04T00:00:00",
          "2008-06-05T00:00:00",
          "2008-06-06T00:00:00",
          "2008-06-07T00:00:00",
          "2008-06-08T00:00:00",
          "2008-06-09T00:00:00",
          "2008-06-10T00:00:00",
          "2008-06-11T00:00:00",
          "2008-06-12T00:00:00",
          "2008-06-13T00:00:00",
          "2008-06-14T00:00:00",
          "2008-06-15T00:00:00",
          "2008-06-16T00:00:00",
          "2008-06-17T00:00:00",
          "2008-06-18T00:00:00",
          "2008-06-19T00:00:00",
          "2008-06-20T00:00:00",
          "2008-06-21T00:00:00",
          "2008-06-22T00:00:00",
          "2008-06-23T00:00:00",
          "2008-06-24T00:00:00",
          "2008-06-25T00:00:00",
          "2008-06-26T00:00:00",
          "2008-06-27T00:00:00",
          "2008-06-28T00:00:00",
          "2008-06-29T00:00:00",
          "2008-06-30T00:00:00",
          "2008-07-01T00:00:00",
          "2008-07-02T00:00:00",
          "2008-07-03T00:00:00",
          "2008-07-04T00:00:00",
          "2008-07-05T00:00:00",
          "2008-07-06T00:00:00",
          "2008-07-07T00:00:00",
          "2008-07-08T00:00:00",
          "2008-07-09T00:00:00",
          "2008-07-10T00:00:00",
          "2008-07-11T00:00:00",
          "2008-07-12T00:00:00",
          "2008-07-13T00:00:00",
          "2008-07-14T00:00:00",
          "2008-07-15T00:00:00",
          "2008-07-16T00:00:00",
          "2008-07-17T00:00:00",
          "2008-07-18T00:00:00",
          "2008-07-19T00:00:00",
          "2008-07-20T00:00:00",
          "2008-07-21T00:00:00",
          "2008-07-22T00:00:00",
          "2008-07-23T00:00:00",
          "2008-07-24T00:00:00",
          "2008-07-25T00:00:00",
          "2008-07-26T00:00:00",
          "2008-07-27T00:00:00",
          "2008-07-28T00:00:00",
          "2008-07-29T00:00:00",
          "2008-07-30T00:00:00",
          "2008-07-31T00:00:00",
          "2008-08-01T00:00:00",
          "2008-08-02T00:00:00",
          "2008-08-03T00:00:00",
          "2008-08-04T00:00:00",
          "2008-08-05T00:00:00",
          "2008-08-06T00:00:00",
          "2008-08-07T00:00:00",
          "2008-08-08T00:00:00",
          "2008-08-09T00:00:00",
          "2008-08-10T00:00:00",
          "2008-08-11T00:00:00",
          "2008-08-12T00:00:00",
          "2008-08-13T00:00:00",
          "2008-08-14T00:00:00",
          "2008-08-15T00:00:00",
          "2008-08-16T00:00:00",
          "2008-08-17T00:00:00",
          "2008-08-18T00:00:00",
          "2008-08-19T00:00:00",
          "2008-08-20T00:00:00",
          "2008-08-21T00:00:00",
          "2008-08-22T00:00:00",
          "2008-08-23T00:00:00",
          "2008-08-24T00:00:00",
          "2008-08-25T00:00:00",
          "2008-08-26T00:00:00",
          "2008-08-27T00:00:00",
          "2008-08-28T00:00:00",
          "2008-08-29T00:00:00",
          "2008-08-30T00:00:00",
          "2008-08-31T00:00:00",
          "2008-09-01T00:00:00",
          "2008-09-02T00:00:00",
          "2008-09-03T00:00:00",
          "2008-09-04T00:00:00",
          "2008-09-05T00:00:00",
          "2008-09-06T00:00:00",
          "2008-09-07T00:00:00",
          "2008-09-08T00:00:00",
          "2008-09-09T00:00:00",
          "2008-09-10T00:00:00",
          "2008-09-11T00:00:00",
          "2008-09-12T00:00:00",
          "2008-09-13T00:00:00",
          "2008-09-14T00:00:00",
          "2008-09-15T00:00:00",
          "2008-09-16T00:00:00",
          "2008-09-17T00:00:00",
          "2008-09-18T00:00:00",
          "2008-09-19T00:00:00",
          "2008-09-20T00:00:00",
          "2008-09-21T00:00:00",
          "2008-09-22T00:00:00",
          "2008-09-23T00:00:00",
          "2008-09-24T00:00:00",
          "2008-09-25T00:00:00",
          "2008-09-26T00:00:00",
          "2008-09-27T00:00:00",
          "2008-09-28T00:00:00",
          "2008-09-29T00:00:00",
          "2008-09-30T00:00:00",
          "2008-10-01T00:00:00",
          "2008-10-02T00:00:00",
          "2008-10-03T00:00:00",
          "2008-10-04T00:00:00",
          "2008-10-05T00:00:00",
          "2008-10-06T00:00:00",
          "2008-10-07T00:00:00",
          "2008-10-08T00:00:00",
          "2008-10-09T00:00:00",
          "2008-10-10T00:00:00",
          "2008-10-11T00:00:00",
          "2008-10-12T00:00:00",
          "2008-10-13T00:00:00",
          "2008-10-14T00:00:00",
          "2008-10-15T00:00:00",
          "2008-10-16T00:00:00",
          "2008-10-17T00:00:00",
          "2008-10-18T00:00:00",
          "2008-10-19T00:00:00",
          "2008-10-20T00:00:00",
          "2008-10-21T00:00:00",
          "2008-10-22T00:00:00",
          "2008-10-23T00:00:00",
          "2008-10-24T00:00:00",
          "2008-10-25T00:00:00",
          "2008-10-26T00:00:00",
          "2008-10-27T00:00:00",
          "2008-10-28T00:00:00",
          "2008-10-29T00:00:00",
          "2008-10-30T00:00:00",
          "2008-10-31T00:00:00",
          "2008-11-01T00:00:00",
          "2008-11-02T00:00:00",
          "2008-11-03T00:00:00",
          "2008-11-04T00:00:00",
          "2008-11-05T00:00:00",
          "2008-11-06T00:00:00",
          "2008-11-07T00:00:00",
          "2008-11-08T00:00:00",
          "2008-11-09T00:00:00",
          "2008-11-10T00:00:00",
          "2008-11-11T00:00:00",
          "2008-11-12T00:00:00",
          "2008-11-13T00:00:00",
          "2008-11-14T00:00:00",
          "2008-11-15T00:00:00",
          "2008-11-16T00:00:00",
          "2008-11-17T00:00:00",
          "2008-11-18T00:00:00",
          "2008-11-19T00:00:00",
          "2008-11-20T00:00:00",
          "2008-11-21T00:00:00",
          "2008-11-22T00:00:00",
          "2008-11-23T00:00:00",
          "2008-11-24T00:00:00",
          "2008-11-25T00:00:00",
          "2008-11-26T00:00:00",
          "2008-11-27T00:00:00",
          "2008-11-28T00:00:00",
          "2008-11-29T00:00:00",
          "2008-11-30T00:00:00",
          "2008-12-01T00:00:00",
          "2008-12-02T00:00:00",
          "2008-12-03T00:00:00",
          "2008-12-04T00:00:00",
          "2008-12-05T00:00:00",
          "2008-12-06T00:00:00",
          "2008-12-07T00:00:00",
          "2008-12-08T00:00:00",
          "2008-12-09T00:00:00",
          "2008-12-10T00:00:00",
          "2008-12-11T00:00:00",
          "2008-12-12T00:00:00",
          "2008-12-13T00:00:00",
          "2008-12-14T00:00:00",
          "2008-12-15T00:00:00",
          "2008-12-16T00:00:00",
          "2008-12-17T00:00:00",
          "2008-12-18T00:00:00",
          "2008-12-19T00:00:00",
          "2008-12-20T00:00:00",
          "2008-12-21T00:00:00",
          "2008-12-22T00:00:00",
          "2008-12-23T00:00:00",
          "2008-12-24T00:00:00",
          "2008-12-25T00:00:00",
          "2008-12-26T00:00:00",
          "2008-12-27T00:00:00",
          "2008-12-28T00:00:00",
          "2008-12-29T00:00:00",
          "2008-12-30T00:00:00",
          "2008-12-31T00:00:00",
          "2009-01-01T00:00:00",
          "2009-01-02T00:00:00",
          "2009-01-03T00:00:00",
          "2009-01-04T00:00:00",
          "2009-01-05T00:00:00",
          "2009-01-06T00:00:00",
          "2009-01-07T00:00:00",
          "2009-01-08T00:00:00",
          "2009-01-09T00:00:00",
          "2009-01-10T00:00:00",
          "2009-01-11T00:00:00",
          "2009-01-12T00:00:00",
          "2009-01-13T00:00:00",
          "2009-01-14T00:00:00",
          "2009-01-15T00:00:00",
          "2009-01-16T00:00:00",
          "2009-01-17T00:00:00",
          "2009-01-18T00:00:00",
          "2009-01-19T00:00:00",
          "2009-01-20T00:00:00",
          "2009-01-21T00:00:00",
          "2009-01-22T00:00:00",
          "2009-01-23T00:00:00",
          "2009-01-24T00:00:00",
          "2009-01-25T00:00:00",
          "2009-01-26T00:00:00",
          "2009-01-27T00:00:00",
          "2009-01-28T00:00:00",
          "2009-01-29T00:00:00",
          "2009-01-30T00:00:00",
          "2009-01-31T00:00:00",
          "2009-02-01T00:00:00",
          "2009-02-02T00:00:00",
          "2009-02-03T00:00:00",
          "2009-02-04T00:00:00",
          "2009-02-05T00:00:00",
          "2009-02-06T00:00:00",
          "2009-02-07T00:00:00",
          "2009-02-08T00:00:00",
          "2009-02-09T00:00:00",
          "2009-02-10T00:00:00",
          "2009-02-11T00:00:00",
          "2009-02-12T00:00:00",
          "2009-02-13T00:00:00",
          "2009-02-14T00:00:00",
          "2009-02-15T00:00:00",
          "2009-02-16T00:00:00",
          "2009-02-17T00:00:00",
          "2009-02-18T00:00:00",
          "2009-02-19T00:00:00",
          "2009-02-20T00:00:00",
          "2009-02-21T00:00:00",
          "2009-02-22T00:00:00",
          "2009-02-23T00:00:00",
          "2009-02-24T00:00:00",
          "2009-02-25T00:00:00",
          "2009-02-26T00:00:00",
          "2009-02-27T00:00:00",
          "2009-02-28T00:00:00",
          "2009-03-01T00:00:00",
          "2009-03-02T00:00:00",
          "2009-03-03T00:00:00",
          "2009-03-04T00:00:00",
          "2009-03-05T00:00:00",
          "2009-03-06T00:00:00",
          "2009-03-07T00:00:00",
          "2009-03-08T00:00:00",
          "2009-03-09T00:00:00",
          "2009-03-10T00:00:00",
          "2009-03-11T00:00:00",
          "2009-03-12T00:00:00",
          "2009-03-13T00:00:00",
          "2009-03-14T00:00:00",
          "2009-03-15T00:00:00",
          "2009-03-16T00:00:00",
          "2009-03-17T00:00:00",
          "2009-03-18T00:00:00",
          "2009-03-19T00:00:00",
          "2009-03-20T00:00:00",
          "2009-03-21T00:00:00",
          "2009-03-22T00:00:00",
          "2009-03-23T00:00:00",
          "2009-03-24T00:00:00",
          "2009-03-25T00:00:00",
          "2009-03-26T00:00:00",
          "2009-03-27T00:00:00",
          "2009-03-28T00:00:00",
          "2009-03-29T00:00:00",
          "2009-03-30T00:00:00",
          "2009-03-31T00:00:00",
          "2009-04-01T00:00:00",
          "2009-04-02T00:00:00",
          "2009-04-03T00:00:00",
          "2009-04-04T00:00:00",
          "2009-04-05T00:00:00",
          "2009-04-06T00:00:00",
          "2009-04-07T00:00:00",
          "2009-04-08T00:00:00",
          "2009-04-09T00:00:00",
          "2009-04-10T00:00:00",
          "2009-04-11T00:00:00",
          "2009-04-12T00:00:00",
          "2009-04-13T00:00:00",
          "2009-04-14T00:00:00",
          "2009-04-15T00:00:00",
          "2009-04-16T00:00:00",
          "2009-04-17T00:00:00",
          "2009-04-18T00:00:00",
          "2009-04-19T00:00:00",
          "2009-04-20T00:00:00",
          "2009-04-21T00:00:00",
          "2009-04-22T00:00:00",
          "2009-04-23T00:00:00",
          "2009-04-24T00:00:00",
          "2009-04-25T00:00:00",
          "2009-04-26T00:00:00",
          "2009-04-27T00:00:00",
          "2009-04-28T00:00:00",
          "2009-04-29T00:00:00",
          "2009-04-30T00:00:00",
          "2009-05-01T00:00:00",
          "2009-05-02T00:00:00",
          "2009-05-03T00:00:00",
          "2009-05-04T00:00:00",
          "2009-05-05T00:00:00",
          "2009-05-06T00:00:00",
          "2009-05-07T00:00:00",
          "2009-05-08T00:00:00",
          "2009-05-09T00:00:00",
          "2009-05-10T00:00:00",
          "2009-05-11T00:00:00",
          "2009-05-12T00:00:00",
          "2009-05-13T00:00:00",
          "2009-05-14T00:00:00",
          "2009-05-15T00:00:00",
          "2009-05-16T00:00:00",
          "2009-05-17T00:00:00",
          "2009-05-18T00:00:00",
          "2009-05-19T00:00:00",
          "2009-05-20T00:00:00",
          "2009-05-21T00:00:00",
          "2009-05-22T00:00:00",
          "2009-05-23T00:00:00",
          "2009-05-24T00:00:00",
          "2009-05-25T00:00:00",
          "2009-05-26T00:00:00",
          "2009-05-27T00:00:00",
          "2009-05-28T00:00:00",
          "2009-05-29T00:00:00",
          "2009-05-30T00:00:00",
          "2009-05-31T00:00:00",
          "2009-06-01T00:00:00",
          "2009-06-02T00:00:00",
          "2009-06-03T00:00:00",
          "2009-06-04T00:00:00",
          "2009-06-05T00:00:00",
          "2009-06-06T00:00:00",
          "2009-06-07T00:00:00",
          "2009-06-08T00:00:00",
          "2009-06-09T00:00:00",
          "2009-06-10T00:00:00",
          "2009-06-11T00:00:00",
          "2009-06-12T00:00:00",
          "2009-06-13T00:00:00",
          "2009-06-14T00:00:00",
          "2009-06-15T00:00:00",
          "2009-06-16T00:00:00",
          "2009-06-17T00:00:00",
          "2009-06-18T00:00:00",
          "2009-06-19T00:00:00",
          "2009-06-20T00:00:00",
          "2009-06-21T00:00:00",
          "2009-06-22T00:00:00",
          "2009-06-23T00:00:00",
          "2009-06-24T00:00:00",
          "2009-06-25T00:00:00",
          "2009-06-26T00:00:00",
          "2009-06-27T00:00:00",
          "2009-06-28T00:00:00",
          "2009-06-29T00:00:00",
          "2009-06-30T00:00:00",
          "2009-07-01T00:00:00",
          "2009-07-02T00:00:00",
          "2009-07-03T00:00:00",
          "2009-07-04T00:00:00",
          "2009-07-05T00:00:00",
          "2009-07-06T00:00:00",
          "2009-07-07T00:00:00",
          "2009-07-08T00:00:00",
          "2009-07-09T00:00:00",
          "2009-07-10T00:00:00",
          "2009-07-11T00:00:00",
          "2009-07-12T00:00:00",
          "2009-07-13T00:00:00",
          "2009-07-14T00:00:00",
          "2009-07-15T00:00:00",
          "2009-07-16T00:00:00",
          "2009-07-17T00:00:00",
          "2009-07-18T00:00:00",
          "2009-07-19T00:00:00",
          "2009-07-20T00:00:00",
          "2009-07-21T00:00:00",
          "2009-07-22T00:00:00",
          "2009-07-23T00:00:00",
          "2009-07-24T00:00:00",
          "2009-07-25T00:00:00",
          "2009-07-26T00:00:00",
          "2009-07-27T00:00:00",
          "2009-07-28T00:00:00",
          "2009-07-29T00:00:00",
          "2009-07-30T00:00:00",
          "2009-07-31T00:00:00",
          "2009-08-01T00:00:00",
          "2009-08-02T00:00:00",
          "2009-08-03T00:00:00",
          "2009-08-04T00:00:00",
          "2009-08-05T00:00:00",
          "2009-08-06T00:00:00",
          "2009-08-07T00:00:00",
          "2009-08-08T00:00:00",
          "2009-08-09T00:00:00",
          "2009-08-10T00:00:00",
          "2009-08-11T00:00:00",
          "2009-08-12T00:00:00",
          "2009-08-13T00:00:00",
          "2009-08-14T00:00:00",
          "2009-08-15T00:00:00",
          "2009-08-16T00:00:00",
          "2009-08-17T00:00:00",
          "2009-08-18T00:00:00",
          "2009-08-19T00:00:00",
          "2009-08-20T00:00:00",
          "2009-08-21T00:00:00",
          "2009-08-22T00:00:00",
          "2009-08-23T00:00:00",
          "2009-08-24T00:00:00",
          "2009-08-25T00:00:00",
          "2009-08-26T00:00:00",
          "2009-08-27T00:00:00",
          "2009-08-28T00:00:00",
          "2009-08-29T00:00:00",
          "2009-08-30T00:00:00",
          "2009-08-31T00:00:00",
          "2009-09-01T00:00:00",
          "2009-09-02T00:00:00",
          "2009-09-03T00:00:00",
          "2009-09-04T00:00:00",
          "2009-09-05T00:00:00",
          "2009-09-06T00:00:00",
          "2009-09-07T00:00:00",
          "2009-09-08T00:00:00",
          "2009-09-09T00:00:00",
          "2009-09-10T00:00:00",
          "2009-09-11T00:00:00",
          "2009-09-12T00:00:00",
          "2009-09-13T00:00:00",
          "2009-09-14T00:00:00",
          "2009-09-15T00:00:00",
          "2009-09-16T00:00:00",
          "2009-09-17T00:00:00",
          "2009-09-18T00:00:00",
          "2009-09-19T00:00:00",
          "2009-09-20T00:00:00",
          "2009-09-21T00:00:00",
          "2009-09-22T00:00:00",
          "2009-09-23T00:00:00",
          "2009-09-24T00:00:00",
          "2009-09-25T00:00:00",
          "2009-09-26T00:00:00",
          "2009-09-27T00:00:00",
          "2009-09-28T00:00:00",
          "2009-09-29T00:00:00",
          "2009-09-30T00:00:00",
          "2009-10-01T00:00:00",
          "2009-10-02T00:00:00",
          "2009-10-03T00:00:00",
          "2009-10-04T00:00:00",
          "2009-10-05T00:00:00",
          "2009-10-06T00:00:00",
          "2009-10-07T00:00:00",
          "2009-10-08T00:00:00",
          "2009-10-09T00:00:00",
          "2009-10-10T00:00:00",
          "2009-10-11T00:00:00",
          "2009-10-12T00:00:00",
          "2009-10-13T00:00:00",
          "2009-10-14T00:00:00",
          "2009-10-15T00:00:00",
          "2009-10-16T00:00:00",
          "2009-10-17T00:00:00",
          "2009-10-18T00:00:00",
          "2009-10-19T00:00:00",
          "2009-10-20T00:00:00",
          "2009-10-21T00:00:00",
          "2009-10-22T00:00:00",
          "2009-10-23T00:00:00",
          "2009-10-24T00:00:00",
          "2009-10-25T00:00:00",
          "2009-10-26T00:00:00",
          "2009-10-27T00:00:00",
          "2009-10-28T00:00:00",
          "2009-10-29T00:00:00",
          "2009-10-30T00:00:00",
          "2009-10-31T00:00:00",
          "2009-11-01T00:00:00",
          "2009-11-02T00:00:00",
          "2009-11-03T00:00:00",
          "2009-11-04T00:00:00",
          "2009-11-05T00:00:00",
          "2009-11-06T00:00:00",
          "2009-11-07T00:00:00",
          "2009-11-08T00:00:00",
          "2009-11-09T00:00:00",
          "2009-11-10T00:00:00",
          "2009-11-11T00:00:00",
          "2009-11-12T00:00:00",
          "2009-11-13T00:00:00",
          "2009-11-14T00:00:00",
          "2009-11-15T00:00:00",
          "2009-11-16T00:00:00",
          "2009-11-17T00:00:00",
          "2009-11-18T00:00:00",
          "2009-11-19T00:00:00",
          "2009-11-20T00:00:00",
          "2009-11-21T00:00:00",
          "2009-11-22T00:00:00",
          "2009-11-23T00:00:00",
          "2009-11-24T00:00:00",
          "2009-11-25T00:00:00",
          "2009-11-26T00:00:00",
          "2009-11-27T00:00:00",
          "2009-11-28T00:00:00",
          "2009-11-29T00:00:00",
          "2009-11-30T00:00:00",
          "2009-12-01T00:00:00"
         ],
         "y": [
          0,
          0,
          0,
          0,
          0,
          0,
          0,
          0,
          0,
          2,
          0,
          0,
          0,
          0,
          0,
          0,
          0,
          0,
          18,
          0,
          9,
          0,
          0,
          0,
          4,
          0,
          0,
          0,
          0,
          0,
          0,
          0,
          0,
          0,
          0,
          0,
          0,
          0,
          0,
          0,
          0,
          0,
          0,
          0,
          0,
          0,
          0,
          0,
          0,
          0,
          0,
          0,
          0,
          0,
          0,
          0,
          0,
          0,
          0,
          0,
          0,
          0,
          0,
          0,
          0,
          0,
          0,
          0,
          0,
          0,
          0,
          0,
          0,
          0,
          0,
          0,
          0,
          0,
          0,
          0,
          0,
          0,
          0,
          0,
          0,
          0,
          0,
          0,
          0,
          0,
          0,
          0,
          0,
          0,
          0,
          0,
          0,
          0,
          0,
          0,
          0,
          0,
          0,
          0,
          0,
          0,
          0,
          0,
          0,
          0,
          0,
          0,
          0,
          0,
          0,
          0,
          0,
          0,
          0,
          0,
          0,
          0,
          0,
          0,
          0,
          0,
          0,
          0,
          0,
          0,
          0,
          0,
          0,
          0,
          0,
          0,
          0,
          0,
          0,
          0,
          0,
          0,
          0,
          0,
          0,
          0,
          0,
          0,
          0,
          0,
          0,
          0,
          0,
          0,
          0,
          0,
          0,
          0,
          0,
          0,
          0,
          0,
          0,
          0,
          0,
          0,
          0,
          0,
          0,
          0,
          0,
          0,
          0,
          0,
          0,
          0,
          0,
          0,
          0,
          0,
          0,
          0,
          0,
          0,
          0,
          0,
          0,
          0,
          0,
          0,
          0,
          0,
          0,
          0,
          0,
          0,
          0,
          0,
          0,
          0,
          0,
          0,
          0,
          0,
          0,
          0,
          0,
          0,
          0,
          0,
          0,
          0,
          0,
          0,
          0,
          0,
          0,
          0,
          0,
          0,
          0,
          0,
          0,
          0,
          0,
          0,
          0,
          0,
          0,
          0,
          0,
          0,
          0,
          0,
          0,
          0,
          0,
          0,
          0,
          0,
          0,
          0,
          0,
          0,
          0,
          0,
          0,
          0,
          0,
          0,
          0,
          0,
          0,
          0,
          0,
          0,
          0,
          0,
          0,
          0,
          0,
          0,
          0,
          0,
          0,
          0,
          0,
          0,
          0,
          0,
          0,
          0,
          0,
          0,
          0,
          0,
          0,
          0,
          0,
          0,
          0,
          0,
          0,
          0,
          0,
          0,
          0,
          0,
          0,
          0,
          0,
          0,
          0,
          0,
          0,
          0,
          0,
          0,
          0,
          0,
          0,
          0,
          0,
          0,
          0,
          0,
          0,
          0,
          0,
          0,
          0,
          0,
          0,
          0,
          0,
          0,
          0,
          0,
          0,
          0,
          0,
          0,
          0,
          0,
          0,
          0,
          0,
          0,
          0,
          0,
          0,
          0,
          0,
          0,
          0,
          0,
          0,
          0,
          0,
          0,
          0,
          0,
          0,
          0,
          0,
          0,
          0,
          0,
          0,
          0,
          0,
          0,
          0,
          0,
          0,
          0,
          0,
          0,
          0,
          4,
          8,
          12,
          0,
          6,
          0,
          0,
          9,
          0,
          0,
          0,
          6,
          0,
          0,
          0,
          0,
          0,
          0,
          0,
          0,
          0,
          0,
          0,
          0,
          0,
          0,
          0,
          0,
          0,
          0,
          0,
          0,
          0,
          0,
          0,
          0,
          0,
          0,
          0,
          0,
          0,
          0,
          0,
          0,
          0,
          0,
          0,
          0,
          0,
          0,
          0,
          0,
          0,
          0,
          0,
          0,
          0,
          0,
          0,
          0,
          0,
          0,
          0,
          0,
          0,
          0,
          0,
          0,
          0,
          0,
          0,
          0,
          0,
          0,
          0,
          0,
          0,
          0,
          0,
          0,
          0,
          0,
          0,
          0,
          0,
          0,
          0,
          0,
          0,
          0,
          0,
          0,
          0,
          0,
          0,
          0,
          0,
          0,
          0,
          0,
          0,
          0,
          0,
          0,
          0,
          0,
          0,
          0,
          0,
          0,
          0,
          0,
          0,
          0,
          0,
          0,
          0,
          0,
          0,
          0,
          0,
          0,
          0,
          0,
          0,
          0,
          0,
          0,
          0,
          0,
          0,
          0,
          0,
          0,
          0,
          0,
          0,
          0,
          0,
          0,
          0,
          0,
          0,
          0,
          0,
          0,
          0,
          0,
          0,
          0,
          0,
          0,
          0,
          0,
          0,
          0,
          0,
          0,
          0,
          0,
          0,
          0,
          0,
          0,
          0,
          0,
          0,
          0,
          0,
          0,
          0,
          0,
          0,
          0,
          0,
          0,
          0,
          0,
          0,
          0,
          0,
          0,
          0,
          0,
          0,
          0,
          0,
          0,
          0,
          0,
          0,
          0,
          0,
          0,
          0,
          0,
          0,
          0,
          0,
          0,
          0,
          0,
          0,
          0,
          0,
          0,
          0,
          0,
          0,
          0,
          0,
          0,
          0,
          0,
          0,
          0,
          0,
          0,
          0,
          0,
          0,
          0,
          0,
          0,
          0,
          0,
          0,
          0,
          0,
          0,
          0,
          0,
          0,
          0,
          0,
          0,
          0,
          0,
          0,
          0,
          0,
          0,
          0,
          0,
          0,
          0,
          0,
          0,
          0,
          0,
          0,
          0,
          0,
          0,
          0,
          0,
          0,
          0,
          0,
          0,
          0,
          0,
          0,
          0,
          0,
          0,
          0,
          0,
          0,
          0,
          0,
          0,
          0,
          0,
          0,
          0,
          0,
          0,
          0,
          0,
          0,
          0,
          0,
          0,
          0,
          0,
          0,
          0,
          0,
          0,
          0,
          0,
          0,
          0,
          0,
          0,
          0,
          0,
          0,
          0,
          0,
          0,
          0,
          0,
          0,
          0,
          0,
          0,
          0,
          0,
          0,
          0,
          0,
          0,
          0,
          0,
          0,
          0,
          0,
          0,
          0,
          0,
          0,
          0,
          0,
          0,
          0,
          0,
          0,
          0,
          0,
          0,
          0,
          0,
          0,
          0,
          0,
          0,
          0,
          0,
          0,
          0,
          0,
          0,
          0,
          0,
          0,
          0,
          0,
          0,
          0,
          0,
          0,
          0,
          0,
          0,
          0,
          0,
          0,
          0,
          0,
          0,
          0,
          0,
          0,
          0,
          0,
          0,
          0,
          0,
          0,
          0,
          2,
          2,
          0,
          0,
          0,
          0,
          2,
          0,
          0,
          8,
          0,
          4,
          0,
          8,
          0,
          0,
          6,
          0,
          4,
          0,
          0,
          0,
          5
         ]
        },
        {
         "line": {
          "color": "red"
         },
         "marker": {
          "color": "red",
          "size": 8
         },
         "mode": "lines+markers+text",
         "name": "Chinstrap Penguin",
         "text": [
          0,
          0,
          0,
          0,
          0,
          0,
          0,
          0,
          0,
          0,
          2,
          0,
          4,
          2,
          0,
          0,
          0,
          4,
          0,
          8,
          0,
          4,
          0,
          0,
          2,
          0,
          0,
          0,
          0,
          0,
          0,
          0,
          0,
          0,
          0,
          0,
          0,
          0,
          0,
          0,
          0,
          0,
          0,
          0,
          0,
          0,
          0,
          0,
          0,
          0,
          0,
          0,
          0,
          0,
          0,
          0,
          0,
          0,
          0,
          0,
          0,
          0,
          0,
          0,
          0,
          0,
          0,
          0,
          0,
          0,
          0,
          0,
          0,
          0,
          0,
          0,
          0,
          0,
          0,
          0,
          0,
          0,
          0,
          0,
          0,
          0,
          0,
          0,
          0,
          0,
          0,
          0,
          0,
          0,
          0,
          0,
          0,
          0,
          0,
          0,
          0,
          0,
          0,
          0,
          0,
          0,
          0,
          0,
          0,
          0,
          0,
          0,
          0,
          0,
          0,
          0,
          0,
          0,
          0,
          0,
          0,
          0,
          0,
          0,
          0,
          0,
          0,
          0,
          0,
          0,
          0,
          0,
          0,
          0,
          0,
          0,
          0,
          0,
          0,
          0,
          0,
          0,
          0,
          0,
          0,
          0,
          0,
          0,
          0,
          0,
          0,
          0,
          0,
          0,
          0,
          0,
          0,
          0,
          0,
          0,
          0,
          0,
          0,
          0,
          0,
          0,
          0,
          0,
          0,
          0,
          0,
          0,
          0,
          0,
          0,
          0,
          0,
          0,
          0,
          0,
          0,
          0,
          0,
          0,
          0,
          0,
          0,
          0,
          0,
          0,
          0,
          0,
          0,
          0,
          0,
          0,
          0,
          0,
          0,
          0,
          0,
          0,
          0,
          0,
          0,
          0,
          0,
          0,
          0,
          0,
          0,
          0,
          0,
          0,
          0,
          0,
          0,
          0,
          0,
          0,
          0,
          0,
          0,
          0,
          0,
          0,
          0,
          0,
          0,
          0,
          0,
          0,
          0,
          0,
          0,
          0,
          0,
          0,
          0,
          0,
          0,
          0,
          0,
          0,
          0,
          0,
          0,
          0,
          0,
          0,
          0,
          0,
          0,
          0,
          0,
          0,
          0,
          0,
          0,
          0,
          0,
          0,
          0,
          0,
          0,
          0,
          0,
          0,
          0,
          0,
          0,
          0,
          0,
          0,
          0,
          0,
          0,
          0,
          0,
          0,
          0,
          0,
          0,
          0,
          0,
          0,
          0,
          0,
          0,
          0,
          0,
          0,
          0,
          0,
          0,
          0,
          0,
          0,
          0,
          0,
          0,
          0,
          0,
          0,
          0,
          0,
          0,
          0,
          0,
          0,
          0,
          0,
          0,
          0,
          0,
          0,
          0,
          0,
          0,
          0,
          0,
          0,
          0,
          0,
          0,
          0,
          0,
          0,
          0,
          0,
          0,
          0,
          0,
          0,
          0,
          0,
          0,
          0,
          0,
          0,
          0,
          0,
          0,
          0,
          0,
          0,
          0,
          0,
          0,
          0,
          0,
          0,
          0,
          0,
          0,
          0,
          0,
          0,
          0,
          0,
          0,
          0,
          0,
          0,
          0,
          0,
          0,
          0,
          0,
          0,
          0,
          6,
          0,
          0,
          0,
          0,
          0,
          0,
          0,
          0,
          0,
          8,
          4,
          0,
          0,
          0,
          0,
          0,
          0,
          0,
          0,
          0,
          0,
          0,
          0,
          0,
          0,
          0,
          0,
          0,
          0,
          0,
          0,
          0,
          0,
          0,
          0,
          0,
          0,
          0,
          0,
          0,
          0,
          0,
          0,
          0,
          0,
          0,
          0,
          0,
          0,
          0,
          0,
          0,
          0,
          0,
          0,
          0,
          0,
          0,
          0,
          0,
          0,
          0,
          0,
          0,
          0,
          0,
          0,
          0,
          0,
          0,
          0,
          0,
          0,
          0,
          0,
          0,
          0,
          0,
          0,
          0,
          0,
          0,
          0,
          0,
          0,
          0,
          0,
          0,
          0,
          0,
          0,
          0,
          0,
          0,
          0,
          0,
          0,
          0,
          0,
          0,
          0,
          0,
          0,
          0,
          0,
          0,
          0,
          0,
          0,
          0,
          0,
          0,
          0,
          0,
          0,
          0,
          0,
          0,
          0,
          0,
          0,
          0,
          0,
          0,
          0,
          0,
          0,
          0,
          0,
          0,
          0,
          0,
          0,
          0,
          0,
          0,
          0,
          0,
          0,
          0,
          0,
          0,
          0,
          0,
          0,
          0,
          0,
          0,
          0,
          0,
          0,
          0,
          0,
          0,
          0,
          0,
          0,
          0,
          0,
          0,
          0,
          0,
          0,
          0,
          0,
          0,
          0,
          0,
          0,
          0,
          0,
          0,
          0,
          0,
          0,
          0,
          0,
          0,
          0,
          0,
          0,
          0,
          0,
          0,
          0,
          0,
          0,
          0,
          0,
          0,
          0,
          0,
          0,
          0,
          0,
          0,
          0,
          0,
          0,
          0,
          0,
          0,
          0,
          0,
          0,
          0,
          0,
          0,
          0,
          0,
          0,
          0,
          0,
          0,
          0,
          0,
          0,
          0,
          0,
          0,
          0,
          0,
          0,
          0,
          0,
          0,
          0,
          0,
          0,
          0,
          0,
          0,
          0,
          0,
          0,
          0,
          0,
          0,
          0,
          0,
          0,
          0,
          0,
          0,
          0,
          0,
          0,
          0,
          0,
          0,
          0,
          0,
          0,
          0,
          0,
          0,
          0,
          0,
          0,
          0,
          0,
          0,
          0,
          0,
          0,
          0,
          0,
          0,
          0,
          0,
          0,
          0,
          0,
          0,
          0,
          0,
          0,
          0,
          0,
          0,
          0,
          0,
          0,
          0,
          0,
          0,
          0,
          0,
          0,
          0,
          0,
          0,
          0,
          0,
          0,
          0,
          0,
          0,
          0,
          0,
          0,
          0,
          0,
          0,
          0,
          0,
          0,
          0,
          0,
          0,
          0,
          0,
          0,
          0,
          0,
          0,
          0,
          0,
          0,
          0,
          0,
          0,
          0,
          0,
          0,
          0,
          0,
          0,
          0,
          0,
          0,
          0,
          0,
          0,
          0,
          0,
          0,
          0,
          0,
          0,
          0,
          0,
          0,
          0,
          0,
          0,
          0,
          0,
          0,
          0,
          0,
          0,
          0,
          0,
          0,
          0,
          0,
          0,
          0,
          0,
          0,
          0,
          0,
          0,
          0,
          0,
          0,
          2,
          0,
          2,
          0,
          10,
          0,
          4,
          0,
          0,
          0,
          6,
          0,
          0,
          0,
          0
         ],
         "textposition": "top center",
         "type": "scatter",
         "x": [
          "2007-11-09T00:00:00",
          "2007-11-10T00:00:00",
          "2007-11-11T00:00:00",
          "2007-11-12T00:00:00",
          "2007-11-13T00:00:00",
          "2007-11-14T00:00:00",
          "2007-11-15T00:00:00",
          "2007-11-16T00:00:00",
          "2007-11-17T00:00:00",
          "2007-11-18T00:00:00",
          "2007-11-19T00:00:00",
          "2007-11-20T00:00:00",
          "2007-11-21T00:00:00",
          "2007-11-22T00:00:00",
          "2007-11-23T00:00:00",
          "2007-11-24T00:00:00",
          "2007-11-25T00:00:00",
          "2007-11-26T00:00:00",
          "2007-11-27T00:00:00",
          "2007-11-28T00:00:00",
          "2007-11-29T00:00:00",
          "2007-11-30T00:00:00",
          "2007-12-01T00:00:00",
          "2007-12-02T00:00:00",
          "2007-12-03T00:00:00",
          "2007-12-04T00:00:00",
          "2007-12-05T00:00:00",
          "2007-12-06T00:00:00",
          "2007-12-07T00:00:00",
          "2007-12-08T00:00:00",
          "2007-12-09T00:00:00",
          "2007-12-10T00:00:00",
          "2007-12-11T00:00:00",
          "2007-12-12T00:00:00",
          "2007-12-13T00:00:00",
          "2007-12-14T00:00:00",
          "2007-12-15T00:00:00",
          "2007-12-16T00:00:00",
          "2007-12-17T00:00:00",
          "2007-12-18T00:00:00",
          "2007-12-19T00:00:00",
          "2007-12-20T00:00:00",
          "2007-12-21T00:00:00",
          "2007-12-22T00:00:00",
          "2007-12-23T00:00:00",
          "2007-12-24T00:00:00",
          "2007-12-25T00:00:00",
          "2007-12-26T00:00:00",
          "2007-12-27T00:00:00",
          "2007-12-28T00:00:00",
          "2007-12-29T00:00:00",
          "2007-12-30T00:00:00",
          "2007-12-31T00:00:00",
          "2008-01-01T00:00:00",
          "2008-01-02T00:00:00",
          "2008-01-03T00:00:00",
          "2008-01-04T00:00:00",
          "2008-01-05T00:00:00",
          "2008-01-06T00:00:00",
          "2008-01-07T00:00:00",
          "2008-01-08T00:00:00",
          "2008-01-09T00:00:00",
          "2008-01-10T00:00:00",
          "2008-01-11T00:00:00",
          "2008-01-12T00:00:00",
          "2008-01-13T00:00:00",
          "2008-01-14T00:00:00",
          "2008-01-15T00:00:00",
          "2008-01-16T00:00:00",
          "2008-01-17T00:00:00",
          "2008-01-18T00:00:00",
          "2008-01-19T00:00:00",
          "2008-01-20T00:00:00",
          "2008-01-21T00:00:00",
          "2008-01-22T00:00:00",
          "2008-01-23T00:00:00",
          "2008-01-24T00:00:00",
          "2008-01-25T00:00:00",
          "2008-01-26T00:00:00",
          "2008-01-27T00:00:00",
          "2008-01-28T00:00:00",
          "2008-01-29T00:00:00",
          "2008-01-30T00:00:00",
          "2008-01-31T00:00:00",
          "2008-02-01T00:00:00",
          "2008-02-02T00:00:00",
          "2008-02-03T00:00:00",
          "2008-02-04T00:00:00",
          "2008-02-05T00:00:00",
          "2008-02-06T00:00:00",
          "2008-02-07T00:00:00",
          "2008-02-08T00:00:00",
          "2008-02-09T00:00:00",
          "2008-02-10T00:00:00",
          "2008-02-11T00:00:00",
          "2008-02-12T00:00:00",
          "2008-02-13T00:00:00",
          "2008-02-14T00:00:00",
          "2008-02-15T00:00:00",
          "2008-02-16T00:00:00",
          "2008-02-17T00:00:00",
          "2008-02-18T00:00:00",
          "2008-02-19T00:00:00",
          "2008-02-20T00:00:00",
          "2008-02-21T00:00:00",
          "2008-02-22T00:00:00",
          "2008-02-23T00:00:00",
          "2008-02-24T00:00:00",
          "2008-02-25T00:00:00",
          "2008-02-26T00:00:00",
          "2008-02-27T00:00:00",
          "2008-02-28T00:00:00",
          "2008-02-29T00:00:00",
          "2008-03-01T00:00:00",
          "2008-03-02T00:00:00",
          "2008-03-03T00:00:00",
          "2008-03-04T00:00:00",
          "2008-03-05T00:00:00",
          "2008-03-06T00:00:00",
          "2008-03-07T00:00:00",
          "2008-03-08T00:00:00",
          "2008-03-09T00:00:00",
          "2008-03-10T00:00:00",
          "2008-03-11T00:00:00",
          "2008-03-12T00:00:00",
          "2008-03-13T00:00:00",
          "2008-03-14T00:00:00",
          "2008-03-15T00:00:00",
          "2008-03-16T00:00:00",
          "2008-03-17T00:00:00",
          "2008-03-18T00:00:00",
          "2008-03-19T00:00:00",
          "2008-03-20T00:00:00",
          "2008-03-21T00:00:00",
          "2008-03-22T00:00:00",
          "2008-03-23T00:00:00",
          "2008-03-24T00:00:00",
          "2008-03-25T00:00:00",
          "2008-03-26T00:00:00",
          "2008-03-27T00:00:00",
          "2008-03-28T00:00:00",
          "2008-03-29T00:00:00",
          "2008-03-30T00:00:00",
          "2008-03-31T00:00:00",
          "2008-04-01T00:00:00",
          "2008-04-02T00:00:00",
          "2008-04-03T00:00:00",
          "2008-04-04T00:00:00",
          "2008-04-05T00:00:00",
          "2008-04-06T00:00:00",
          "2008-04-07T00:00:00",
          "2008-04-08T00:00:00",
          "2008-04-09T00:00:00",
          "2008-04-10T00:00:00",
          "2008-04-11T00:00:00",
          "2008-04-12T00:00:00",
          "2008-04-13T00:00:00",
          "2008-04-14T00:00:00",
          "2008-04-15T00:00:00",
          "2008-04-16T00:00:00",
          "2008-04-17T00:00:00",
          "2008-04-18T00:00:00",
          "2008-04-19T00:00:00",
          "2008-04-20T00:00:00",
          "2008-04-21T00:00:00",
          "2008-04-22T00:00:00",
          "2008-04-23T00:00:00",
          "2008-04-24T00:00:00",
          "2008-04-25T00:00:00",
          "2008-04-26T00:00:00",
          "2008-04-27T00:00:00",
          "2008-04-28T00:00:00",
          "2008-04-29T00:00:00",
          "2008-04-30T00:00:00",
          "2008-05-01T00:00:00",
          "2008-05-02T00:00:00",
          "2008-05-03T00:00:00",
          "2008-05-04T00:00:00",
          "2008-05-05T00:00:00",
          "2008-05-06T00:00:00",
          "2008-05-07T00:00:00",
          "2008-05-08T00:00:00",
          "2008-05-09T00:00:00",
          "2008-05-10T00:00:00",
          "2008-05-11T00:00:00",
          "2008-05-12T00:00:00",
          "2008-05-13T00:00:00",
          "2008-05-14T00:00:00",
          "2008-05-15T00:00:00",
          "2008-05-16T00:00:00",
          "2008-05-17T00:00:00",
          "2008-05-18T00:00:00",
          "2008-05-19T00:00:00",
          "2008-05-20T00:00:00",
          "2008-05-21T00:00:00",
          "2008-05-22T00:00:00",
          "2008-05-23T00:00:00",
          "2008-05-24T00:00:00",
          "2008-05-25T00:00:00",
          "2008-05-26T00:00:00",
          "2008-05-27T00:00:00",
          "2008-05-28T00:00:00",
          "2008-05-29T00:00:00",
          "2008-05-30T00:00:00",
          "2008-05-31T00:00:00",
          "2008-06-01T00:00:00",
          "2008-06-02T00:00:00",
          "2008-06-03T00:00:00",
          "2008-06-04T00:00:00",
          "2008-06-05T00:00:00",
          "2008-06-06T00:00:00",
          "2008-06-07T00:00:00",
          "2008-06-08T00:00:00",
          "2008-06-09T00:00:00",
          "2008-06-10T00:00:00",
          "2008-06-11T00:00:00",
          "2008-06-12T00:00:00",
          "2008-06-13T00:00:00",
          "2008-06-14T00:00:00",
          "2008-06-15T00:00:00",
          "2008-06-16T00:00:00",
          "2008-06-17T00:00:00",
          "2008-06-18T00:00:00",
          "2008-06-19T00:00:00",
          "2008-06-20T00:00:00",
          "2008-06-21T00:00:00",
          "2008-06-22T00:00:00",
          "2008-06-23T00:00:00",
          "2008-06-24T00:00:00",
          "2008-06-25T00:00:00",
          "2008-06-26T00:00:00",
          "2008-06-27T00:00:00",
          "2008-06-28T00:00:00",
          "2008-06-29T00:00:00",
          "2008-06-30T00:00:00",
          "2008-07-01T00:00:00",
          "2008-07-02T00:00:00",
          "2008-07-03T00:00:00",
          "2008-07-04T00:00:00",
          "2008-07-05T00:00:00",
          "2008-07-06T00:00:00",
          "2008-07-07T00:00:00",
          "2008-07-08T00:00:00",
          "2008-07-09T00:00:00",
          "2008-07-10T00:00:00",
          "2008-07-11T00:00:00",
          "2008-07-12T00:00:00",
          "2008-07-13T00:00:00",
          "2008-07-14T00:00:00",
          "2008-07-15T00:00:00",
          "2008-07-16T00:00:00",
          "2008-07-17T00:00:00",
          "2008-07-18T00:00:00",
          "2008-07-19T00:00:00",
          "2008-07-20T00:00:00",
          "2008-07-21T00:00:00",
          "2008-07-22T00:00:00",
          "2008-07-23T00:00:00",
          "2008-07-24T00:00:00",
          "2008-07-25T00:00:00",
          "2008-07-26T00:00:00",
          "2008-07-27T00:00:00",
          "2008-07-28T00:00:00",
          "2008-07-29T00:00:00",
          "2008-07-30T00:00:00",
          "2008-07-31T00:00:00",
          "2008-08-01T00:00:00",
          "2008-08-02T00:00:00",
          "2008-08-03T00:00:00",
          "2008-08-04T00:00:00",
          "2008-08-05T00:00:00",
          "2008-08-06T00:00:00",
          "2008-08-07T00:00:00",
          "2008-08-08T00:00:00",
          "2008-08-09T00:00:00",
          "2008-08-10T00:00:00",
          "2008-08-11T00:00:00",
          "2008-08-12T00:00:00",
          "2008-08-13T00:00:00",
          "2008-08-14T00:00:00",
          "2008-08-15T00:00:00",
          "2008-08-16T00:00:00",
          "2008-08-17T00:00:00",
          "2008-08-18T00:00:00",
          "2008-08-19T00:00:00",
          "2008-08-20T00:00:00",
          "2008-08-21T00:00:00",
          "2008-08-22T00:00:00",
          "2008-08-23T00:00:00",
          "2008-08-24T00:00:00",
          "2008-08-25T00:00:00",
          "2008-08-26T00:00:00",
          "2008-08-27T00:00:00",
          "2008-08-28T00:00:00",
          "2008-08-29T00:00:00",
          "2008-08-30T00:00:00",
          "2008-08-31T00:00:00",
          "2008-09-01T00:00:00",
          "2008-09-02T00:00:00",
          "2008-09-03T00:00:00",
          "2008-09-04T00:00:00",
          "2008-09-05T00:00:00",
          "2008-09-06T00:00:00",
          "2008-09-07T00:00:00",
          "2008-09-08T00:00:00",
          "2008-09-09T00:00:00",
          "2008-09-10T00:00:00",
          "2008-09-11T00:00:00",
          "2008-09-12T00:00:00",
          "2008-09-13T00:00:00",
          "2008-09-14T00:00:00",
          "2008-09-15T00:00:00",
          "2008-09-16T00:00:00",
          "2008-09-17T00:00:00",
          "2008-09-18T00:00:00",
          "2008-09-19T00:00:00",
          "2008-09-20T00:00:00",
          "2008-09-21T00:00:00",
          "2008-09-22T00:00:00",
          "2008-09-23T00:00:00",
          "2008-09-24T00:00:00",
          "2008-09-25T00:00:00",
          "2008-09-26T00:00:00",
          "2008-09-27T00:00:00",
          "2008-09-28T00:00:00",
          "2008-09-29T00:00:00",
          "2008-09-30T00:00:00",
          "2008-10-01T00:00:00",
          "2008-10-02T00:00:00",
          "2008-10-03T00:00:00",
          "2008-10-04T00:00:00",
          "2008-10-05T00:00:00",
          "2008-10-06T00:00:00",
          "2008-10-07T00:00:00",
          "2008-10-08T00:00:00",
          "2008-10-09T00:00:00",
          "2008-10-10T00:00:00",
          "2008-10-11T00:00:00",
          "2008-10-12T00:00:00",
          "2008-10-13T00:00:00",
          "2008-10-14T00:00:00",
          "2008-10-15T00:00:00",
          "2008-10-16T00:00:00",
          "2008-10-17T00:00:00",
          "2008-10-18T00:00:00",
          "2008-10-19T00:00:00",
          "2008-10-20T00:00:00",
          "2008-10-21T00:00:00",
          "2008-10-22T00:00:00",
          "2008-10-23T00:00:00",
          "2008-10-24T00:00:00",
          "2008-10-25T00:00:00",
          "2008-10-26T00:00:00",
          "2008-10-27T00:00:00",
          "2008-10-28T00:00:00",
          "2008-10-29T00:00:00",
          "2008-10-30T00:00:00",
          "2008-10-31T00:00:00",
          "2008-11-01T00:00:00",
          "2008-11-02T00:00:00",
          "2008-11-03T00:00:00",
          "2008-11-04T00:00:00",
          "2008-11-05T00:00:00",
          "2008-11-06T00:00:00",
          "2008-11-07T00:00:00",
          "2008-11-08T00:00:00",
          "2008-11-09T00:00:00",
          "2008-11-10T00:00:00",
          "2008-11-11T00:00:00",
          "2008-11-12T00:00:00",
          "2008-11-13T00:00:00",
          "2008-11-14T00:00:00",
          "2008-11-15T00:00:00",
          "2008-11-16T00:00:00",
          "2008-11-17T00:00:00",
          "2008-11-18T00:00:00",
          "2008-11-19T00:00:00",
          "2008-11-20T00:00:00",
          "2008-11-21T00:00:00",
          "2008-11-22T00:00:00",
          "2008-11-23T00:00:00",
          "2008-11-24T00:00:00",
          "2008-11-25T00:00:00",
          "2008-11-26T00:00:00",
          "2008-11-27T00:00:00",
          "2008-11-28T00:00:00",
          "2008-11-29T00:00:00",
          "2008-11-30T00:00:00",
          "2008-12-01T00:00:00",
          "2008-12-02T00:00:00",
          "2008-12-03T00:00:00",
          "2008-12-04T00:00:00",
          "2008-12-05T00:00:00",
          "2008-12-06T00:00:00",
          "2008-12-07T00:00:00",
          "2008-12-08T00:00:00",
          "2008-12-09T00:00:00",
          "2008-12-10T00:00:00",
          "2008-12-11T00:00:00",
          "2008-12-12T00:00:00",
          "2008-12-13T00:00:00",
          "2008-12-14T00:00:00",
          "2008-12-15T00:00:00",
          "2008-12-16T00:00:00",
          "2008-12-17T00:00:00",
          "2008-12-18T00:00:00",
          "2008-12-19T00:00:00",
          "2008-12-20T00:00:00",
          "2008-12-21T00:00:00",
          "2008-12-22T00:00:00",
          "2008-12-23T00:00:00",
          "2008-12-24T00:00:00",
          "2008-12-25T00:00:00",
          "2008-12-26T00:00:00",
          "2008-12-27T00:00:00",
          "2008-12-28T00:00:00",
          "2008-12-29T00:00:00",
          "2008-12-30T00:00:00",
          "2008-12-31T00:00:00",
          "2009-01-01T00:00:00",
          "2009-01-02T00:00:00",
          "2009-01-03T00:00:00",
          "2009-01-04T00:00:00",
          "2009-01-05T00:00:00",
          "2009-01-06T00:00:00",
          "2009-01-07T00:00:00",
          "2009-01-08T00:00:00",
          "2009-01-09T00:00:00",
          "2009-01-10T00:00:00",
          "2009-01-11T00:00:00",
          "2009-01-12T00:00:00",
          "2009-01-13T00:00:00",
          "2009-01-14T00:00:00",
          "2009-01-15T00:00:00",
          "2009-01-16T00:00:00",
          "2009-01-17T00:00:00",
          "2009-01-18T00:00:00",
          "2009-01-19T00:00:00",
          "2009-01-20T00:00:00",
          "2009-01-21T00:00:00",
          "2009-01-22T00:00:00",
          "2009-01-23T00:00:00",
          "2009-01-24T00:00:00",
          "2009-01-25T00:00:00",
          "2009-01-26T00:00:00",
          "2009-01-27T00:00:00",
          "2009-01-28T00:00:00",
          "2009-01-29T00:00:00",
          "2009-01-30T00:00:00",
          "2009-01-31T00:00:00",
          "2009-02-01T00:00:00",
          "2009-02-02T00:00:00",
          "2009-02-03T00:00:00",
          "2009-02-04T00:00:00",
          "2009-02-05T00:00:00",
          "2009-02-06T00:00:00",
          "2009-02-07T00:00:00",
          "2009-02-08T00:00:00",
          "2009-02-09T00:00:00",
          "2009-02-10T00:00:00",
          "2009-02-11T00:00:00",
          "2009-02-12T00:00:00",
          "2009-02-13T00:00:00",
          "2009-02-14T00:00:00",
          "2009-02-15T00:00:00",
          "2009-02-16T00:00:00",
          "2009-02-17T00:00:00",
          "2009-02-18T00:00:00",
          "2009-02-19T00:00:00",
          "2009-02-20T00:00:00",
          "2009-02-21T00:00:00",
          "2009-02-22T00:00:00",
          "2009-02-23T00:00:00",
          "2009-02-24T00:00:00",
          "2009-02-25T00:00:00",
          "2009-02-26T00:00:00",
          "2009-02-27T00:00:00",
          "2009-02-28T00:00:00",
          "2009-03-01T00:00:00",
          "2009-03-02T00:00:00",
          "2009-03-03T00:00:00",
          "2009-03-04T00:00:00",
          "2009-03-05T00:00:00",
          "2009-03-06T00:00:00",
          "2009-03-07T00:00:00",
          "2009-03-08T00:00:00",
          "2009-03-09T00:00:00",
          "2009-03-10T00:00:00",
          "2009-03-11T00:00:00",
          "2009-03-12T00:00:00",
          "2009-03-13T00:00:00",
          "2009-03-14T00:00:00",
          "2009-03-15T00:00:00",
          "2009-03-16T00:00:00",
          "2009-03-17T00:00:00",
          "2009-03-18T00:00:00",
          "2009-03-19T00:00:00",
          "2009-03-20T00:00:00",
          "2009-03-21T00:00:00",
          "2009-03-22T00:00:00",
          "2009-03-23T00:00:00",
          "2009-03-24T00:00:00",
          "2009-03-25T00:00:00",
          "2009-03-26T00:00:00",
          "2009-03-27T00:00:00",
          "2009-03-28T00:00:00",
          "2009-03-29T00:00:00",
          "2009-03-30T00:00:00",
          "2009-03-31T00:00:00",
          "2009-04-01T00:00:00",
          "2009-04-02T00:00:00",
          "2009-04-03T00:00:00",
          "2009-04-04T00:00:00",
          "2009-04-05T00:00:00",
          "2009-04-06T00:00:00",
          "2009-04-07T00:00:00",
          "2009-04-08T00:00:00",
          "2009-04-09T00:00:00",
          "2009-04-10T00:00:00",
          "2009-04-11T00:00:00",
          "2009-04-12T00:00:00",
          "2009-04-13T00:00:00",
          "2009-04-14T00:00:00",
          "2009-04-15T00:00:00",
          "2009-04-16T00:00:00",
          "2009-04-17T00:00:00",
          "2009-04-18T00:00:00",
          "2009-04-19T00:00:00",
          "2009-04-20T00:00:00",
          "2009-04-21T00:00:00",
          "2009-04-22T00:00:00",
          "2009-04-23T00:00:00",
          "2009-04-24T00:00:00",
          "2009-04-25T00:00:00",
          "2009-04-26T00:00:00",
          "2009-04-27T00:00:00",
          "2009-04-28T00:00:00",
          "2009-04-29T00:00:00",
          "2009-04-30T00:00:00",
          "2009-05-01T00:00:00",
          "2009-05-02T00:00:00",
          "2009-05-03T00:00:00",
          "2009-05-04T00:00:00",
          "2009-05-05T00:00:00",
          "2009-05-06T00:00:00",
          "2009-05-07T00:00:00",
          "2009-05-08T00:00:00",
          "2009-05-09T00:00:00",
          "2009-05-10T00:00:00",
          "2009-05-11T00:00:00",
          "2009-05-12T00:00:00",
          "2009-05-13T00:00:00",
          "2009-05-14T00:00:00",
          "2009-05-15T00:00:00",
          "2009-05-16T00:00:00",
          "2009-05-17T00:00:00",
          "2009-05-18T00:00:00",
          "2009-05-19T00:00:00",
          "2009-05-20T00:00:00",
          "2009-05-21T00:00:00",
          "2009-05-22T00:00:00",
          "2009-05-23T00:00:00",
          "2009-05-24T00:00:00",
          "2009-05-25T00:00:00",
          "2009-05-26T00:00:00",
          "2009-05-27T00:00:00",
          "2009-05-28T00:00:00",
          "2009-05-29T00:00:00",
          "2009-05-30T00:00:00",
          "2009-05-31T00:00:00",
          "2009-06-01T00:00:00",
          "2009-06-02T00:00:00",
          "2009-06-03T00:00:00",
          "2009-06-04T00:00:00",
          "2009-06-05T00:00:00",
          "2009-06-06T00:00:00",
          "2009-06-07T00:00:00",
          "2009-06-08T00:00:00",
          "2009-06-09T00:00:00",
          "2009-06-10T00:00:00",
          "2009-06-11T00:00:00",
          "2009-06-12T00:00:00",
          "2009-06-13T00:00:00",
          "2009-06-14T00:00:00",
          "2009-06-15T00:00:00",
          "2009-06-16T00:00:00",
          "2009-06-17T00:00:00",
          "2009-06-18T00:00:00",
          "2009-06-19T00:00:00",
          "2009-06-20T00:00:00",
          "2009-06-21T00:00:00",
          "2009-06-22T00:00:00",
          "2009-06-23T00:00:00",
          "2009-06-24T00:00:00",
          "2009-06-25T00:00:00",
          "2009-06-26T00:00:00",
          "2009-06-27T00:00:00",
          "2009-06-28T00:00:00",
          "2009-06-29T00:00:00",
          "2009-06-30T00:00:00",
          "2009-07-01T00:00:00",
          "2009-07-02T00:00:00",
          "2009-07-03T00:00:00",
          "2009-07-04T00:00:00",
          "2009-07-05T00:00:00",
          "2009-07-06T00:00:00",
          "2009-07-07T00:00:00",
          "2009-07-08T00:00:00",
          "2009-07-09T00:00:00",
          "2009-07-10T00:00:00",
          "2009-07-11T00:00:00",
          "2009-07-12T00:00:00",
          "2009-07-13T00:00:00",
          "2009-07-14T00:00:00",
          "2009-07-15T00:00:00",
          "2009-07-16T00:00:00",
          "2009-07-17T00:00:00",
          "2009-07-18T00:00:00",
          "2009-07-19T00:00:00",
          "2009-07-20T00:00:00",
          "2009-07-21T00:00:00",
          "2009-07-22T00:00:00",
          "2009-07-23T00:00:00",
          "2009-07-24T00:00:00",
          "2009-07-25T00:00:00",
          "2009-07-26T00:00:00",
          "2009-07-27T00:00:00",
          "2009-07-28T00:00:00",
          "2009-07-29T00:00:00",
          "2009-07-30T00:00:00",
          "2009-07-31T00:00:00",
          "2009-08-01T00:00:00",
          "2009-08-02T00:00:00",
          "2009-08-03T00:00:00",
          "2009-08-04T00:00:00",
          "2009-08-05T00:00:00",
          "2009-08-06T00:00:00",
          "2009-08-07T00:00:00",
          "2009-08-08T00:00:00",
          "2009-08-09T00:00:00",
          "2009-08-10T00:00:00",
          "2009-08-11T00:00:00",
          "2009-08-12T00:00:00",
          "2009-08-13T00:00:00",
          "2009-08-14T00:00:00",
          "2009-08-15T00:00:00",
          "2009-08-16T00:00:00",
          "2009-08-17T00:00:00",
          "2009-08-18T00:00:00",
          "2009-08-19T00:00:00",
          "2009-08-20T00:00:00",
          "2009-08-21T00:00:00",
          "2009-08-22T00:00:00",
          "2009-08-23T00:00:00",
          "2009-08-24T00:00:00",
          "2009-08-25T00:00:00",
          "2009-08-26T00:00:00",
          "2009-08-27T00:00:00",
          "2009-08-28T00:00:00",
          "2009-08-29T00:00:00",
          "2009-08-30T00:00:00",
          "2009-08-31T00:00:00",
          "2009-09-01T00:00:00",
          "2009-09-02T00:00:00",
          "2009-09-03T00:00:00",
          "2009-09-04T00:00:00",
          "2009-09-05T00:00:00",
          "2009-09-06T00:00:00",
          "2009-09-07T00:00:00",
          "2009-09-08T00:00:00",
          "2009-09-09T00:00:00",
          "2009-09-10T00:00:00",
          "2009-09-11T00:00:00",
          "2009-09-12T00:00:00",
          "2009-09-13T00:00:00",
          "2009-09-14T00:00:00",
          "2009-09-15T00:00:00",
          "2009-09-16T00:00:00",
          "2009-09-17T00:00:00",
          "2009-09-18T00:00:00",
          "2009-09-19T00:00:00",
          "2009-09-20T00:00:00",
          "2009-09-21T00:00:00",
          "2009-09-22T00:00:00",
          "2009-09-23T00:00:00",
          "2009-09-24T00:00:00",
          "2009-09-25T00:00:00",
          "2009-09-26T00:00:00",
          "2009-09-27T00:00:00",
          "2009-09-28T00:00:00",
          "2009-09-29T00:00:00",
          "2009-09-30T00:00:00",
          "2009-10-01T00:00:00",
          "2009-10-02T00:00:00",
          "2009-10-03T00:00:00",
          "2009-10-04T00:00:00",
          "2009-10-05T00:00:00",
          "2009-10-06T00:00:00",
          "2009-10-07T00:00:00",
          "2009-10-08T00:00:00",
          "2009-10-09T00:00:00",
          "2009-10-10T00:00:00",
          "2009-10-11T00:00:00",
          "2009-10-12T00:00:00",
          "2009-10-13T00:00:00",
          "2009-10-14T00:00:00",
          "2009-10-15T00:00:00",
          "2009-10-16T00:00:00",
          "2009-10-17T00:00:00",
          "2009-10-18T00:00:00",
          "2009-10-19T00:00:00",
          "2009-10-20T00:00:00",
          "2009-10-21T00:00:00",
          "2009-10-22T00:00:00",
          "2009-10-23T00:00:00",
          "2009-10-24T00:00:00",
          "2009-10-25T00:00:00",
          "2009-10-26T00:00:00",
          "2009-10-27T00:00:00",
          "2009-10-28T00:00:00",
          "2009-10-29T00:00:00",
          "2009-10-30T00:00:00",
          "2009-10-31T00:00:00",
          "2009-11-01T00:00:00",
          "2009-11-02T00:00:00",
          "2009-11-03T00:00:00",
          "2009-11-04T00:00:00",
          "2009-11-05T00:00:00",
          "2009-11-06T00:00:00",
          "2009-11-07T00:00:00",
          "2009-11-08T00:00:00",
          "2009-11-09T00:00:00",
          "2009-11-10T00:00:00",
          "2009-11-11T00:00:00",
          "2009-11-12T00:00:00",
          "2009-11-13T00:00:00",
          "2009-11-14T00:00:00",
          "2009-11-15T00:00:00",
          "2009-11-16T00:00:00",
          "2009-11-17T00:00:00",
          "2009-11-18T00:00:00",
          "2009-11-19T00:00:00",
          "2009-11-20T00:00:00",
          "2009-11-21T00:00:00",
          "2009-11-22T00:00:00",
          "2009-11-23T00:00:00",
          "2009-11-24T00:00:00",
          "2009-11-25T00:00:00",
          "2009-11-26T00:00:00",
          "2009-11-27T00:00:00",
          "2009-11-28T00:00:00",
          "2009-11-29T00:00:00",
          "2009-11-30T00:00:00",
          "2009-12-01T00:00:00"
         ],
         "y": [
          0,
          0,
          0,
          0,
          0,
          0,
          0,
          0,
          0,
          0,
          2,
          0,
          4,
          2,
          0,
          0,
          0,
          4,
          0,
          8,
          0,
          4,
          0,
          0,
          2,
          0,
          0,
          0,
          0,
          0,
          0,
          0,
          0,
          0,
          0,
          0,
          0,
          0,
          0,
          0,
          0,
          0,
          0,
          0,
          0,
          0,
          0,
          0,
          0,
          0,
          0,
          0,
          0,
          0,
          0,
          0,
          0,
          0,
          0,
          0,
          0,
          0,
          0,
          0,
          0,
          0,
          0,
          0,
          0,
          0,
          0,
          0,
          0,
          0,
          0,
          0,
          0,
          0,
          0,
          0,
          0,
          0,
          0,
          0,
          0,
          0,
          0,
          0,
          0,
          0,
          0,
          0,
          0,
          0,
          0,
          0,
          0,
          0,
          0,
          0,
          0,
          0,
          0,
          0,
          0,
          0,
          0,
          0,
          0,
          0,
          0,
          0,
          0,
          0,
          0,
          0,
          0,
          0,
          0,
          0,
          0,
          0,
          0,
          0,
          0,
          0,
          0,
          0,
          0,
          0,
          0,
          0,
          0,
          0,
          0,
          0,
          0,
          0,
          0,
          0,
          0,
          0,
          0,
          0,
          0,
          0,
          0,
          0,
          0,
          0,
          0,
          0,
          0,
          0,
          0,
          0,
          0,
          0,
          0,
          0,
          0,
          0,
          0,
          0,
          0,
          0,
          0,
          0,
          0,
          0,
          0,
          0,
          0,
          0,
          0,
          0,
          0,
          0,
          0,
          0,
          0,
          0,
          0,
          0,
          0,
          0,
          0,
          0,
          0,
          0,
          0,
          0,
          0,
          0,
          0,
          0,
          0,
          0,
          0,
          0,
          0,
          0,
          0,
          0,
          0,
          0,
          0,
          0,
          0,
          0,
          0,
          0,
          0,
          0,
          0,
          0,
          0,
          0,
          0,
          0,
          0,
          0,
          0,
          0,
          0,
          0,
          0,
          0,
          0,
          0,
          0,
          0,
          0,
          0,
          0,
          0,
          0,
          0,
          0,
          0,
          0,
          0,
          0,
          0,
          0,
          0,
          0,
          0,
          0,
          0,
          0,
          0,
          0,
          0,
          0,
          0,
          0,
          0,
          0,
          0,
          0,
          0,
          0,
          0,
          0,
          0,
          0,
          0,
          0,
          0,
          0,
          0,
          0,
          0,
          0,
          0,
          0,
          0,
          0,
          0,
          0,
          0,
          0,
          0,
          0,
          0,
          0,
          0,
          0,
          0,
          0,
          0,
          0,
          0,
          0,
          0,
          0,
          0,
          0,
          0,
          0,
          0,
          0,
          0,
          0,
          0,
          0,
          0,
          0,
          0,
          0,
          0,
          0,
          0,
          0,
          0,
          0,
          0,
          0,
          0,
          0,
          0,
          0,
          0,
          0,
          0,
          0,
          0,
          0,
          0,
          0,
          0,
          0,
          0,
          0,
          0,
          0,
          0,
          0,
          0,
          0,
          0,
          0,
          0,
          0,
          0,
          0,
          0,
          0,
          0,
          0,
          0,
          0,
          0,
          0,
          0,
          0,
          0,
          0,
          0,
          0,
          0,
          0,
          0,
          0,
          0,
          0,
          0,
          0,
          0,
          0,
          6,
          0,
          0,
          0,
          0,
          0,
          0,
          0,
          0,
          0,
          8,
          4,
          0,
          0,
          0,
          0,
          0,
          0,
          0,
          0,
          0,
          0,
          0,
          0,
          0,
          0,
          0,
          0,
          0,
          0,
          0,
          0,
          0,
          0,
          0,
          0,
          0,
          0,
          0,
          0,
          0,
          0,
          0,
          0,
          0,
          0,
          0,
          0,
          0,
          0,
          0,
          0,
          0,
          0,
          0,
          0,
          0,
          0,
          0,
          0,
          0,
          0,
          0,
          0,
          0,
          0,
          0,
          0,
          0,
          0,
          0,
          0,
          0,
          0,
          0,
          0,
          0,
          0,
          0,
          0,
          0,
          0,
          0,
          0,
          0,
          0,
          0,
          0,
          0,
          0,
          0,
          0,
          0,
          0,
          0,
          0,
          0,
          0,
          0,
          0,
          0,
          0,
          0,
          0,
          0,
          0,
          0,
          0,
          0,
          0,
          0,
          0,
          0,
          0,
          0,
          0,
          0,
          0,
          0,
          0,
          0,
          0,
          0,
          0,
          0,
          0,
          0,
          0,
          0,
          0,
          0,
          0,
          0,
          0,
          0,
          0,
          0,
          0,
          0,
          0,
          0,
          0,
          0,
          0,
          0,
          0,
          0,
          0,
          0,
          0,
          0,
          0,
          0,
          0,
          0,
          0,
          0,
          0,
          0,
          0,
          0,
          0,
          0,
          0,
          0,
          0,
          0,
          0,
          0,
          0,
          0,
          0,
          0,
          0,
          0,
          0,
          0,
          0,
          0,
          0,
          0,
          0,
          0,
          0,
          0,
          0,
          0,
          0,
          0,
          0,
          0,
          0,
          0,
          0,
          0,
          0,
          0,
          0,
          0,
          0,
          0,
          0,
          0,
          0,
          0,
          0,
          0,
          0,
          0,
          0,
          0,
          0,
          0,
          0,
          0,
          0,
          0,
          0,
          0,
          0,
          0,
          0,
          0,
          0,
          0,
          0,
          0,
          0,
          0,
          0,
          0,
          0,
          0,
          0,
          0,
          0,
          0,
          0,
          0,
          0,
          0,
          0,
          0,
          0,
          0,
          0,
          0,
          0,
          0,
          0,
          0,
          0,
          0,
          0,
          0,
          0,
          0,
          0,
          0,
          0,
          0,
          0,
          0,
          0,
          0,
          0,
          0,
          0,
          0,
          0,
          0,
          0,
          0,
          0,
          0,
          0,
          0,
          0,
          0,
          0,
          0,
          0,
          0,
          0,
          0,
          0,
          0,
          0,
          0,
          0,
          0,
          0,
          0,
          0,
          0,
          0,
          0,
          0,
          0,
          0,
          0,
          0,
          0,
          0,
          0,
          0,
          0,
          0,
          0,
          0,
          0,
          0,
          0,
          0,
          0,
          0,
          0,
          0,
          0,
          0,
          0,
          0,
          0,
          0,
          0,
          0,
          0,
          0,
          0,
          0,
          0,
          0,
          0,
          0,
          0,
          0,
          0,
          0,
          0,
          0,
          0,
          0,
          0,
          0,
          0,
          0,
          0,
          0,
          0,
          0,
          0,
          0,
          0,
          0,
          0,
          0,
          0,
          0,
          0,
          0,
          0,
          0,
          0,
          0,
          0,
          0,
          0,
          0,
          2,
          0,
          2,
          0,
          10,
          0,
          4,
          0,
          0,
          0,
          6,
          0,
          0,
          0,
          0
         ]
        }
       ],
       "layout": {
        "height": 700,
        "legend": {
         "title": {
          "text": "Species"
         }
        },
        "template": {
         "data": {
          "bar": [
           {
            "error_x": {
             "color": "#2a3f5f"
            },
            "error_y": {
             "color": "#2a3f5f"
            },
            "marker": {
             "line": {
              "color": "#E5ECF6",
              "width": 0.5
             },
             "pattern": {
              "fillmode": "overlay",
              "size": 10,
              "solidity": 0.2
             }
            },
            "type": "bar"
           }
          ],
          "barpolar": [
           {
            "marker": {
             "line": {
              "color": "#E5ECF6",
              "width": 0.5
             },
             "pattern": {
              "fillmode": "overlay",
              "size": 10,
              "solidity": 0.2
             }
            },
            "type": "barpolar"
           }
          ],
          "carpet": [
           {
            "aaxis": {
             "endlinecolor": "#2a3f5f",
             "gridcolor": "white",
             "linecolor": "white",
             "minorgridcolor": "white",
             "startlinecolor": "#2a3f5f"
            },
            "baxis": {
             "endlinecolor": "#2a3f5f",
             "gridcolor": "white",
             "linecolor": "white",
             "minorgridcolor": "white",
             "startlinecolor": "#2a3f5f"
            },
            "type": "carpet"
           }
          ],
          "choropleth": [
           {
            "colorbar": {
             "outlinewidth": 0,
             "ticks": ""
            },
            "type": "choropleth"
           }
          ],
          "contour": [
           {
            "colorbar": {
             "outlinewidth": 0,
             "ticks": ""
            },
            "colorscale": [
             [
              0,
              "#0d0887"
             ],
             [
              0.1111111111111111,
              "#46039f"
             ],
             [
              0.2222222222222222,
              "#7201a8"
             ],
             [
              0.3333333333333333,
              "#9c179e"
             ],
             [
              0.4444444444444444,
              "#bd3786"
             ],
             [
              0.5555555555555556,
              "#d8576b"
             ],
             [
              0.6666666666666666,
              "#ed7953"
             ],
             [
              0.7777777777777778,
              "#fb9f3a"
             ],
             [
              0.8888888888888888,
              "#fdca26"
             ],
             [
              1,
              "#f0f921"
             ]
            ],
            "type": "contour"
           }
          ],
          "contourcarpet": [
           {
            "colorbar": {
             "outlinewidth": 0,
             "ticks": ""
            },
            "type": "contourcarpet"
           }
          ],
          "heatmap": [
           {
            "colorbar": {
             "outlinewidth": 0,
             "ticks": ""
            },
            "colorscale": [
             [
              0,
              "#0d0887"
             ],
             [
              0.1111111111111111,
              "#46039f"
             ],
             [
              0.2222222222222222,
              "#7201a8"
             ],
             [
              0.3333333333333333,
              "#9c179e"
             ],
             [
              0.4444444444444444,
              "#bd3786"
             ],
             [
              0.5555555555555556,
              "#d8576b"
             ],
             [
              0.6666666666666666,
              "#ed7953"
             ],
             [
              0.7777777777777778,
              "#fb9f3a"
             ],
             [
              0.8888888888888888,
              "#fdca26"
             ],
             [
              1,
              "#f0f921"
             ]
            ],
            "type": "heatmap"
           }
          ],
          "heatmapgl": [
           {
            "colorbar": {
             "outlinewidth": 0,
             "ticks": ""
            },
            "colorscale": [
             [
              0,
              "#0d0887"
             ],
             [
              0.1111111111111111,
              "#46039f"
             ],
             [
              0.2222222222222222,
              "#7201a8"
             ],
             [
              0.3333333333333333,
              "#9c179e"
             ],
             [
              0.4444444444444444,
              "#bd3786"
             ],
             [
              0.5555555555555556,
              "#d8576b"
             ],
             [
              0.6666666666666666,
              "#ed7953"
             ],
             [
              0.7777777777777778,
              "#fb9f3a"
             ],
             [
              0.8888888888888888,
              "#fdca26"
             ],
             [
              1,
              "#f0f921"
             ]
            ],
            "type": "heatmapgl"
           }
          ],
          "histogram": [
           {
            "marker": {
             "pattern": {
              "fillmode": "overlay",
              "size": 10,
              "solidity": 0.2
             }
            },
            "type": "histogram"
           }
          ],
          "histogram2d": [
           {
            "colorbar": {
             "outlinewidth": 0,
             "ticks": ""
            },
            "colorscale": [
             [
              0,
              "#0d0887"
             ],
             [
              0.1111111111111111,
              "#46039f"
             ],
             [
              0.2222222222222222,
              "#7201a8"
             ],
             [
              0.3333333333333333,
              "#9c179e"
             ],
             [
              0.4444444444444444,
              "#bd3786"
             ],
             [
              0.5555555555555556,
              "#d8576b"
             ],
             [
              0.6666666666666666,
              "#ed7953"
             ],
             [
              0.7777777777777778,
              "#fb9f3a"
             ],
             [
              0.8888888888888888,
              "#fdca26"
             ],
             [
              1,
              "#f0f921"
             ]
            ],
            "type": "histogram2d"
           }
          ],
          "histogram2dcontour": [
           {
            "colorbar": {
             "outlinewidth": 0,
             "ticks": ""
            },
            "colorscale": [
             [
              0,
              "#0d0887"
             ],
             [
              0.1111111111111111,
              "#46039f"
             ],
             [
              0.2222222222222222,
              "#7201a8"
             ],
             [
              0.3333333333333333,
              "#9c179e"
             ],
             [
              0.4444444444444444,
              "#bd3786"
             ],
             [
              0.5555555555555556,
              "#d8576b"
             ],
             [
              0.6666666666666666,
              "#ed7953"
             ],
             [
              0.7777777777777778,
              "#fb9f3a"
             ],
             [
              0.8888888888888888,
              "#fdca26"
             ],
             [
              1,
              "#f0f921"
             ]
            ],
            "type": "histogram2dcontour"
           }
          ],
          "mesh3d": [
           {
            "colorbar": {
             "outlinewidth": 0,
             "ticks": ""
            },
            "type": "mesh3d"
           }
          ],
          "parcoords": [
           {
            "line": {
             "colorbar": {
              "outlinewidth": 0,
              "ticks": ""
             }
            },
            "type": "parcoords"
           }
          ],
          "pie": [
           {
            "automargin": true,
            "type": "pie"
           }
          ],
          "scatter": [
           {
            "fillpattern": {
             "fillmode": "overlay",
             "size": 10,
             "solidity": 0.2
            },
            "type": "scatter"
           }
          ],
          "scatter3d": [
           {
            "line": {
             "colorbar": {
              "outlinewidth": 0,
              "ticks": ""
             }
            },
            "marker": {
             "colorbar": {
              "outlinewidth": 0,
              "ticks": ""
             }
            },
            "type": "scatter3d"
           }
          ],
          "scattercarpet": [
           {
            "marker": {
             "colorbar": {
              "outlinewidth": 0,
              "ticks": ""
             }
            },
            "type": "scattercarpet"
           }
          ],
          "scattergeo": [
           {
            "marker": {
             "colorbar": {
              "outlinewidth": 0,
              "ticks": ""
             }
            },
            "type": "scattergeo"
           }
          ],
          "scattergl": [
           {
            "marker": {
             "colorbar": {
              "outlinewidth": 0,
              "ticks": ""
             }
            },
            "type": "scattergl"
           }
          ],
          "scattermapbox": [
           {
            "marker": {
             "colorbar": {
              "outlinewidth": 0,
              "ticks": ""
             }
            },
            "type": "scattermapbox"
           }
          ],
          "scatterpolar": [
           {
            "marker": {
             "colorbar": {
              "outlinewidth": 0,
              "ticks": ""
             }
            },
            "type": "scatterpolar"
           }
          ],
          "scatterpolargl": [
           {
            "marker": {
             "colorbar": {
              "outlinewidth": 0,
              "ticks": ""
             }
            },
            "type": "scatterpolargl"
           }
          ],
          "scatterternary": [
           {
            "marker": {
             "colorbar": {
              "outlinewidth": 0,
              "ticks": ""
             }
            },
            "type": "scatterternary"
           }
          ],
          "surface": [
           {
            "colorbar": {
             "outlinewidth": 0,
             "ticks": ""
            },
            "colorscale": [
             [
              0,
              "#0d0887"
             ],
             [
              0.1111111111111111,
              "#46039f"
             ],
             [
              0.2222222222222222,
              "#7201a8"
             ],
             [
              0.3333333333333333,
              "#9c179e"
             ],
             [
              0.4444444444444444,
              "#bd3786"
             ],
             [
              0.5555555555555556,
              "#d8576b"
             ],
             [
              0.6666666666666666,
              "#ed7953"
             ],
             [
              0.7777777777777778,
              "#fb9f3a"
             ],
             [
              0.8888888888888888,
              "#fdca26"
             ],
             [
              1,
              "#f0f921"
             ]
            ],
            "type": "surface"
           }
          ],
          "table": [
           {
            "cells": {
             "fill": {
              "color": "#EBF0F8"
             },
             "line": {
              "color": "white"
             }
            },
            "header": {
             "fill": {
              "color": "#C8D4E3"
             },
             "line": {
              "color": "white"
             }
            },
            "type": "table"
           }
          ]
         },
         "layout": {
          "annotationdefaults": {
           "arrowcolor": "#2a3f5f",
           "arrowhead": 0,
           "arrowwidth": 1
          },
          "autotypenumbers": "strict",
          "coloraxis": {
           "colorbar": {
            "outlinewidth": 0,
            "ticks": ""
           }
          },
          "colorscale": {
           "diverging": [
            [
             0,
             "#8e0152"
            ],
            [
             0.1,
             "#c51b7d"
            ],
            [
             0.2,
             "#de77ae"
            ],
            [
             0.3,
             "#f1b6da"
            ],
            [
             0.4,
             "#fde0ef"
            ],
            [
             0.5,
             "#f7f7f7"
            ],
            [
             0.6,
             "#e6f5d0"
            ],
            [
             0.7,
             "#b8e186"
            ],
            [
             0.8,
             "#7fbc41"
            ],
            [
             0.9,
             "#4d9221"
            ],
            [
             1,
             "#276419"
            ]
           ],
           "sequential": [
            [
             0,
             "#0d0887"
            ],
            [
             0.1111111111111111,
             "#46039f"
            ],
            [
             0.2222222222222222,
             "#7201a8"
            ],
            [
             0.3333333333333333,
             "#9c179e"
            ],
            [
             0.4444444444444444,
             "#bd3786"
            ],
            [
             0.5555555555555556,
             "#d8576b"
            ],
            [
             0.6666666666666666,
             "#ed7953"
            ],
            [
             0.7777777777777778,
             "#fb9f3a"
            ],
            [
             0.8888888888888888,
             "#fdca26"
            ],
            [
             1,
             "#f0f921"
            ]
           ],
           "sequentialminus": [
            [
             0,
             "#0d0887"
            ],
            [
             0.1111111111111111,
             "#46039f"
            ],
            [
             0.2222222222222222,
             "#7201a8"
            ],
            [
             0.3333333333333333,
             "#9c179e"
            ],
            [
             0.4444444444444444,
             "#bd3786"
            ],
            [
             0.5555555555555556,
             "#d8576b"
            ],
            [
             0.6666666666666666,
             "#ed7953"
            ],
            [
             0.7777777777777778,
             "#fb9f3a"
            ],
            [
             0.8888888888888888,
             "#fdca26"
            ],
            [
             1,
             "#f0f921"
            ]
           ]
          },
          "colorway": [
           "#636efa",
           "#EF553B",
           "#00cc96",
           "#ab63fa",
           "#FFA15A",
           "#19d3f3",
           "#FF6692",
           "#B6E880",
           "#FF97FF",
           "#FECB52"
          ],
          "font": {
           "color": "#2a3f5f"
          },
          "geo": {
           "bgcolor": "white",
           "lakecolor": "white",
           "landcolor": "#E5ECF6",
           "showlakes": true,
           "showland": true,
           "subunitcolor": "white"
          },
          "hoverlabel": {
           "align": "left"
          },
          "hovermode": "closest",
          "mapbox": {
           "style": "light"
          },
          "paper_bgcolor": "white",
          "plot_bgcolor": "#E5ECF6",
          "polar": {
           "angularaxis": {
            "gridcolor": "white",
            "linecolor": "white",
            "ticks": ""
           },
           "bgcolor": "#E5ECF6",
           "radialaxis": {
            "gridcolor": "white",
            "linecolor": "white",
            "ticks": ""
           }
          },
          "scene": {
           "xaxis": {
            "backgroundcolor": "#E5ECF6",
            "gridcolor": "white",
            "gridwidth": 2,
            "linecolor": "white",
            "showbackground": true,
            "ticks": "",
            "zerolinecolor": "white"
           },
           "yaxis": {
            "backgroundcolor": "#E5ECF6",
            "gridcolor": "white",
            "gridwidth": 2,
            "linecolor": "white",
            "showbackground": true,
            "ticks": "",
            "zerolinecolor": "white"
           },
           "zaxis": {
            "backgroundcolor": "#E5ECF6",
            "gridcolor": "white",
            "gridwidth": 2,
            "linecolor": "white",
            "showbackground": true,
            "ticks": "",
            "zerolinecolor": "white"
           }
          },
          "shapedefaults": {
           "line": {
            "color": "#2a3f5f"
           }
          },
          "ternary": {
           "aaxis": {
            "gridcolor": "white",
            "linecolor": "white",
            "ticks": ""
           },
           "baxis": {
            "gridcolor": "white",
            "linecolor": "white",
            "ticks": ""
           },
           "bgcolor": "#E5ECF6",
           "caxis": {
            "gridcolor": "white",
            "linecolor": "white",
            "ticks": ""
           }
          },
          "title": {
           "x": 0.05
          },
          "xaxis": {
           "automargin": true,
           "gridcolor": "white",
           "linecolor": "white",
           "ticks": "",
           "title": {
            "standoff": 15
           },
           "zerolinecolor": "white",
           "zerolinewidth": 2
          },
          "yaxis": {
           "automargin": true,
           "gridcolor": "white",
           "linecolor": "white",
           "ticks": "",
           "title": {
            "standoff": 15
           },
           "zerolinecolor": "white",
           "zerolinewidth": 2
          }
         }
        },
        "title": {
         "text": "Number of Penguins Born by Date"
        },
        "width": 900,
        "xaxis": {
         "title": {
          "text": "Date"
         }
        },
        "yaxis": {
         "title": {
          "text": "Hatch Count"
         }
        }
       }
      }
     },
     "metadata": {},
     "output_type": "display_data"
    }
   ],
   "source": [
    "fig = go.Figure()\n",
    "fig.add_trace(\n",
    "    go.Scatter(\n",
    "        x = date_species_penguin.index,    \n",
    "        y = date_species_penguin['Adelie Penguin (Pygoscelis adeliae)'],\n",
    "        mode='lines+markers+text',\n",
    "        name='Adelie Penguin',    \n",
    "        text=date_species_penguin['Adelie Penguin (Pygoscelis adeliae)'],    \n",
    "        textposition='top center',    \n",
    "        marker=dict(size=8, color='blue'),    \n",
    "        line=dict(color='blue')\n",
    "    )\n",
    ")\n",
    "fig.add_trace(\n",
    "    go.Scatter(    \n",
    "        x=date_species_penguin.index,    \n",
    "        y=date_species_penguin['Gentoo penguin (Pygoscelis papua)'],    \n",
    "        mode='lines+markers+text',    \n",
    "        name='Gentoo Penguin',    \n",
    "        text=date_species_penguin['Gentoo penguin (Pygoscelis papua)'],    \n",
    "        textposition='top center',    \n",
    "        marker=dict(size=8, color='green'),    \n",
    "        line=dict(color='green')\n",
    "    )\n",
    ")\n",
    "fig.add_trace(\n",
    "    go.Scatter(    \n",
    "        x = date_species_penguin.index,    \n",
    "        y = date_species_penguin['Chinstrap penguin (Pygoscelis antarctica)'],    \n",
    "        mode = 'lines+markers+text',    \n",
    "        name = 'Chinstrap Penguin',    \n",
    "        text = date_species_penguin['Chinstrap penguin (Pygoscelis antarctica)'],    \n",
    "        textposition = 'top center',    \n",
    "        marker = dict(\n",
    "            size = 8, \n",
    "            color = 'red'),    \n",
    "            line = dict(color = 'red')\n",
    "    )\n",
    ")\n",
    "fig.update_layout(\n",
    "    title=\"Number of Penguins Born by Date\",    \n",
    "    xaxis_title=\"Date\",    \n",
    "    yaxis_title=\"Hatch Count\",    \n",
    "    legend_title=\"Species\",    \n",
    "    width=900,    \n",
    "    height=700\n",
    ")"
   ]
  }
 ],
 "metadata": {
  "kernelspec": {
   "display_name": "ydpdata",
   "language": "python",
   "name": "python3"
  },
  "language_info": {
   "codemirror_mode": {
    "name": "ipython",
    "version": 3
   },
   "file_extension": ".py",
   "mimetype": "text/x-python",
   "name": "python",
   "nbconvert_exporter": "python",
   "pygments_lexer": "ipython3",
   "version": "3.12.4"
  }
 },
 "nbformat": 4,
 "nbformat_minor": 2
}
